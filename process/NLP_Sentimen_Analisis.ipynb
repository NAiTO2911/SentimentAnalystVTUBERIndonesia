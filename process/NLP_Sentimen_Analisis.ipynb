{
  "cells": [
    {
      "cell_type": "markdown",
      "metadata": {
        "id": "WmGhnRujFfTC"
      },
      "source": [
        "# Analisis Sentimen\n",
        "\n",
        "Melakukan analisis sentimen pada data hasil crawling"
      ]
    },
    {
      "cell_type": "markdown",
      "metadata": {
        "id": "dHpx5wiLFfTH"
      },
      "source": [
        "## 1. Import Libraries\n",
        "\n",
        "Import library yang akan digunakan"
      ]
    },
    {
      "cell_type": "code",
      "execution_count": 1,
      "metadata": {
        "colab": {
          "base_uri": "https://localhost:8080/"
        },
        "id": "VWtVzsAWFfTI",
        "outputId": "d92339f0-cf2c-4f29-89c9-4184f8b8489d"
      },
      "outputs": [
        {
          "name": "stderr",
          "output_type": "stream",
          "text": [
            "[nltk_data] Downloading package punkt to\n",
            "[nltk_data]     C:\\Users\\rbriz\\AppData\\Roaming\\nltk_data...\n",
            "[nltk_data]   Package punkt is already up-to-date!\n"
          ]
        },
        {
          "data": {
            "text/plain": [
              "True"
            ]
          },
          "execution_count": 1,
          "metadata": {},
          "output_type": "execute_result"
        }
      ],
      "source": [
        "\n",
        "import os, re, json, string, pickle\n",
        "\n",
        "import nltk\n",
        "import pandas as pd\n",
        "import numpy as np\n",
        "import matplotlib.pyplot as plt\n",
        "import seaborn as sns\n",
        "\n",
        "from datetime import datetime\n",
        "from nltk.tokenize import word_tokenize\n",
        "from sklearn.feature_extraction.text import TfidfVectorizer\n",
        "from sklearn.feature_extraction.text import CountVectorizer\n",
        "from Sastrawi.Stemmer.StemmerFactory import StemmerFactory\n",
        "\n",
        "nltk.download('punkt')"
      ]
    },
    {
      "cell_type": "code",
      "execution_count": 2,
      "metadata": {},
      "outputs": [
        {
          "data": {
            "text/html": [
              "<div>\n",
              "<style scoped>\n",
              "    .dataframe tbody tr th:only-of-type {\n",
              "        vertical-align: middle;\n",
              "    }\n",
              "\n",
              "    .dataframe tbody tr th {\n",
              "        vertical-align: top;\n",
              "    }\n",
              "\n",
              "    .dataframe thead th {\n",
              "        text-align: right;\n",
              "    }\n",
              "</style>\n",
              "<table border=\"1\" class=\"dataframe\">\n",
              "  <thead>\n",
              "    <tr style=\"text-align: right;\">\n",
              "      <th></th>\n",
              "      <th>Date</th>\n",
              "      <th>Content</th>\n",
              "    </tr>\n",
              "  </thead>\n",
              "  <tbody>\n",
              "    <tr>\n",
              "      <th>0</th>\n",
              "      <td>2022-04-08 02:26:38+00:00</td>\n",
              "      <td>b'@MythiaVTuber canggung kenapa \\xf0\\x9f\\x98\\x...</td>\n",
              "    </tr>\n",
              "    <tr>\n",
              "      <th>1</th>\n",
              "      <td>2022-04-08 01:54:44+00:00</td>\n",
              "      <td>b'@MythiaVTuber Apa aja bebas yang penting enak'</td>\n",
              "    </tr>\n",
              "    <tr>\n",
              "      <th>2</th>\n",
              "      <td>2022-04-08 01:51:28+00:00</td>\n",
              "      <td>b'@MythiaVTuber Waduh, abang-abangan nih\\xf0\\x...</td>\n",
              "    </tr>\n",
              "    <tr>\n",
              "      <th>3</th>\n",
              "      <td>2022-04-08 01:40:46+00:00</td>\n",
              "      <td>b'@MythiaVTuber ini kak https://t.co/zwEAdqagXV'</td>\n",
              "    </tr>\n",
              "    <tr>\n",
              "      <th>4</th>\n",
              "      <td>2022-04-08 00:35:13+00:00</td>\n",
              "      <td>b'@MythiaVTuber Astaga kalian berdua aowkkwkw'</td>\n",
              "    </tr>\n",
              "    <tr>\n",
              "      <th>5</th>\n",
              "      <td>2022-04-07 20:19:22+00:00</td>\n",
              "      <td>b'@MythiaVTuber Gila! Jam 23:41 belum tidur. A...</td>\n",
              "    </tr>\n",
              "    <tr>\n",
              "      <th>6</th>\n",
              "      <td>2022-04-07 20:13:55+00:00</td>\n",
              "      <td>b'@MythiaVTuber Ya ampun \\xf0\\x9f\\x98\\xad\\xf0\\...</td>\n",
              "    </tr>\n",
              "    <tr>\n",
              "      <th>7</th>\n",
              "      <td>2022-04-07 19:49:32+00:00</td>\n",
              "      <td>b'@KeigoAria @MythiaVTuber Lautan asin , bisa\"...</td>\n",
              "    </tr>\n",
              "    <tr>\n",
              "      <th>8</th>\n",
              "      <td>2022-04-07 18:17:45+00:00</td>\n",
              "      <td>b'@MythiaVTuber Ga ngerti tolong di jelaskan'</td>\n",
              "    </tr>\n",
              "    <tr>\n",
              "      <th>9</th>\n",
              "      <td>2022-04-07 17:50:23+00:00</td>\n",
              "      <td>b'@MythiaVTuber Ari si anak tersesat\\xf0\\x9f\\x...</td>\n",
              "    </tr>\n",
              "  </tbody>\n",
              "</table>\n",
              "</div>"
            ],
            "text/plain": [
              "                        Date  \\\n",
              "0  2022-04-08 02:26:38+00:00   \n",
              "1  2022-04-08 01:54:44+00:00   \n",
              "2  2022-04-08 01:51:28+00:00   \n",
              "3  2022-04-08 01:40:46+00:00   \n",
              "4  2022-04-08 00:35:13+00:00   \n",
              "5  2022-04-07 20:19:22+00:00   \n",
              "6  2022-04-07 20:13:55+00:00   \n",
              "7  2022-04-07 19:49:32+00:00   \n",
              "8  2022-04-07 18:17:45+00:00   \n",
              "9  2022-04-07 17:50:23+00:00   \n",
              "\n",
              "                                             Content  \n",
              "0  b'@MythiaVTuber canggung kenapa \\xf0\\x9f\\x98\\x...  \n",
              "1   b'@MythiaVTuber Apa aja bebas yang penting enak'  \n",
              "2  b'@MythiaVTuber Waduh, abang-abangan nih\\xf0\\x...  \n",
              "3   b'@MythiaVTuber ini kak https://t.co/zwEAdqagXV'  \n",
              "4     b'@MythiaVTuber Astaga kalian berdua aowkkwkw'  \n",
              "5  b'@MythiaVTuber Gila! Jam 23:41 belum tidur. A...  \n",
              "6  b'@MythiaVTuber Ya ampun \\xf0\\x9f\\x98\\xad\\xf0\\...  \n",
              "7  b'@KeigoAria @MythiaVTuber Lautan asin , bisa\"...  \n",
              "8      b'@MythiaVTuber Ga ngerti tolong di jelaskan'  \n",
              "9  b'@MythiaVTuber Ari si anak tersesat\\xf0\\x9f\\x...  "
            ]
          },
          "execution_count": 2,
          "metadata": {},
          "output_type": "execute_result"
        }
      ],
      "source": [
        "data = pd.read_csv('bigdata.csv')\n",
        "data.head(10)"
      ]
    },
    {
      "cell_type": "markdown",
      "metadata": {
        "id": "TSFRonHDFfTK"
      },
      "source": [
        "## 2. Load Dataset\n",
        "\n",
        "Load data ke memmory menggunakan library pandas."
      ]
    },
    {
      "cell_type": "markdown",
      "metadata": {
        "id": "Npl5RqMlFfTL"
      },
      "source": [
        "**Menggabungkan data**\n",
        "\n",
        "Menggabungkan 3 dataset tersebut menjadi satu"
      ]
    },
    {
      "cell_type": "code",
      "execution_count": 3,
      "metadata": {
        "id": "fYxrkSqSFfTN"
      },
      "outputs": [],
      "source": [
        "# Cleanner \n",
        "def cleaning(text):\n",
        "  text = text[2:]\n",
        "  text = text.replace('\\\\n',' ')\n",
        "  return text"
      ]
    },
    {
      "cell_type": "code",
      "execution_count": 4,
      "metadata": {
        "colab": {
          "base_uri": "https://localhost:8080/"
        },
        "id": "bOKM429RFfTO",
        "outputId": "4d67b195-f77b-48e6-f335-a5135a7f2ac3"
      },
      "outputs": [
        {
          "data": {
            "text/plain": [
              "array([\"@MythiaVTuber canggung kenapa \\\\xf0\\\\x9f\\\\x98\\\\xb3\\\\xf0\\\\x9f\\\\x91\\\\x89\\\\xf0\\\\x9f\\\\x8f\\\\xbb\\\\xf0\\\\x9f\\\\x91\\\\x88\\\\xf0\\\\x9f\\\\x8f\\\\xbb, takut kakak tiba2 nyulik aku kah? \\\\xf0\\\\x9f\\\\x98\\\\xb3\\\\xf0\\\\x9f\\\\x91\\\\x89\\\\xf0\\\\x9f\\\\x8f\\\\xbb\\\\xf0\\\\x9f\\\\x91\\\\x88\\\\xf0\\\\x9f\\\\x8f\\\\xbb'\",\n",
              "       \"@MythiaVTuber Apa aja bebas yang penting enak'\",\n",
              "       \"@MythiaVTuber Waduh, abang-abangan nih\\\\xf0\\\\x9f\\\\xa4\\\\xad, btw andi adek nya banyak ya wkwkw'\",\n",
              "       ...,\n",
              "       \"@MentalMuHancur @kobokanaeru Selamat ulang tahun, jangan diulangin lagi'\",\n",
              "       \"celamatt babyy kobo ku @kobokanaeru \\\\xf0\\\\x9f\\\\x92\\\\x97 gbu'\",\n",
              "       \"@kobokanaeru yeayyy selamat ojou-sama \\\\xf0\\\\x9f\\\\xa5\\\\xb3\\\\xf0\\\\x9f\\\\xa5\\\\xb3\\\\xf0\\\\x9f\\\\xa5\\\\xb3'\"],\n",
              "      dtype=object)"
            ]
          },
          "execution_count": 4,
          "metadata": {},
          "output_type": "execute_result"
        }
      ],
      "source": [
        "data['Content'] =  data['Content'].apply(lambda x : cleaning(x))\n",
        "data['Content'].values"
      ]
    },
    {
      "cell_type": "markdown",
      "metadata": {
        "id": "m7vYe-ZeFfTP"
      },
      "source": [
        "## 2. Data Preprocessing\n",
        "\n",
        "Preprocess data text sebelum diolah"
      ]
    },
    {
      "cell_type": "markdown",
      "metadata": {
        "id": "1bHFsbc8FfTP"
      },
      "source": [
        "## 2.1. Stemmer\n",
        "\n",
        "> Stemming merupakan suatu proses untuk menemukan kata dasar dari sebuah kata. Dengan menghilangkan semua imbuhan (affixes) baik yang terdiri dari awalan (prefixes), sisipan (infixes), akhiran (suffixes) dan confixes (kombinasi dari awalan dan akhiran) pada kata turunan. Stemming digunakan untuk mengganti bentuk dari suatu kata menjadi kata dasar dari kata tersebut yang sesuai dengan struktur morfologi Bahasa Indonesia yang baik dan benar.\n",
        "\n",
        "Membuat Stemmer menggunakan sastrawi."
      ]
    },
    {
      "cell_type": "code",
      "execution_count": 5,
      "metadata": {
        "id": "aOJVCN0BFfTQ"
      },
      "outputs": [],
      "source": [
        "# Create Sastrawi stemmer\n",
        "stemmer = StemmerFactory().create_stemmer()"
      ]
    },
    {
      "cell_type": "markdown",
      "metadata": {
        "id": "o1Mfj5h1FfTQ"
      },
      "source": [
        "## 2.2. Stopwords\n",
        "\n",
        "> Stop words adalah kata umum (common words) yang biasanya muncul dalam jumlah besar dan dianggap tidak memiliki makna.\n",
        "\n",
        "Akan dibuat list yang berisi stopword yang ada pada bahasa indonesia."
      ]
    },
    {
      "cell_type": "code",
      "execution_count": 6,
      "metadata": {
        "id": "laHci0gKFfTQ"
      },
      "outputs": [],
      "source": [
        "# Create Stopword\n",
        "with open(\"stopwords.txt\", \"r\") as f:\n",
        "    stop_words = f.readline()\n",
        "    stop_words = stop_words.split()"
      ]
    },
    {
      "cell_type": "markdown",
      "metadata": {
        "id": "_4LBSGgRFfTR"
      },
      "source": [
        "## 2.3. Preprocessing function\n",
        "\n",
        "Akan dilakukan beberapa tahap untuk preprocess data text agar siap digunakan, yaitu:\n",
        "\n",
        "1. Normalisasi karakter string menjadi huruf kecil\n",
        "2. Menghapus emoji\n",
        "3. Menghapus setiap url\n",
        "4. Menghapus tagging\n",
        "5. Menghapus whitespace\n",
        "6. Menghapus simbol '#' pada hashtag\n",
        "7. Menghapus angka\n",
        "8. Mengganti tanda baca menjadi '<spasi>'"
      ]
    },
    {
      "cell_type": "code",
      "execution_count": 7,
      "metadata": {
        "id": "5R5sJI-mFfTR"
      },
      "outputs": [
        {
          "data": {
            "text/html": [
              "<div>\n",
              "<style scoped>\n",
              "    .dataframe tbody tr th:only-of-type {\n",
              "        vertical-align: middle;\n",
              "    }\n",
              "\n",
              "    .dataframe tbody tr th {\n",
              "        vertical-align: top;\n",
              "    }\n",
              "\n",
              "    .dataframe thead th {\n",
              "        text-align: right;\n",
              "    }\n",
              "</style>\n",
              "<table border=\"1\" class=\"dataframe\">\n",
              "  <thead>\n",
              "    <tr style=\"text-align: right;\">\n",
              "      <th></th>\n",
              "      <th>Date</th>\n",
              "      <th>Content</th>\n",
              "    </tr>\n",
              "  </thead>\n",
              "  <tbody>\n",
              "    <tr>\n",
              "      <th>0</th>\n",
              "      <td>2022-04-08 02:26:38+00:00</td>\n",
              "      <td>canggung kenapa takut kakak tiba nyulik aku kah</td>\n",
              "    </tr>\n",
              "    <tr>\n",
              "      <th>1</th>\n",
              "      <td>2022-04-08 01:54:44+00:00</td>\n",
              "      <td>apa aja bebas yang penting enak</td>\n",
              "    </tr>\n",
              "    <tr>\n",
              "      <th>2</th>\n",
              "      <td>2022-04-08 01:51:28+00:00</td>\n",
              "      <td>waduh abang abangan nih btw andi adek nya ban...</td>\n",
              "    </tr>\n",
              "    <tr>\n",
              "      <th>3</th>\n",
              "      <td>2022-04-08 01:40:46+00:00</td>\n",
              "      <td>ini kak</td>\n",
              "    </tr>\n",
              "    <tr>\n",
              "      <th>4</th>\n",
              "      <td>2022-04-08 00:35:13+00:00</td>\n",
              "      <td>astaga kalian berdua aowkkwkw</td>\n",
              "    </tr>\n",
              "    <tr>\n",
              "      <th>5</th>\n",
              "      <td>2022-04-07 20:19:22+00:00</td>\n",
              "      <td>gila jam belum tidur anda pekerja keras sekal...</td>\n",
              "    </tr>\n",
              "    <tr>\n",
              "      <th>6</th>\n",
              "      <td>2022-04-07 20:13:55+00:00</td>\n",
              "      <td>ya ampun</td>\n",
              "    </tr>\n",
              "    <tr>\n",
              "      <th>7</th>\n",
              "      <td>2022-04-07 19:49:32+00:00</td>\n",
              "      <td>lautan asin bisa kekurangan gula awokawok</td>\n",
              "    </tr>\n",
              "    <tr>\n",
              "      <th>8</th>\n",
              "      <td>2022-04-07 18:17:45+00:00</td>\n",
              "      <td>ga ngerti tolong di jelaskan</td>\n",
              "    </tr>\n",
              "    <tr>\n",
              "      <th>9</th>\n",
              "      <td>2022-04-07 17:50:23+00:00</td>\n",
              "      <td>ari si anak tersesat</td>\n",
              "    </tr>\n",
              "  </tbody>\n",
              "</table>\n",
              "</div>"
            ],
            "text/plain": [
              "                        Date  \\\n",
              "0  2022-04-08 02:26:38+00:00   \n",
              "1  2022-04-08 01:54:44+00:00   \n",
              "2  2022-04-08 01:51:28+00:00   \n",
              "3  2022-04-08 01:40:46+00:00   \n",
              "4  2022-04-08 00:35:13+00:00   \n",
              "5  2022-04-07 20:19:22+00:00   \n",
              "6  2022-04-07 20:13:55+00:00   \n",
              "7  2022-04-07 19:49:32+00:00   \n",
              "8  2022-04-07 18:17:45+00:00   \n",
              "9  2022-04-07 17:50:23+00:00   \n",
              "\n",
              "                                             Content  \n",
              "0   canggung kenapa takut kakak tiba nyulik aku kah   \n",
              "1                   apa aja bebas yang penting enak   \n",
              "2   waduh abang abangan nih btw andi adek nya ban...  \n",
              "3                                           ini kak   \n",
              "4                     astaga kalian berdua aowkkwkw   \n",
              "5   gila jam belum tidur anda pekerja keras sekal...  \n",
              "6                                          ya ampun   \n",
              "7         lautan asin bisa kekurangan gula awokawok   \n",
              "8                      ga ngerti tolong di jelaskan   \n",
              "9                              ari si anak tersesat   "
            ]
          },
          "execution_count": 7,
          "metadata": {},
          "output_type": "execute_result"
        }
      ],
      "source": [
        "# Preprocessor\n",
        "def preprocessor(text):\n",
        "    # Convert to lower case\n",
        "    text = text.lower()\n",
        "    # Convert www.* or https?://* to URL\n",
        "    text = re.sub('((www\\.[^\\s]+)|(https?://[^\\s]+))','',text)\n",
        "    # Convert @username to AT_USER\n",
        "    text = re.sub('@[^\\s]+','',text)\n",
        "    # Replace #word with word\n",
        "    text = re.sub(r'#([^\\s]+)', r'\\1',text)\n",
        "    # Menghapus angka dari teks\n",
        "    text = re.sub(r\"\\d+\", \"\", text)\n",
        "    # Menganti tanda baca dengan spasi\n",
        "    text = text.translate(str.maketrans(string.punctuation, ' ' * len(string.punctuation)))\n",
        "    # Remove additional code\n",
        "    text = text.replace('xa', '')\n",
        "    text = text.replace('xb', '')\n",
        "    text = text.replace('xc', '')\n",
        "    text = text.replace('xd', '')\n",
        "    text = text.replace('xe', '')\n",
        "    text = text.replace('xf', '')\n",
        "    text = text.replace('xh', '')\n",
        "    text = text.replace('xi', '')\n",
        "    text = text.replace('xj', '')\n",
        "    text = text.replace('xk', '')\n",
        "    text = text.replace('xl', '')\n",
        "    text = text.replace('xn', '')\n",
        "    text = text.replace('xo', '')\n",
        "    text = text.replace('xp', '')\n",
        "    text = text.replace('xq', '')\n",
        "    text = text.replace('xr', '')\n",
        "    text = text.replace('xs', '')\n",
        "    text = text.replace('xt', '')\n",
        "    text = text.replace('xu', '')\n",
        "    text = text.replace('xv', '')\n",
        "    text = text.replace('xw', '')\n",
        "    text = text.replace('xx', '')\n",
        "    text = text.replace('xy', '')\n",
        "    text = text.replace('xz', '')\n",
        "    text = text.replace('xaa', '')\n",
        "    text = text.replace('x', '')\n",
        "    text = text.replace(' b ', '')\n",
        "    text = text.replace(' e ', '')\n",
        "    text = text.replace(' c ', '')\n",
        "    text = text.replace(' d ', '')\n",
        "    text = text.replace(' f ', '')\n",
        "    text = text.replace(' a ', '')\n",
        "    text = text.replace(' n ', '')\n",
        "    # Remove additional white spaces\n",
        "    text = re.sub('[\\s]+', ' ', text)\n",
        "    return text\n",
        "data['Content'] = data['Content'].apply(lambda x : preprocessor(x))\n",
        "data['Content'].values\n",
        "\n",
        "data.head(10)"
      ]
    },
    {
      "cell_type": "code",
      "execution_count": 8,
      "metadata": {
        "id": "p8Z8e0owFfTS"
      },
      "outputs": [],
      "source": [
        "data['Content'] = data['Content'].apply(lambda x : preprocessor(x))\n",
        "data['Content'].values\n",
        "\n",
        "# Fungsi save hasil data yang sudah dibersihkan\n",
        "data.to_csv('cleaned.csv')"
      ]
    },
    {
      "cell_type": "markdown",
      "metadata": {
        "id": "tKmh-mdCFfTS"
      },
      "source": [
        "## 2.4. Tokenizer\n",
        "\n",
        "Membuat custom tokenizer menggunakan `word_tokenize` dari library `nltk` lalu memfilter token tersebut."
      ]
    },
    {
      "cell_type": "code",
      "execution_count": 9,
      "metadata": {
        "id": "xLo1J7FcFfTS"
      },
      "outputs": [],
      "source": [
        "# Tokenizer\n",
        "def tokenizer(text):\n",
        "    words = word_tokenize(text)\n",
        "    tokens=[]\n",
        "    for w in words:\n",
        "        # add tokens\n",
        "        if len(w) > 3 and w not in stop_words:\n",
        "            w = stemmer.stem(w)\n",
        "            tokens.append(w.lower())\n",
        "    return \" \".join(tokens)"
      ]
    },
    {
      "cell_type": "code",
      "execution_count": 10,
      "metadata": {
        "id": "ISmfwPwrFfTT"
      },
      "outputs": [],
      "source": [
        "# Untuk menghemat waktu running dilakukan loading tweet yang sudah\n",
        "# dibersihkan sebelumnya\n",
        "# with open('/content/Cleaned Data.txt') as reader:\n",
        "#     data['Content'] = reader.read().split(\"\\n\")\n",
        "\n",
        "with open('cleaned.csv', 'rb') as f:\n",
        "  contents = f.read()\n",
        "# Uncomment dan run kode di bawah jika mengganti atau menambahkan\n",
        "# metode preprocess data text, proses running membutuhkan waktu\n",
        "# yang cukup lama (sekitar 1 jam)\n",
        "# data['Content'] = data['Content'].apply(lambda x : tokenizer(x))\n",
        "\n",
        "# data['Content'].values"
      ]
    },
    {
      "cell_type": "markdown",
      "metadata": {
        "id": "Wr7S9rt5FfTT"
      },
      "source": [
        "## 2.5. Text Vectorization\n",
        "\n",
        "Text vectorization adalah cara melakukan encode data text menjadi numerik. Berikut akan dilakukan vectorization menggunakan `TfidfVectorizer` dari library `scikit-learn`. Untuk mempelajari text vectorization lebih lanjut dapat membaca artikel [berikut](https://machinelearningmastery.com/prepare-text-data-machine-learning-scikit-learn/)"
      ]
    },
    {
      "cell_type": "code",
      "execution_count": 11,
      "metadata": {
        "id": "PhIT2MH-FfTU"
      },
      "outputs": [],
      "source": [
        "# Defining Vectorizer object\n",
        "vectorizer_tfidf = TfidfVectorizer(min_df=0.01, max_df=0.6)\n",
        "\n",
        "# Load saved vectorizer\n",
        "# vectorizer_tfidf = pickle.load(open('../model/vectorizer/vectorizer_tfidf.pickle', 'rb'))"
      ]
    },
    {
      "cell_type": "markdown",
      "metadata": {
        "id": "Ob3ooILDFfTU"
      },
      "source": [
        "**fit & transform**\n",
        "\n",
        "Ubah data text menjadi encoded matrix"
      ]
    },
    {
      "cell_type": "code",
      "execution_count": 12,
      "metadata": {
        "id": "hRenIzxmFfTU"
      },
      "outputs": [],
      "source": [
        "# fit and transform text data\n",
        "word_tfidf = vectorizer_tfidf.fit_transform(data['Content'].values)\n",
        "\n",
        "# Load saved transformed data\n",
        "# word_tfidf = pickle.load(open('../model/vectorizer/word_tfidf.pickle', 'rb'))"
      ]
    },
    {
      "cell_type": "markdown",
      "metadata": {
        "id": "WN6iF9gqFfTU"
      },
      "source": [
        "Mengambil nama fitur / kata - kata yang terdapat dalam data dan melihat dimensi data setelah dilakukan vectorization menggunakan `TfidfVectorizer`"
      ]
    },
    {
      "cell_type": "code",
      "execution_count": 13,
      "metadata": {
        "colab": {
          "base_uri": "https://localhost:8080/"
        },
        "id": "9KKaQet-FfTV",
        "outputId": "2658ecb5-5308-4c02-ac38-b40402cd6921"
      },
      "outputs": [
        {
          "name": "stdout",
          "output_type": "stream",
          "text": [
            "Jumlah artikel = 8346\n",
            "Jumlah fitur   = 86\n"
          ]
        },
        {
          "name": "stderr",
          "output_type": "stream",
          "text": [
            "c:\\Python\\lib\\site-packages\\sklearn\\utils\\deprecation.py:87: FutureWarning: Function get_feature_names is deprecated; get_feature_names is deprecated in 1.0 and will be removed in 1.2. Please use get_feature_names_out instead.\n",
            "  warnings.warn(msg, category=FutureWarning)\n"
          ]
        }
      ],
      "source": [
        "# Nama fitur\n",
        "nama_fitur = vectorizer_tfidf.get_feature_names()\n",
        "\n",
        "# Dimensi data\n",
        "dimensions = word_tfidf.get_shape()\n",
        "print(f\"Jumlah artikel = {dimensions[0]}\")\n",
        "print(f\"Jumlah fitur   = {dimensions[1]}\")"
      ]
    },
    {
      "cell_type": "markdown",
      "metadata": {
        "id": "DdoVb7eVFfTV"
      },
      "source": [
        "## 2.6. Kata dengan bobot TF-IDF tertinggi\n",
        "\n",
        "Melihat kata - kata dengan bobot TF-IDF tertinggi"
      ]
    },
    {
      "cell_type": "code",
      "execution_count": 14,
      "metadata": {
        "colab": {
          "base_uri": "https://localhost:8080/",
          "height": 676
        },
        "id": "fZdQ5pRGFfTV",
        "outputId": "7be15115-cdc0-4da7-badc-31571d934f29"
      },
      "outputs": [
        {
          "data": {
            "text/html": [
              "<div>\n",
              "<style scoped>\n",
              "    .dataframe tbody tr th:only-of-type {\n",
              "        vertical-align: middle;\n",
              "    }\n",
              "\n",
              "    .dataframe tbody tr th {\n",
              "        vertical-align: top;\n",
              "    }\n",
              "\n",
              "    .dataframe thead th {\n",
              "        text-align: right;\n",
              "    }\n",
              "</style>\n",
              "<table border=\"1\" class=\"dataframe\">\n",
              "  <thead>\n",
              "    <tr style=\"text-align: right;\">\n",
              "      <th></th>\n",
              "      <th>Kata</th>\n",
              "      <th>Banyak</th>\n",
              "    </tr>\n",
              "  </thead>\n",
              "  <tbody>\n",
              "    <tr>\n",
              "      <th>85</th>\n",
              "      <td>yuk</td>\n",
              "      <td>1638</td>\n",
              "    </tr>\n",
              "    <tr>\n",
              "      <th>59</th>\n",
              "      <td>pagi</td>\n",
              "      <td>589</td>\n",
              "    </tr>\n",
              "    <tr>\n",
              "      <th>84</th>\n",
              "      <td>yopi</td>\n",
              "      <td>352</td>\n",
              "    </tr>\n",
              "    <tr>\n",
              "      <th>28</th>\n",
              "      <td>iofi</td>\n",
              "      <td>151</td>\n",
              "    </tr>\n",
              "    <tr>\n",
              "      <th>65</th>\n",
              "      <td>selamat</td>\n",
              "      <td>147</td>\n",
              "    </tr>\n",
              "    <tr>\n",
              "      <th>75</th>\n",
              "      <td>vtuber</td>\n",
              "      <td>117</td>\n",
              "    </tr>\n",
              "    <tr>\n",
              "      <th>83</th>\n",
              "      <td>yop</td>\n",
              "      <td>117</td>\n",
              "    </tr>\n",
              "    <tr>\n",
              "      <th>41</th>\n",
              "      <td>kobo</td>\n",
              "      <td>114</td>\n",
              "    </tr>\n",
              "    <tr>\n",
              "      <th>25</th>\n",
              "      <td>hololive</td>\n",
              "      <td>113</td>\n",
              "    </tr>\n",
              "    <tr>\n",
              "      <th>69</th>\n",
              "      <td>skejul</td>\n",
              "      <td>103</td>\n",
              "    </tr>\n",
              "    <tr>\n",
              "      <th>60</th>\n",
              "      <td>pituber</td>\n",
              "      <td>97</td>\n",
              "    </tr>\n",
              "    <tr>\n",
              "      <th>22</th>\n",
              "      <td>gak</td>\n",
              "      <td>95</td>\n",
              "    </tr>\n",
              "    <tr>\n",
              "      <th>33</th>\n",
              "      <td>juga</td>\n",
              "      <td>88</td>\n",
              "    </tr>\n",
              "    <tr>\n",
              "      <th>8</th>\n",
              "      <td>banget</td>\n",
              "      <td>87</td>\n",
              "    </tr>\n",
              "    <tr>\n",
              "      <th>27</th>\n",
              "      <td>ini</td>\n",
              "      <td>86</td>\n",
              "    </tr>\n",
              "    <tr>\n",
              "      <th>46</th>\n",
              "      <td>lort</td>\n",
              "      <td>84</td>\n",
              "    </tr>\n",
              "    <tr>\n",
              "      <th>13</th>\n",
              "      <td>bo</td>\n",
              "      <td>83</td>\n",
              "    </tr>\n",
              "    <tr>\n",
              "      <th>57</th>\n",
              "      <td>nya</td>\n",
              "      <td>82</td>\n",
              "    </tr>\n",
              "    <tr>\n",
              "      <th>62</th>\n",
              "      <td>saya</td>\n",
              "      <td>81</td>\n",
              "    </tr>\n",
              "    <tr>\n",
              "      <th>68</th>\n",
              "      <td>sih</td>\n",
              "      <td>81</td>\n",
              "    </tr>\n",
              "  </tbody>\n",
              "</table>\n",
              "</div>"
            ],
            "text/plain": [
              "        Kata  Banyak\n",
              "85       yuk    1638\n",
              "59      pagi     589\n",
              "84      yopi     352\n",
              "28      iofi     151\n",
              "65   selamat     147\n",
              "75    vtuber     117\n",
              "83       yop     117\n",
              "41      kobo     114\n",
              "25  hololive     113\n",
              "69    skejul     103\n",
              "60   pituber      97\n",
              "22       gak      95\n",
              "33      juga      88\n",
              "8     banget      87\n",
              "27       ini      86\n",
              "46      lort      84\n",
              "13        bo      83\n",
              "57       nya      82\n",
              "62      saya      81\n",
              "68       sih      81"
            ]
          },
          "execution_count": 14,
          "metadata": {},
          "output_type": "execute_result"
        }
      ],
      "source": [
        "content1, content2 = [], []\n",
        "\n",
        "for n in range(dimensions[0]):\n",
        "    # Convert sparse matrix row by row \n",
        "    row = word_tfidf.getrow(n).toarray()[0].ravel()\n",
        "    # Get top values and its indexes \n",
        "    top_ten_indices = row.argsort()[-1]\n",
        "    top_ten_values = row[row.argsort()[-1]]\n",
        "    # Identify the highest TFIDF value and word #\n",
        "    highestTFIDFword = nama_fitur[top_ten_indices]\n",
        "    highestTFIDFvalue = top_ten_values\n",
        "    top1word = {'nomor artikel': n+1, 'nilai TFIDF': highestTFIDFvalue,\n",
        "                'top word': highestTFIDFword}\n",
        "    content1.append(top1word)\n",
        "    content2.append(highestTFIDFword)\n",
        "\n",
        "# Hitung Frekuensi kata dengan bobot terbesar\n",
        "content2 = np.asarray(content2)\n",
        "words, n = np.unique(content2, return_counts=True)\n",
        "\n",
        "# Convert to DataFrame lalu urutkan secara descending\n",
        "# lalu pilih 20 kata dengan frekuensi terbesar \n",
        "words_data = pd.DataFrame({\n",
        "    'Kata': words,\n",
        "    'Banyak': n\n",
        "}).sort_values(by='Banyak', ascending=False).head(20)\n",
        "words_data "
      ]
    },
    {
      "cell_type": "markdown",
      "metadata": {
        "id": "mJMtxZ8eFfTW"
      },
      "source": [
        "**Visualisasi hasil**"
      ]
    },
    {
      "cell_type": "code",
      "execution_count": 15,
      "metadata": {
        "colab": {
          "base_uri": "https://localhost:8080/",
          "height": 686
        },
        "id": "hTVBX7KtFfTW",
        "outputId": "0a5cb217-55d3-41c5-df36-817799749ab0"
      },
      "outputs": [
        {
          "data": {
            "image/png": "[encoded data removed]",
            "text/plain": [
              "<Figure size 1000x1000 with 1 Axes>"
            ]
          },
          "metadata": {},
          "output_type": "display_data"
        }
      ],
      "source": [
        "# Plotting Barplot\n",
        "plt.figure(figsize = (10,10))\n",
        "sns.barplot(x = words_data['Kata'],y = words_data['Banyak'])\n",
        "for i, v in enumerate(words_data['Banyak'].tolist()):\n",
        "    plt.text(i-len(str(v))/10-.05, v + 50, str(v),fontsize=10)\n",
        "plt.title('Kata Dengan Bobot Terbesar',fontsize=20)\n",
        "plt.xticks(rotation=90)\n",
        "plt.xlabel('Kata',fontsize=16)\n",
        "plt.ylabel('Frekuensi',fontsize=16)\n",
        "plt.show()"
      ]
    },
    {
      "cell_type": "markdown",
      "metadata": {
        "id": "ObajbAvHFfTW"
      },
      "source": [
        "## 3. Pemodelan\n",
        "\n",
        "Akan dilakukan pemodelan menggunakan beberapa metode machine learning seperti:\n",
        "\n",
        "1. Decision Tree\n",
        "2. Logistic Regression\n",
        "3. Random Forest Classifier\n",
        "4. Support Vector Machine\n",
        "\n",
        "Lalu performa model - model tersebut akan dibandingkan dengan melihat metric `accuracy` untuk dipilih sebagai model terbaik."
      ]
    },
    {
      "cell_type": "markdown",
      "metadata": {
        "id": "2d1pmivWFfTW"
      },
      "source": [
        "## 3.1. Loading Sample Data\n",
        "\n",
        "Karena untuk melakukan pemodelan dengan motode - metode yang telah di jabarkan memerlukan label (`y`) sedangkan data hasil crawling tidak memiliki label (`y`). Maka perlu dilakukan labeling secara manual dengan ketentuan:\n",
        "\n",
        "* `0` adalah label untuk tweet yang bersentimen `negatif`\n",
        "* `1` adalah label untuk tweet yang bersentimen `netral`\n",
        "* `2` adalah label untuk tweet yang bersentimen `positif`\n",
        "\n",
        "Karena jika menggunakan seluruh data yang di crawl untuk dilakukan labelng secara manual membutuhkan waktu dan tenaga yang besar (karena jumlah datanya sangat banyak), maka perlu dilakukan sampling terhadap dataset untuk mengambil sebagian data. Pada notebook ini akan digunakan dataset hasil sampling data dan telah dilakukan labeling secara manual oleh penulis, untuk proses samplingnya dapat dilihat pada notebook `Sampling.ipynb`"
      ]
    },
    {
      "cell_type": "code",
      "execution_count": 16,
      "metadata": {
        "colab": {
          "base_uri": "https://localhost:8080/",
          "height": 206
        },
        "id": "vV2_Gr_tFfTX",
        "outputId": "70b63192-9d0e-4fbe-eb93-c4e8d1b0e243"
      },
      "outputs": [
        {
          "data": {
            "text/html": [
              "<div>\n",
              "<style scoped>\n",
              "    .dataframe tbody tr th:only-of-type {\n",
              "        vertical-align: middle;\n",
              "    }\n",
              "\n",
              "    .dataframe tbody tr th {\n",
              "        vertical-align: top;\n",
              "    }\n",
              "\n",
              "    .dataframe thead th {\n",
              "        text-align: right;\n",
              "    }\n",
              "</style>\n",
              "<table border=\"1\" class=\"dataframe\">\n",
              "  <thead>\n",
              "    <tr style=\"text-align: right;\">\n",
              "      <th></th>\n",
              "      <th>Unnamed: 0</th>\n",
              "      <th>Date</th>\n",
              "      <th>Content</th>\n",
              "      <th>Label</th>\n",
              "    </tr>\n",
              "  </thead>\n",
              "  <tbody>\n",
              "    <tr>\n",
              "      <th>0</th>\n",
              "      <td>0</td>\n",
              "      <td>2022-04-08 02:26:38+00:00</td>\n",
              "      <td>canggung kenapa takut kakak tiba nyulik aku kah</td>\n",
              "      <td>0</td>\n",
              "    </tr>\n",
              "    <tr>\n",
              "      <th>1</th>\n",
              "      <td>1</td>\n",
              "      <td>2022-04-08 01:54:44+00:00</td>\n",
              "      <td>apa aja bebas yang penting enak</td>\n",
              "      <td>2</td>\n",
              "    </tr>\n",
              "    <tr>\n",
              "      <th>2</th>\n",
              "      <td>2</td>\n",
              "      <td>2022-04-08 01:51:28+00:00</td>\n",
              "      <td>waduh abang abangan nih btw andi adek nya ban...</td>\n",
              "      <td>2</td>\n",
              "    </tr>\n",
              "    <tr>\n",
              "      <th>3</th>\n",
              "      <td>3</td>\n",
              "      <td>2022-04-08 01:40:46+00:00</td>\n",
              "      <td>ini kak</td>\n",
              "      <td>1</td>\n",
              "    </tr>\n",
              "    <tr>\n",
              "      <th>4</th>\n",
              "      <td>4</td>\n",
              "      <td>2022-04-08 00:35:13+00:00</td>\n",
              "      <td>astaga kalian berdua aowkkwkw</td>\n",
              "      <td>0</td>\n",
              "    </tr>\n",
              "  </tbody>\n",
              "</table>\n",
              "</div>"
            ],
            "text/plain": [
              "   Unnamed: 0                       Date  \\\n",
              "0           0  2022-04-08 02:26:38+00:00   \n",
              "1           1  2022-04-08 01:54:44+00:00   \n",
              "2           2  2022-04-08 01:51:28+00:00   \n",
              "3           3  2022-04-08 01:40:46+00:00   \n",
              "4           4  2022-04-08 00:35:13+00:00   \n",
              "\n",
              "                                             Content  Label  \n",
              "0   canggung kenapa takut kakak tiba nyulik aku kah       0  \n",
              "1                   apa aja bebas yang penting enak       2  \n",
              "2   waduh abang abangan nih btw andi adek nya ban...      2  \n",
              "3                                           ini kak       1  \n",
              "4                     astaga kalian berdua aowkkwkw       0  "
            ]
          },
          "execution_count": 16,
          "metadata": {},
          "output_type": "execute_result"
        }
      ],
      "source": [
        "# Loading Sample tweet sentiment\n",
        "sample = pd.read_csv('label.csv')\n",
        "sample.head()"
      ]
    },
    {
      "cell_type": "markdown",
      "metadata": {
        "id": "7feUlSnzFfTX"
      },
      "source": [
        "## 3.2. Preprocess Sampling dataset\n",
        "\n",
        "Encode kolom `Tweets` pada sampling dataset dengan menggunakan `TfidfVectorizer` yang sebelumnya. Lalu extract `x` dan `y` dari dataframe"
      ]
    },
    {
      "cell_type": "code",
      "execution_count": 17,
      "metadata": {
        "id": "2vkEbvAPFfTY"
      },
      "outputs": [],
      "source": [
        "x = vectorizer_tfidf.transform(sample['Content'].values)\n",
        "y = sample['Content'].values"
      ]
    },
    {
      "cell_type": "code",
      "execution_count": 18,
      "metadata": {},
      "outputs": [
        {
          "name": "stdout",
          "output_type": "stream",
          "text": [
            "Counter({2: 2063, 1: 1501, 0: 437})\n"
          ]
        }
      ],
      "source": [
        "from collections import Counter\n",
        "from re import X\n",
        "x = vectorizer_tfidf.transform(sample['Content'].values)\n",
        "x = x.toarray()\n",
        "y = sample['Label'].values\n",
        "counter = Counter(y)\n",
        "print(counter)"
      ]
    },
    {
      "cell_type": "code",
      "execution_count": 19,
      "metadata": {},
      "outputs": [
        {
          "name": "stdout",
          "output_type": "stream",
          "text": [
            "Counter({0: 2063, 2: 2063, 1: 1501})\n"
          ]
        }
      ],
      "source": [
        "# Oversample dataset yang imba dengan Random Over Sampler (ROS)\n",
        "from collections import Counter\n",
        "from imblearn.over_sampling import RandomOverSampler\n",
        "from numpy import where\n",
        "\n",
        "# mendefinisikan metode oversampling\n",
        "oversample = RandomOverSampler(sampling_strategy='minority')\n",
        "# merubah dataset\n",
        "x, y = oversample.fit_resample(x, y)\n",
        "# menghitung hasil dari oversampling\n",
        "counter = Counter(y)\n",
        "print(counter)"
      ]
    },
    {
      "cell_type": "code",
      "execution_count": 20,
      "metadata": {},
      "outputs": [
        {
          "name": "stdout",
          "output_type": "stream",
          "text": [
            "Counter({0: 2063, 2: 2063, 1: 2063})\n"
          ]
        }
      ],
      "source": [
        "# Oversample dataset yang imba dengan Random Over Sampler (ROS)\n",
        "from collections import Counter\n",
        "from imblearn.over_sampling import RandomOverSampler\n",
        "from numpy import where\n",
        "\n",
        "# mendefinisikan metode oversampling\n",
        "oversample = RandomOverSampler(sampling_strategy='minority')\n",
        "# merubah dataset\n",
        "x, y = oversample.fit_resample(x, y)\n",
        "# menghitung hasil dari oversampling\n",
        "counter = Counter(y)\n",
        "print(counter)"
      ]
    },
    {
      "cell_type": "markdown",
      "metadata": {
        "id": "yvbyz8asFfTY"
      },
      "source": [
        "**Splitting Data**\n",
        "\n",
        "Membagi data menjadi data `train` dan data `valid` dengan perbandingan `80:20`"
      ]
    },
    {
      "cell_type": "code",
      "execution_count": 22,
      "metadata": {
        "id": "-AgBRwnVFfTY"
      },
      "outputs": [],
      "source": [
        "from sklearn.model_selection import train_test_split\n",
        "\n",
        "x_train, x_valid, y_train, y_valid = train_test_split(x, y, test_size=0.2, random_state=1500)"
      ]
    },
    {
      "cell_type": "markdown",
      "metadata": {
        "id": "gaHcXXoyFfTZ"
      },
      "source": [
        "## 3.3. Fitting Model\n",
        "\n",
        "Akan dilakukan fitting model - model terhadap data `train` lalu model - model tersebut akan diukur keakuratannya dengan menghitung akurasinya pada data `valid`"
      ]
    },
    {
      "cell_type": "code",
      "execution_count": 23,
      "metadata": {
        "colab": {
          "base_uri": "https://localhost:8080/"
        },
        "id": "x9Hr0R3PFfTZ",
        "outputId": "03dc736f-b1b4-4254-f23f-e89a601d5b98"
      },
      "outputs": [
        {
          "ename": "IndexError",
          "evalue": "index 1 is out of bounds for axis 1 with size 1",
          "output_type": "error",
          "traceback": [
            "\u001b[1;31m---------------------------------------------------------------------------\u001b[0m",
            "\u001b[1;31mIndexError\u001b[0m                                Traceback (most recent call last)",
            "\u001b[1;32mc:\\Users\\rbriz\\Documents\\skripsick\\NLP_Sentimen_Analisis.ipynb Cell 41\u001b[0m in \u001b[0;36m<cell line: 15>\u001b[1;34m()\u001b[0m\n\u001b[0;32m     <a href='vscode-notebook-cell:/c%3A/Users/rbriz/Documents/skripsick/NLP_Sentimen_Analisis.ipynb#X55sZmlsZQ%3D%3D?line=14'>15</a>\u001b[0m \u001b[39mfor\u001b[39;00m name \u001b[39min\u001b[39;00m classifiers\u001b[39m.\u001b[39mkeys():\n\u001b[0;32m     <a href='vscode-notebook-cell:/c%3A/Users/rbriz/Documents/skripsick/NLP_Sentimen_Analisis.ipynb#X55sZmlsZQ%3D%3D?line=15'>16</a>\u001b[0m     classifiers[name]\u001b[39m.\u001b[39mfit(x_train, y_train)\n\u001b[1;32m---> <a href='vscode-notebook-cell:/c%3A/Users/rbriz/Documents/skripsick/NLP_Sentimen_Analisis.ipynb#X55sZmlsZQ%3D%3D?line=16'>17</a>\u001b[0m     y_pred \u001b[39m=\u001b[39m classifiers[name]\u001b[39m.\u001b[39;49mpredict(x_valid)\n\u001b[0;32m     <a href='vscode-notebook-cell:/c%3A/Users/rbriz/Documents/skripsick/NLP_Sentimen_Analisis.ipynb#X55sZmlsZQ%3D%3D?line=17'>18</a>\u001b[0m     \u001b[39mprint\u001b[39m(\u001b[39mf\u001b[39m\u001b[39m\"\u001b[39m\u001b[39mAkurasi dari \u001b[39m\u001b[39m{\u001b[39;00mname\u001b[39m}\u001b[39;00m\u001b[39m : \u001b[39m\u001b[39m\"\u001b[39m,metrics\u001b[39m.\u001b[39maccuracy_score(y_valid, y_pred))\n",
            "File \u001b[1;32mc:\\Python\\lib\\site-packages\\sklearn\\naive_bayes.py:81\u001b[0m, in \u001b[0;36m_BaseNB.predict\u001b[1;34m(self, X)\u001b[0m\n\u001b[0;32m     79\u001b[0m check_is_fitted(\u001b[39mself\u001b[39m)\n\u001b[0;32m     80\u001b[0m X \u001b[39m=\u001b[39m \u001b[39mself\u001b[39m\u001b[39m.\u001b[39m_check_X(X)\n\u001b[1;32m---> 81\u001b[0m jll \u001b[39m=\u001b[39m \u001b[39mself\u001b[39;49m\u001b[39m.\u001b[39;49m_joint_log_likelihood(X)\n\u001b[0;32m     82\u001b[0m \u001b[39mreturn\u001b[39;00m \u001b[39mself\u001b[39m\u001b[39m.\u001b[39mclasses_[np\u001b[39m.\u001b[39margmax(jll, axis\u001b[39m=\u001b[39m\u001b[39m1\u001b[39m)]\n",
            "File \u001b[1;32mc:\\Python\\lib\\site-packages\\sklearn\\naive_bayes.py:1425\u001b[0m, in \u001b[0;36mCategoricalNB._joint_log_likelihood\u001b[1;34m(self, X)\u001b[0m\n\u001b[0;32m   1423\u001b[0m \u001b[39mfor\u001b[39;00m i \u001b[39min\u001b[39;00m \u001b[39mrange\u001b[39m(\u001b[39mself\u001b[39m\u001b[39m.\u001b[39mn_features_in_):\n\u001b[0;32m   1424\u001b[0m     indices \u001b[39m=\u001b[39m X[:, i]\n\u001b[1;32m-> 1425\u001b[0m     jll \u001b[39m+\u001b[39m\u001b[39m=\u001b[39m \u001b[39mself\u001b[39;49m\u001b[39m.\u001b[39;49mfeature_log_prob_[i][:, indices]\u001b[39m.\u001b[39mT\n\u001b[0;32m   1426\u001b[0m total_ll \u001b[39m=\u001b[39m jll \u001b[39m+\u001b[39m \u001b[39mself\u001b[39m\u001b[39m.\u001b[39mclass_log_prior_\n\u001b[0;32m   1427\u001b[0m \u001b[39mreturn\u001b[39;00m total_ll\n",
            "\u001b[1;31mIndexError\u001b[0m: index 1 is out of bounds for axis 1 with size 1"
          ]
        }
      ],
      "source": [
        "# Modelling\n",
        "# import library\n",
        "from sklearn.naive_bayes import BernoulliNB, CategoricalNB\n",
        "from sklearn.naive_bayes import MultinomialNB\n",
        "from sklearn.naive_bayes import GaussianNB\n",
        "from sklearn.naive_bayes import ComplementNB\n",
        "from sklearn import metrics\n",
        "\n",
        "# mendefinisikan classifiers yang digunakan\n",
        "classifiers = {\n",
        "\n",
        "    \"Categorical Naive Bayes\" : CategoricalNB()\n",
        "}\n",
        "\n",
        "for name in classifiers.keys():\n",
        "    classifiers[name].fit(x_train, y_train)\n",
        "    y_pred = classifiers[name].predict(x_valid)\n",
        "    print(f\"Akurasi dari {name} : \",metrics.accuracy_score(y_valid, y_pred))"
      ]
    },
    {
      "cell_type": "markdown",
      "metadata": {
        "id": "YmeQupFYFfTZ"
      },
      "source": [
        "**Insight**\n",
        "\n",
        "Dapat dilihat bahwa `Random Forest Classifier` memiliki performa yang jauh lebih baik dari model - model yang lain. Maka dari itu model `Random Forest Classifier` akan digunakan untuk memprediksi keseluruhan data"
      ]
    },
    {
      "cell_type": "markdown",
      "metadata": {
        "id": "dVo81mlgFfTa"
      },
      "source": [
        "## 4. Prediction (Peramalan)\n",
        "\n",
        "Akan dilakukan peramalan terhadap keseluruhan data menggunakan medel `SVM` yang telah di fit sebelumnya"
      ]
    },
    {
      "cell_type": "code",
      "execution_count": null,
      "metadata": {
        "colab": {
          "base_uri": "https://localhost:8080/",
          "height": 206
        },
        "id": "nbcZ10RJFfTa",
        "outputId": "ed062048-826d-46e3-f7a1-0e2de950d7bb"
      },
      "outputs": [],
      "source": [
        "data['prediction'] = classifiers['Random Forest Classifier'].predict(word_tfidf)\n",
        "data.head()"
      ]
    },
    {
      "cell_type": "markdown",
      "metadata": {
        "id": "-u0SSkR6FfTa"
      },
      "source": [
        "## 5. Visualization\n",
        "\n",
        "Visualisasi sentimen hasil predisian model `SVM`"
      ]
    },
    {
      "cell_type": "markdown",
      "metadata": {
        "id": "gPTRJh0BFfTa"
      },
      "source": [
        "## 5.1. Perbandingan Sentimen\n",
        "\n",
        "Perbandingan jumlah antar sentimen yang ada"
      ]
    },
    {
      "cell_type": "code",
      "execution_count": null,
      "metadata": {
        "colab": {
          "base_uri": "https://localhost:8080/",
          "height": 486
        },
        "id": "QOZVntN3FfTb",
        "outputId": "91aeec0c-c156-444a-c964-8de80b0f599d"
      },
      "outputs": [],
      "source": [
        "# Plotting Pie\n",
        "def pct_pie(pct, allvals):\n",
        "    absolute = int(pct/100.*np.sum(allvals))\n",
        "    return \"{:.1f}%\\n{:d}\".format(pct, absolute)\n",
        "\n",
        "sentimen = data['Content'].groupby(data['prediction']).count().values\n",
        "\n",
        "plt.figure(figsize = (8,8))\n",
        "plt.pie(sentimen, explode=(0,0,0.1), labels=['Negatif','Netral','Positif'], shadow=True,\n",
        "        autopct=lambda pct: pct_pie(pct, sentimen),startangle=90)\n",
        "plt.title('Perbandingan Sentiment',fontsize=18)\n",
        "plt.axis('equal')\n",
        "plt.legend(fontsize=11)\n",
        "plt.show()"
      ]
    },
    {
      "cell_type": "markdown",
      "metadata": {
        "id": "Pg4-M0PiFfTb"
      },
      "source": [
        "**Insight**\n",
        "\n",
        "Dapat dilihat dari pie chart di atas bahwa pada rentang 19 - 27 April 2020 jumlah tweet masyarakat DKI Jakarta dengan topik COVID-19 yang bermuatan positif jauh lebih banyak dari tweet yang bermuatan negatif sedangkan tweet yang bermuatan netral jauh melampaui keduanya."
      ]
    },
    {
      "cell_type": "markdown",
      "metadata": {
        "id": "8QaLtt-0FfTb"
      },
      "source": [
        "## 5.2. Tweet perhari Berdasarkan Sentimen\n",
        "\n",
        "Akan dilihat perbandingan tweet perharinya dari tanggal 19 - 27 April 2020 berdasarkan sentimennya"
      ]
    },
    {
      "cell_type": "code",
      "execution_count": null,
      "metadata": {
        "id": "w-wGlH3fFfTb"
      },
      "outputs": [],
      "source": [
        "# Melihat banyak Tweet perhari berdasarkan sentiment\n",
        "data['Date'] = pd.to_datetime(data['Date'])\n",
        "tph = data['Content'].groupby([data['Date'].dt.date, data['prediction']]).count()\n",
        "frek = tph.values\n",
        "\n",
        "# To Data Frame\n",
        "tanggal = [ i for i, j in tph.index.tolist() ]\n",
        "senti = [ j for i, j in tph.index.tolist() ]\n",
        "sent = pd.DataFrame({'Date':tanggal,'Sentiment':senti, 'Frekuensi':frek})"
      ]
    },
    {
      "cell_type": "code",
      "execution_count": null,
      "metadata": {
        "colab": {
          "base_uri": "https://localhost:8080/",
          "height": 658
        },
        "id": "HaIs0rCiFfTc",
        "outputId": "93a871b9-30a7-4c4a-d13a-432c808ea50b"
      },
      "outputs": [],
      "source": [
        "# Plotting line\n",
        "plt.figure(figsize = (10,10))\n",
        "sns.lineplot(x='Date',y='Frekuensi',hue='Sentiment',data=sent)\n",
        "plt.title('Banyak Tweet per Hari',fontsize=20)\n",
        "plt.xticks(rotation=45)\n",
        "plt.xlabel('Date',fontsize=16)\n",
        "plt.ylabel('Frekuensi',fontsize=16)\n",
        "plt.legend(['Negatif','Netral','Positif'])\n",
        "plt.show()"
      ]
    },
    {
      "cell_type": "markdown",
      "metadata": {
        "id": "i5Rd9uY0FfTc"
      },
      "source": [
        "**Insight**\n",
        "\n",
        "Dapat dilihat dari diagram garis di atas bahwa pada rentang 19 - 27 April 2020 jumlah tweet masyarakat DKI Jakarta dengan topik COVID-19 yang bermuatan netral jauh lebih banyak dan di susul oleh tweet yang bermuatan positif lalu tweet yang bermuatan netagtif. Dapat dilihat juga bahwa pada tanggal 25 April 2020 tweet yang bermuatan negatif jauh lebih banyak dari tweet yang bermuatan positif."
      ]
    },
    {
      "cell_type": "markdown",
      "metadata": {
        "id": "gUY5XKGTFfTc"
      },
      "source": [
        "## 6. Penutup\n",
        "\n",
        "Telah dilakukan Analisis Sentimen dan juga pemodelan terhadapa data hasil crawling. Data dipreprocess dan dilakukan vectorization menggunakan TF-IDF lalu dilakukan pemodelan. Dari berbagai model yang di uji didapatkan `SVM` adalah model dengan performa terbaik.\n",
        "\n",
        "**Hal yang Dapat Dikembangkan**\n",
        "\n",
        "1. Memperbanyak jumlah data yang dilakukan labeling secara manual\n",
        "2. Melakukan hyperparameter tuning untuk mendapatkan hasil yang lebih maksimal\n",
        "3. Menggunakan Boosting dalam pemodelan seperti, XGBoost, CatBoost, LGBM, dst.\n",
        "4. Menggunakan metode Deep Learning"
      ]
    },
    {
      "cell_type": "code",
      "execution_count": null,
      "metadata": {
        "id": "C8JmQ1CZFfTd"
      },
      "outputs": [],
      "source": [
        "####################\n",
        "## Saving Objects ##\n",
        "####################\n",
        "\n",
        "# if not os.path.isdir('output'):\n",
        "#     os.mkdir('output')\n",
        "\n",
        "if not os.path.isdir('model'):\n",
        "    os.mkdir('model')\n",
        "\n",
        "# Export data baru\n",
        "data.to_csv('/content/Hasil Sentimen.csv', index=False)\n",
        "\n",
        "# Saving Model\n",
        "for name, model in classifiers.items():\n",
        "    pickle.dump(model, open(f\"/content/model/[TRAINED] {name}_{datetime.today().strftime('%Y-%m-%d')}.pickle\", \"wb\"))\n",
        "    \n",
        "# Saving Vectorizer\n",
        "# pickle.dump(vectorizer_tfidf, open(\"../model/vectorizer/vectorizer_tfidf.pickle\", \"wb\"))\n",
        "# pickle.dump(word_tfidf, open(\"../model/vectorizer/word_tfidf.pickle\", \"wb\"))"
      ]
    }
  ],
  "metadata": {
    "colab": {
      "collapsed_sections": [
        "m7vYe-ZeFfTP",
        "ObajbAvHFfTW",
        "-u0SSkR6FfTa"
      ],
      "name": "NLP - Sentimen Analisis",
      "provenance": []
    },
    "file_extension": ".py",
    "kernelspec": {
      "display_name": "Python 3.10.4 64-bit",
      "language": "python",
      "name": "python3"
    },
    "language_info": {
      "codemirror_mode": {
        "name": "ipython",
        "version": 3
      },
      "file_extension": ".py",
      "mimetype": "text/x-python",
      "name": "python",
      "nbconvert_exporter": "python",
      "pygments_lexer": "ipython3",
      "version": "3.10.4"
    },
    "mimetype": "text/x-python",
    "name": "python",
    "npconvert_exporter": "python",
    "pygments_lexer": "ipython3",
    "version": 3,
    "vscode": {
      "interpreter": {
        "hash": "52634da84371cba311ea128a5ea7cdc41ff074b781779e754b270ff9f8153cee"
      }
    }
  },
  "nbformat": 4,
  "nbformat_minor": 0
}
