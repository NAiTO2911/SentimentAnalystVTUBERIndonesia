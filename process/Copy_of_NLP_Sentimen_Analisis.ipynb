{
  "nbformat": 4,
  "nbformat_minor": 0,
  "metadata": {
    "file_extension": ".py",
    "interpreter": {
      "hash": "b5c2f9982651e6679fa9a68d4ecb0e0e8c17f3b7df4d9abcf37d6df8a7589c17"
    },
    "kernelspec": {
      "display_name": "Python 3.8.7 64-bit",
      "name": "python3"
    },
    "language_info": {
      "name": "python",
      "version": ""
    },
    "mimetype": "text/x-python",
    "name": "python",
    "npconvert_exporter": "python",
    "pygments_lexer": "ipython3",
    "version": 3,
    "colab": {
      "name": "Copy of NLP - Sentimen Analisis",
      "provenance": [],
      "collapsed_sections": [
        "m7vYe-ZeFfTP",
        "ObajbAvHFfTW",
        "-u0SSkR6FfTa"
      ]
    }
  },
  "cells": [
    {
      "cell_type": "markdown",
      "metadata": {
        "id": "WmGhnRujFfTC"
      },
      "source": [
        "# Analisis Sentimen\n",
        "\n",
        "Melakukan analisis sentimen pada data hasil crawling"
      ]
    },
    {
      "cell_type": "markdown",
      "metadata": {
        "id": "dHpx5wiLFfTH"
      },
      "source": [
        "## 1. Import Libraries\n",
        "\n",
        "Import library yang akan digunakan"
      ]
    },
    {
      "cell_type": "code",
      "metadata": {
        "id": "VWtVzsAWFfTI",
        "colab": {
          "base_uri": "https://localhost:8080/"
        },
        "outputId": "77192d1f-faf0-4756-a09b-02c4cba9fe5c"
      },
      "source": [
        "!pip install sastrawi\n",
        "\n",
        "import os, re, json, string, pickle\n",
        "\n",
        "import nltk\n",
        "import pandas as pd\n",
        "import numpy as np\n",
        "import matplotlib.pyplot as plt\n",
        "import seaborn as sns\n",
        "\n",
        "from datetime import datetime\n",
        "from nltk.tokenize import word_tokenize\n",
        "from sklearn.feature_extraction.text import TfidfVectorizer\n",
        "from sklearn.feature_extraction.text import CountVectorizer\n",
        "from Sastrawi.Stemmer.StemmerFactory import StemmerFactory\n",
        "\n",
        "nltk.download('punkt')"
      ],
      "execution_count": null,
      "outputs": [
        {
          "output_type": "stream",
          "name": "stdout",
          "text": [
            "Collecting sastrawi\n",
            "  Downloading Sastrawi-1.0.1-py2.py3-none-any.whl (209 kB)\n",
            "\u001b[?25l\r\u001b[K     |█▋                              | 10 kB 22.3 MB/s eta 0:00:01\r\u001b[K     |███▏                            | 20 kB 16.0 MB/s eta 0:00:01\r\u001b[K     |████▊                           | 30 kB 10.4 MB/s eta 0:00:01\r\u001b[K     |██████▎                         | 40 kB 8.2 MB/s eta 0:00:01\r\u001b[K     |███████▉                        | 51 kB 4.5 MB/s eta 0:00:01\r\u001b[K     |█████████▍                      | 61 kB 5.2 MB/s eta 0:00:01\r\u001b[K     |███████████                     | 71 kB 5.6 MB/s eta 0:00:01\r\u001b[K     |████████████▌                   | 81 kB 5.7 MB/s eta 0:00:01\r\u001b[K     |██████████████                  | 92 kB 6.3 MB/s eta 0:00:01\r\u001b[K     |███████████████▋                | 102 kB 5.0 MB/s eta 0:00:01\r\u001b[K     |█████████████████▏              | 112 kB 5.0 MB/s eta 0:00:01\r\u001b[K     |██████████████████▊             | 122 kB 5.0 MB/s eta 0:00:01\r\u001b[K     |████████████████████▎           | 133 kB 5.0 MB/s eta 0:00:01\r\u001b[K     |█████████████████████▉          | 143 kB 5.0 MB/s eta 0:00:01\r\u001b[K     |███████████████████████▍        | 153 kB 5.0 MB/s eta 0:00:01\r\u001b[K     |█████████████████████████       | 163 kB 5.0 MB/s eta 0:00:01\r\u001b[K     |██████████████████████████▋     | 174 kB 5.0 MB/s eta 0:00:01\r\u001b[K     |████████████████████████████▏   | 184 kB 5.0 MB/s eta 0:00:01\r\u001b[K     |█████████████████████████████▊  | 194 kB 5.0 MB/s eta 0:00:01\r\u001b[K     |███████████████████████████████▎| 204 kB 5.0 MB/s eta 0:00:01\r\u001b[K     |████████████████████████████████| 209 kB 5.0 MB/s \n",
            "\u001b[?25hInstalling collected packages: sastrawi\n",
            "Successfully installed sastrawi-1.0.1\n",
            "[nltk_data] Downloading package punkt to /root/nltk_data...\n",
            "[nltk_data]   Unzipping tokenizers/punkt.zip.\n"
          ]
        },
        {
          "output_type": "execute_result",
          "data": {
            "text/plain": [
              "True"
            ]
          },
          "metadata": {},
          "execution_count": 1
        }
      ]
    },
    {
      "cell_type": "markdown",
      "metadata": {
        "id": "TSFRonHDFfTK"
      },
      "source": [
        "## 2. Load Dataset\n",
        "\n",
        "Load data ke memmory menggunakan library pandas."
      ]
    },
    {
      "cell_type": "code",
      "metadata": {
        "id": "NEg8E5tWFfTK"
      },
      "source": [
        "data1 = pd.read_csv('/content/Result Antigen Full.csv')\n",
        "# data2 = pd.read_csv('../data/Crawling Twitter Jakarta 25 - 23.csv')\n",
        "# data3 = pd.read_csv('../data/Crawling Twitter Jakarta 22 - 19 setengah.csv')"
      ],
      "execution_count": null,
      "outputs": []
    },
    {
      "cell_type": "markdown",
      "metadata": {
        "id": "Npl5RqMlFfTL"
      },
      "source": [
        "**Menggabungkan data**\n",
        "\n",
        "Menggabungkan 3 dataset tersebut menjadi satu"
      ]
    },
    {
      "cell_type": "code",
      "metadata": {
        "id": "F5rVk37MFfTL"
      },
      "source": [
        "# Concate data\n",
        "# data = pd.concat([data1,data2,data3])\n",
        "# data.head()\n",
        "data = pd.concat([data1])"
      ],
      "execution_count": null,
      "outputs": []
    },
    {
      "cell_type": "code",
      "metadata": {
        "id": "fYxrkSqSFfTN"
      },
      "source": [
        "# Cleanner \n",
        "def cleaning(text):\n",
        "  text = text[2:]\n",
        "  text = text.replace('\\\\n',' ')\n",
        "  return text"
      ],
      "execution_count": null,
      "outputs": []
    },
    {
      "cell_type": "code",
      "metadata": {
        "id": "bOKM429RFfTO",
        "colab": {
          "base_uri": "https://localhost:8080/"
        },
        "outputId": "4d67b195-f77b-48e6-f335-a5135a7f2ac3"
      },
      "source": [
        "data['Content'] =  data['Content'].apply(lambda x : cleaning(x))\n",
        "data['Content'].values"
      ],
      "execution_count": null,
      "outputs": [
        {
          "output_type": "execute_result",
          "data": {
            "text/plain": [
              "array([\"@andikprast25 Buka Kak, layanan Rapid-Test Antigen di Stasiun Pasar Senen beroperasi setiap hari, sesuai jam operas\\\\xe2\\\\x80\\\\xa6 https://t.co/LPWnVxcdxF'\",\n",
              "       \"Enak bgt mager2an tp mesti antigen \\\\xf0\\\\x9f\\\\x99\\\\x82'\",\n",
              "       \"@andikprast25 Selamat pagi Kak, layanan Rapid-Test Antigen di Stasiun Pasar Senen beroperasi mulai pukul 05.30-22.3\\\\xe2\\\\x80\\\\xa6 https://t.co/cJSIExRGjS'\",\n",
              "       ...,\n",
              "       \"@fieqafiaaa Pcr tak buat lagi, hari tu drive thru rapid test je kat klinik. Tengok cane hari ni, kalau masih tak okay gi buat pcr'\",\n",
              "       \"@jyeenaa Halo kak @jyeenaa . Berdasarkan SE Kemenhub No. 96 Tahun 2021 dan SE Satgas No. 22 Tahun 2021 untuk rute p\\\\xe2\\\\x80\\\\xa6 https://t.co/y3RtZiYEvZ'\",\n",
              "       \"@cartsunoo mau ngajak mama test rapid'\"], dtype=object)"
            ]
          },
          "metadata": {},
          "execution_count": 11
        }
      ]
    },
    {
      "cell_type": "markdown",
      "metadata": {
        "id": "m7vYe-ZeFfTP"
      },
      "source": [
        "## 2. Data Preprocessing\n",
        "\n",
        "Preprocess data text sebelum diolah"
      ]
    },
    {
      "cell_type": "markdown",
      "metadata": {
        "id": "1bHFsbc8FfTP"
      },
      "source": [
        "## 2.1. Stemmer\n",
        "\n",
        "> Stemming merupakan suatu proses untuk menemukan kata dasar dari sebuah kata. Dengan menghilangkan semua imbuhan (affixes) baik yang terdiri dari awalan (prefixes), sisipan (infixes), akhiran (suffixes) dan confixes (kombinasi dari awalan dan akhiran) pada kata turunan. Stemming digunakan untuk mengganti bentuk dari suatu kata menjadi kata dasar dari kata tersebut yang sesuai dengan struktur morfologi Bahasa Indonesia yang baik dan benar.\n",
        "\n",
        "Membuat Stemmer menggunakan sastrawi."
      ]
    },
    {
      "cell_type": "code",
      "metadata": {
        "id": "aOJVCN0BFfTQ"
      },
      "source": [
        "# Create Sastrawi stemmer\n",
        "stemmer = StemmerFactory().create_stemmer()"
      ],
      "execution_count": null,
      "outputs": []
    },
    {
      "cell_type": "markdown",
      "metadata": {
        "id": "o1Mfj5h1FfTQ"
      },
      "source": [
        "## 2.2. Stopwords\n",
        "\n",
        "> Stop words adalah kata umum (common words) yang biasanya muncul dalam jumlah besar dan dianggap tidak memiliki makna.\n",
        "\n",
        "Akan dibuat list yang berisi stopword yang ada pada bahasa indonesia."
      ]
    },
    {
      "cell_type": "code",
      "metadata": {
        "id": "laHci0gKFfTQ"
      },
      "source": [
        "# Create Stopword\n",
        "with open(\"/content/Stopword.txt\", \"r\") as f:\n",
        "    stop_words = f.readline()\n",
        "    stop_words = stop_words.split()"
      ],
      "execution_count": null,
      "outputs": []
    },
    {
      "cell_type": "markdown",
      "metadata": {
        "id": "_4LBSGgRFfTR"
      },
      "source": [
        "## 2.3. Preprocessing function\n",
        "\n",
        "Akan dilakukan beberapa tahap untuk preprocess data text agar siap digunakan, yaitu:\n",
        "\n",
        "1. Normalisasi karakter string menjadi huruf kecil\n",
        "2. Menghapus emoji\n",
        "3. Menghapus setiap url\n",
        "4. Menghapus tagging\n",
        "5. Menghapus whitespace\n",
        "6. Menghapus simbol '#' pada hashtag\n",
        "7. Menghapus angka\n",
        "8. Mengganti tanda baca menjadi '<spasi>'"
      ]
    },
    {
      "cell_type": "code",
      "metadata": {
        "id": "5R5sJI-mFfTR"
      },
      "source": [
        "# Preprocessor\n",
        "def preprocessor(text):\n",
        "    # Convert to lower case\n",
        "    text = text.lower()\n",
        "    # Remove additional code\n",
        "    text = text.replace('\\\\xe2\\\\x80\\\\xa6', '')\n",
        "    # remove any spaceblank after removing additional code\n",
        "    text = text.replace('  ', '   ', '    ', '')\n",
        "    # Convert www.* or https?://* to URL\n",
        "    text = re.sub('((www\\.[^\\s]+)|(https?://[^\\s]+))','',text)\n",
        "    # Convert @username to AT_USER\n",
        "    text = re.sub('@[^\\s]+','',text)\n",
        "    # Remove additional white spaces\n",
        "    text = re.sub('[\\s]+', ' ', text)\n",
        "    # Replace #word with word\n",
        "    text = re.sub(r'#([^\\s]+)', r'\\1',text)\n",
        "    # Menghapus angka dari teks\n",
        "    text = re.sub(r\"\\d+\", \"\", text)\n",
        "    # Menganti tanda baca dengan spasi\n",
        "    text = text.translate(str.maketrans(string.punctuation, ' ' * len(string.punctuation)))\n",
        "    return text"
      ],
      "execution_count": null,
      "outputs": []
    },
    {
      "cell_type": "code",
      "metadata": {
        "id": "p8Z8e0owFfTS"
      },
      "source": [
        "data['Content'] = data['Content'].apply(lambda x : preprocessor(x))\n",
        "data['Content'].values\n",
        "\n",
        "# Fungsi save hasil data yang sudah dibersihkan\n",
        "data.to_csv('/content/cleaned_data.csv')"
      ],
      "execution_count": null,
      "outputs": []
    },
    {
      "cell_type": "markdown",
      "metadata": {
        "id": "tKmh-mdCFfTS"
      },
      "source": [
        "## 2.4. Tokenizer\n",
        "\n",
        "Membuat custom tokenizer menggunakan `word_tokenize` dari library `nltk` lalu memfilter token tersebut."
      ]
    },
    {
      "cell_type": "code",
      "metadata": {
        "id": "xLo1J7FcFfTS"
      },
      "source": [
        "# Tokenizer\n",
        "def tokenizer(text):\n",
        "    words = word_tokenize(text)\n",
        "    tokens=[]\n",
        "    for w in words:\n",
        "        # add tokens\n",
        "        if len(w) > 3 and w not in stop_words:\n",
        "            w = stemmer.stem(w)\n",
        "            tokens.append(w.lower())\n",
        "    return \" \".join(tokens)"
      ],
      "execution_count": null,
      "outputs": []
    },
    {
      "cell_type": "code",
      "metadata": {
        "id": "ISmfwPwrFfTT"
      },
      "source": [
        "# Untuk menghemat waktu running dilakukan loading tweet yang sudah\n",
        "# dibersihkan sebelumnya\n",
        "# with open('/content/Cleaned Data.txt') as reader:\n",
        "#     data['Content'] = reader.read().split(\"\\n\")\n",
        "\n",
        "with open('/content/cleaned_data.csv', 'rb') as f:\n",
        "  contents = f.read()\n",
        "# Uncomment dan run kode di bawah jika mengganti atau menambahkan\n",
        "# metode preprocess data text, proses running membutuhkan waktu\n",
        "# yang cukup lama (sekitar 1 jam)\n",
        "# data['Content'] = data['Content'].apply(lambda x : tokenizer(x))\n",
        "\n",
        "# data['Content'].values"
      ],
      "execution_count": null,
      "outputs": []
    },
    {
      "cell_type": "markdown",
      "metadata": {
        "id": "Wr7S9rt5FfTT"
      },
      "source": [
        "## 2.5. Text Vectorization\n",
        "\n",
        "Text vectorization adalah cara melakukan encode data text menjadi numerik. Berikut akan dilakukan vectorization menggunakan `TfidfVectorizer` dari library `scikit-learn`. Untuk mempelajari text vectorization lebih lanjut dapat membaca artikel [berikut](https://machinelearningmastery.com/prepare-text-data-machine-learning-scikit-learn/)"
      ]
    },
    {
      "cell_type": "code",
      "metadata": {
        "id": "PhIT2MH-FfTU"
      },
      "source": [
        "# Defining Vectorizer object\n",
        "vectorizer_tfidf = TfidfVectorizer(min_df=0.01, max_df=0.6)\n",
        "\n",
        "# Load saved vectorizer\n",
        "# vectorizer_tfidf = pickle.load(open('../model/vectorizer/vectorizer_tfidf.pickle', 'rb'))"
      ],
      "execution_count": null,
      "outputs": []
    },
    {
      "cell_type": "markdown",
      "metadata": {
        "id": "Ob3ooILDFfTU"
      },
      "source": [
        "**fit & transform**\n",
        "\n",
        "Ubah data text menjadi encoded matrix"
      ]
    },
    {
      "cell_type": "code",
      "metadata": {
        "id": "hRenIzxmFfTU"
      },
      "source": [
        "# fit and transform text data\n",
        "word_tfidf = vectorizer_tfidf.fit_transform(data['Content'].values)\n",
        "\n",
        "# Load saved transformed data\n",
        "# word_tfidf = pickle.load(open('../model/vectorizer/word_tfidf.pickle', 'rb'))"
      ],
      "execution_count": null,
      "outputs": []
    },
    {
      "cell_type": "code",
      "source": [
        "from google.colab import drive\n",
        "drive.mount('/content/drive')"
      ],
      "metadata": {
        "id": "0aCCJiKUzOLn",
        "outputId": "1db3acd6-d4ef-45f9-ccf0-8d64ec80b399",
        "colab": {
          "base_uri": "https://localhost:8080/",
          "height": 328
        }
      },
      "execution_count": null,
      "outputs": [
        {
          "output_type": "error",
          "ename": "MessageError",
          "evalue": "ignored",
          "traceback": [
            "\u001b[0;31m---------------------------------------------------------------------------\u001b[0m",
            "\u001b[0;31mMessageError\u001b[0m                              Traceback (most recent call last)",
            "\u001b[0;32m<ipython-input-1-d5df0069828e>\u001b[0m in \u001b[0;36m<module>\u001b[0;34m()\u001b[0m\n\u001b[1;32m      1\u001b[0m \u001b[0;32mfrom\u001b[0m \u001b[0mgoogle\u001b[0m\u001b[0;34m.\u001b[0m\u001b[0mcolab\u001b[0m \u001b[0;32mimport\u001b[0m \u001b[0mdrive\u001b[0m\u001b[0;34m\u001b[0m\u001b[0;34m\u001b[0m\u001b[0m\n\u001b[0;32m----> 2\u001b[0;31m \u001b[0mdrive\u001b[0m\u001b[0;34m.\u001b[0m\u001b[0mmount\u001b[0m\u001b[0;34m(\u001b[0m\u001b[0;34m'/content/drive'\u001b[0m\u001b[0;34m)\u001b[0m\u001b[0;34m\u001b[0m\u001b[0;34m\u001b[0m\u001b[0m\n\u001b[0m",
            "\u001b[0;32m/usr/local/lib/python3.7/dist-packages/google/colab/drive.py\u001b[0m in \u001b[0;36mmount\u001b[0;34m(mountpoint, force_remount, timeout_ms, use_metadata_server)\u001b[0m\n\u001b[1;32m    113\u001b[0m       \u001b[0mforce_remount\u001b[0m\u001b[0;34m=\u001b[0m\u001b[0mforce_remount\u001b[0m\u001b[0;34m,\u001b[0m\u001b[0;34m\u001b[0m\u001b[0;34m\u001b[0m\u001b[0m\n\u001b[1;32m    114\u001b[0m       \u001b[0mtimeout_ms\u001b[0m\u001b[0;34m=\u001b[0m\u001b[0mtimeout_ms\u001b[0m\u001b[0;34m,\u001b[0m\u001b[0;34m\u001b[0m\u001b[0;34m\u001b[0m\u001b[0m\n\u001b[0;32m--> 115\u001b[0;31m       ephemeral=True)\n\u001b[0m\u001b[1;32m    116\u001b[0m \u001b[0;34m\u001b[0m\u001b[0m\n\u001b[1;32m    117\u001b[0m \u001b[0;34m\u001b[0m\u001b[0m\n",
            "\u001b[0;32m/usr/local/lib/python3.7/dist-packages/google/colab/drive.py\u001b[0m in \u001b[0;36m_mount\u001b[0;34m(mountpoint, force_remount, timeout_ms, use_metadata_server, ephemeral)\u001b[0m\n\u001b[1;32m    133\u001b[0m   \u001b[0;32mif\u001b[0m \u001b[0mephemeral\u001b[0m\u001b[0;34m:\u001b[0m\u001b[0;34m\u001b[0m\u001b[0;34m\u001b[0m\u001b[0m\n\u001b[1;32m    134\u001b[0m     _message.blocking_request(\n\u001b[0;32m--> 135\u001b[0;31m         'request_auth', request={'authType': 'dfs_ephemeral'}, timeout_sec=None)\n\u001b[0m\u001b[1;32m    136\u001b[0m \u001b[0;34m\u001b[0m\u001b[0m\n\u001b[1;32m    137\u001b[0m   \u001b[0mmountpoint\u001b[0m \u001b[0;34m=\u001b[0m \u001b[0m_os\u001b[0m\u001b[0;34m.\u001b[0m\u001b[0mpath\u001b[0m\u001b[0;34m.\u001b[0m\u001b[0mexpanduser\u001b[0m\u001b[0;34m(\u001b[0m\u001b[0mmountpoint\u001b[0m\u001b[0;34m)\u001b[0m\u001b[0;34m\u001b[0m\u001b[0;34m\u001b[0m\u001b[0m\n",
            "\u001b[0;32m/usr/local/lib/python3.7/dist-packages/google/colab/_message.py\u001b[0m in \u001b[0;36mblocking_request\u001b[0;34m(request_type, request, timeout_sec, parent)\u001b[0m\n\u001b[1;32m    173\u001b[0m   request_id = send_request(\n\u001b[1;32m    174\u001b[0m       request_type, request, parent=parent, expect_reply=True)\n\u001b[0;32m--> 175\u001b[0;31m   \u001b[0;32mreturn\u001b[0m \u001b[0mread_reply_from_input\u001b[0m\u001b[0;34m(\u001b[0m\u001b[0mrequest_id\u001b[0m\u001b[0;34m,\u001b[0m \u001b[0mtimeout_sec\u001b[0m\u001b[0;34m)\u001b[0m\u001b[0;34m\u001b[0m\u001b[0;34m\u001b[0m\u001b[0m\n\u001b[0m",
            "\u001b[0;32m/usr/local/lib/python3.7/dist-packages/google/colab/_message.py\u001b[0m in \u001b[0;36mread_reply_from_input\u001b[0;34m(message_id, timeout_sec)\u001b[0m\n\u001b[1;32m    104\u001b[0m         reply.get('colab_msg_id') == message_id):\n\u001b[1;32m    105\u001b[0m       \u001b[0;32mif\u001b[0m \u001b[0;34m'error'\u001b[0m \u001b[0;32min\u001b[0m \u001b[0mreply\u001b[0m\u001b[0;34m:\u001b[0m\u001b[0;34m\u001b[0m\u001b[0;34m\u001b[0m\u001b[0m\n\u001b[0;32m--> 106\u001b[0;31m         \u001b[0;32mraise\u001b[0m \u001b[0mMessageError\u001b[0m\u001b[0;34m(\u001b[0m\u001b[0mreply\u001b[0m\u001b[0;34m[\u001b[0m\u001b[0;34m'error'\u001b[0m\u001b[0;34m]\u001b[0m\u001b[0;34m)\u001b[0m\u001b[0;34m\u001b[0m\u001b[0;34m\u001b[0m\u001b[0m\n\u001b[0m\u001b[1;32m    107\u001b[0m       \u001b[0;32mreturn\u001b[0m \u001b[0mreply\u001b[0m\u001b[0;34m.\u001b[0m\u001b[0mget\u001b[0m\u001b[0;34m(\u001b[0m\u001b[0;34m'data'\u001b[0m\u001b[0;34m,\u001b[0m \u001b[0;32mNone\u001b[0m\u001b[0;34m)\u001b[0m\u001b[0;34m\u001b[0m\u001b[0;34m\u001b[0m\u001b[0m\n\u001b[1;32m    108\u001b[0m \u001b[0;34m\u001b[0m\u001b[0m\n",
            "\u001b[0;31mMessageError\u001b[0m: Error: credential propagation was unsuccessful"
          ]
        }
      ]
    },
    {
      "cell_type": "markdown",
      "metadata": {
        "id": "WN6iF9gqFfTU"
      },
      "source": [
        "Mengambil nama fitur / kata - kata yang terdapat dalam data dan melihat dimensi data setelah dilakukan vectorization menggunakan `TfidfVectorizer`"
      ]
    },
    {
      "cell_type": "code",
      "metadata": {
        "id": "9KKaQet-FfTV",
        "colab": {
          "base_uri": "https://localhost:8080/"
        },
        "outputId": "2658ecb5-5308-4c02-ac38-b40402cd6921"
      },
      "source": [
        "# Nama fitur\n",
        "nama_fitur = vectorizer_tfidf.get_feature_names()\n",
        "\n",
        "# Dimensi data\n",
        "dimensions = word_tfidf.get_shape()\n",
        "print(f\"Jumlah artikel = {dimensions[0]}\")\n",
        "print(f\"Jumlah fitur   = {dimensions[1]}\")"
      ],
      "execution_count": null,
      "outputs": [
        {
          "output_type": "stream",
          "name": "stdout",
          "text": [
            "Jumlah artikel = 8778\n",
            "Jumlah fitur   = 204\n"
          ]
        },
        {
          "output_type": "stream",
          "name": "stderr",
          "text": [
            "/usr/local/lib/python3.7/dist-packages/sklearn/utils/deprecation.py:87: FutureWarning: Function get_feature_names is deprecated; get_feature_names is deprecated in 1.0 and will be removed in 1.2. Please use get_feature_names_out instead.\n",
            "  warnings.warn(msg, category=FutureWarning)\n"
          ]
        }
      ]
    },
    {
      "cell_type": "markdown",
      "metadata": {
        "id": "DdoVb7eVFfTV"
      },
      "source": [
        "## 2.6. Kata dengan bobot TF-IDF tertinggi\n",
        "\n",
        "Melihat kata - kata dengan bobot TF-IDF tertinggi"
      ]
    },
    {
      "cell_type": "code",
      "metadata": {
        "id": "fZdQ5pRGFfTV",
        "colab": {
          "base_uri": "https://localhost:8080/",
          "height": 676
        },
        "outputId": "7be15115-cdc0-4da7-badc-31571d934f29"
      },
      "source": [
        "content1, content2 = [], []\n",
        "\n",
        "for n in range(dimensions[0]):\n",
        "    # Convert sparse matrix row by row \n",
        "    row = word_tfidf.getrow(n).toarray()[0].ravel()\n",
        "    # Get top values and its indexes \n",
        "    top_ten_indices = row.argsort()[-1]\n",
        "    top_ten_values = row[row.argsort()[-1]]\n",
        "    # Identify the highest TFIDF value and word #\n",
        "    highestTFIDFword = nama_fitur[top_ten_indices]\n",
        "    highestTFIDFvalue = top_ten_values\n",
        "    top1word = {'nomor artikel': n+1, 'nilai TFIDF': highestTFIDFvalue,\n",
        "                'top word': highestTFIDFword}\n",
        "    content1.append(top1word)\n",
        "    content2.append(highestTFIDFword)\n",
        "\n",
        "# Hitung Frekuensi kata dengan bobot terbesar\n",
        "content2 = np.asarray(content2)\n",
        "words, n = np.unique(content2, return_counts=True)\n",
        "\n",
        "# Convert to DataFrame lalu urutkan secara descending\n",
        "# lalu pilih 20 kata dengan frekuensi terbesar \n",
        "words_data = pd.DataFrame({\n",
        "    'Kata': words,\n",
        "    'Banyak': n\n",
        "}).sort_values(by='Banyak', ascending=False).head(20)\n",
        "words_data "
      ],
      "execution_count": null,
      "outputs": [
        {
          "output_type": "execute_result",
          "data": {
            "text/plain": [
              "            Kata  Banyak\n",
              "199           xf     722\n",
              "202           yg     181\n",
              "61     interaksi     131\n",
              "176     tersedia      89\n",
              "158       setiap      86\n",
              "194           xa      80\n",
              "106       maupun      79\n",
              "162           st      76\n",
              "54         hapus      75\n",
              "139         ppkm      75\n",
              "53         hanya      74\n",
              "6           anak      74\n",
              "47        edaran      73\n",
              "131  pemeriksaan      72\n",
              "41    diwajibkan      72\n",
              "142        resmi      72\n",
              "157      setelah      69\n",
              "86     ketentuan      67\n",
              "100    mandalika      66\n",
              "65           jam      66"
            ],
            "text/html": [
              "\n",
              "  <div id=\"df-8fb80ceb-88fe-448a-a918-4eb4b3424fd0\">\n",
              "    <div class=\"colab-df-container\">\n",
              "      <div>\n",
              "<style scoped>\n",
              "    .dataframe tbody tr th:only-of-type {\n",
              "        vertical-align: middle;\n",
              "    }\n",
              "\n",
              "    .dataframe tbody tr th {\n",
              "        vertical-align: top;\n",
              "    }\n",
              "\n",
              "    .dataframe thead th {\n",
              "        text-align: right;\n",
              "    }\n",
              "</style>\n",
              "<table border=\"1\" class=\"dataframe\">\n",
              "  <thead>\n",
              "    <tr style=\"text-align: right;\">\n",
              "      <th></th>\n",
              "      <th>Kata</th>\n",
              "      <th>Banyak</th>\n",
              "    </tr>\n",
              "  </thead>\n",
              "  <tbody>\n",
              "    <tr>\n",
              "      <th>199</th>\n",
              "      <td>xf</td>\n",
              "      <td>722</td>\n",
              "    </tr>\n",
              "    <tr>\n",
              "      <th>202</th>\n",
              "      <td>yg</td>\n",
              "      <td>181</td>\n",
              "    </tr>\n",
              "    <tr>\n",
              "      <th>61</th>\n",
              "      <td>interaksi</td>\n",
              "      <td>131</td>\n",
              "    </tr>\n",
              "    <tr>\n",
              "      <th>176</th>\n",
              "      <td>tersedia</td>\n",
              "      <td>89</td>\n",
              "    </tr>\n",
              "    <tr>\n",
              "      <th>158</th>\n",
              "      <td>setiap</td>\n",
              "      <td>86</td>\n",
              "    </tr>\n",
              "    <tr>\n",
              "      <th>194</th>\n",
              "      <td>xa</td>\n",
              "      <td>80</td>\n",
              "    </tr>\n",
              "    <tr>\n",
              "      <th>106</th>\n",
              "      <td>maupun</td>\n",
              "      <td>79</td>\n",
              "    </tr>\n",
              "    <tr>\n",
              "      <th>162</th>\n",
              "      <td>st</td>\n",
              "      <td>76</td>\n",
              "    </tr>\n",
              "    <tr>\n",
              "      <th>54</th>\n",
              "      <td>hapus</td>\n",
              "      <td>75</td>\n",
              "    </tr>\n",
              "    <tr>\n",
              "      <th>139</th>\n",
              "      <td>ppkm</td>\n",
              "      <td>75</td>\n",
              "    </tr>\n",
              "    <tr>\n",
              "      <th>53</th>\n",
              "      <td>hanya</td>\n",
              "      <td>74</td>\n",
              "    </tr>\n",
              "    <tr>\n",
              "      <th>6</th>\n",
              "      <td>anak</td>\n",
              "      <td>74</td>\n",
              "    </tr>\n",
              "    <tr>\n",
              "      <th>47</th>\n",
              "      <td>edaran</td>\n",
              "      <td>73</td>\n",
              "    </tr>\n",
              "    <tr>\n",
              "      <th>131</th>\n",
              "      <td>pemeriksaan</td>\n",
              "      <td>72</td>\n",
              "    </tr>\n",
              "    <tr>\n",
              "      <th>41</th>\n",
              "      <td>diwajibkan</td>\n",
              "      <td>72</td>\n",
              "    </tr>\n",
              "    <tr>\n",
              "      <th>142</th>\n",
              "      <td>resmi</td>\n",
              "      <td>72</td>\n",
              "    </tr>\n",
              "    <tr>\n",
              "      <th>157</th>\n",
              "      <td>setelah</td>\n",
              "      <td>69</td>\n",
              "    </tr>\n",
              "    <tr>\n",
              "      <th>86</th>\n",
              "      <td>ketentuan</td>\n",
              "      <td>67</td>\n",
              "    </tr>\n",
              "    <tr>\n",
              "      <th>100</th>\n",
              "      <td>mandalika</td>\n",
              "      <td>66</td>\n",
              "    </tr>\n",
              "    <tr>\n",
              "      <th>65</th>\n",
              "      <td>jam</td>\n",
              "      <td>66</td>\n",
              "    </tr>\n",
              "  </tbody>\n",
              "</table>\n",
              "</div>\n",
              "      <button class=\"colab-df-convert\" onclick=\"convertToInteractive('df-8fb80ceb-88fe-448a-a918-4eb4b3424fd0')\"\n",
              "              title=\"Convert this dataframe to an interactive table.\"\n",
              "              style=\"display:none;\">\n",
              "        \n",
              "  <svg xmlns=\"http://www.w3.org/2000/svg\" height=\"24px\"viewBox=\"0 0 24 24\"\n",
              "       width=\"24px\">\n",
              "    <path d=\"M0 0h24v24H0V0z\" fill=\"none\"/>\n",
              "    <path d=\"M18.56 5.44l.94 2.06.94-2.06 2.06-.94-2.06-.94-.94-2.06-.94 2.06-2.06.94zm-11 1L8.5 8.5l.94-2.06 2.06-.94-2.06-.94L8.5 2.5l-.94 2.06-2.06.94zm10 10l.94 2.06.94-2.06 2.06-.94-2.06-.94-.94-2.06-.94 2.06-2.06.94z\"/><path d=\"M17.41 7.96l-1.37-1.37c-.4-.4-.92-.59-1.43-.59-.52 0-1.04.2-1.43.59L10.3 9.45l-7.72 7.72c-.78.78-.78 2.05 0 2.83L4 21.41c.39.39.9.59 1.41.59.51 0 1.02-.2 1.41-.59l7.78-7.78 2.81-2.81c.8-.78.8-2.07 0-2.86zM5.41 20L4 18.59l7.72-7.72 1.47 1.35L5.41 20z\"/>\n",
              "  </svg>\n",
              "      </button>\n",
              "      \n",
              "  <style>\n",
              "    .colab-df-container {\n",
              "      display:flex;\n",
              "      flex-wrap:wrap;\n",
              "      gap: 12px;\n",
              "    }\n",
              "\n",
              "    .colab-df-convert {\n",
              "      background-color: #E8F0FE;\n",
              "      border: none;\n",
              "      border-radius: 50%;\n",
              "      cursor: pointer;\n",
              "      display: none;\n",
              "      fill: #1967D2;\n",
              "      height: 32px;\n",
              "      padding: 0 0 0 0;\n",
              "      width: 32px;\n",
              "    }\n",
              "\n",
              "    .colab-df-convert:hover {\n",
              "      background-color: #E2EBFA;\n",
              "      box-shadow: 0px 1px 2px rgba(60, 64, 67, 0.3), 0px 1px 3px 1px rgba(60, 64, 67, 0.15);\n",
              "      fill: #174EA6;\n",
              "    }\n",
              "\n",
              "    [theme=dark] .colab-df-convert {\n",
              "      background-color: #3B4455;\n",
              "      fill: #D2E3FC;\n",
              "    }\n",
              "\n",
              "    [theme=dark] .colab-df-convert:hover {\n",
              "      background-color: #434B5C;\n",
              "      box-shadow: 0px 1px 3px 1px rgba(0, 0, 0, 0.15);\n",
              "      filter: drop-shadow(0px 1px 2px rgba(0, 0, 0, 0.3));\n",
              "      fill: #FFFFFF;\n",
              "    }\n",
              "  </style>\n",
              "\n",
              "      <script>\n",
              "        const buttonEl =\n",
              "          document.querySelector('#df-8fb80ceb-88fe-448a-a918-4eb4b3424fd0 button.colab-df-convert');\n",
              "        buttonEl.style.display =\n",
              "          google.colab.kernel.accessAllowed ? 'block' : 'none';\n",
              "\n",
              "        async function convertToInteractive(key) {\n",
              "          const element = document.querySelector('#df-8fb80ceb-88fe-448a-a918-4eb4b3424fd0');\n",
              "          const dataTable =\n",
              "            await google.colab.kernel.invokeFunction('convertToInteractive',\n",
              "                                                     [key], {});\n",
              "          if (!dataTable) return;\n",
              "\n",
              "          const docLinkHtml = 'Like what you see? Visit the ' +\n",
              "            '<a target=\"_blank\" href=https://colab.research.google.com/notebooks/data_table.ipynb>data table notebook</a>'\n",
              "            + ' to learn more about interactive tables.';\n",
              "          element.innerHTML = '';\n",
              "          dataTable['output_type'] = 'display_data';\n",
              "          await google.colab.output.renderOutput(dataTable, element);\n",
              "          const docLink = document.createElement('div');\n",
              "          docLink.innerHTML = docLinkHtml;\n",
              "          element.appendChild(docLink);\n",
              "        }\n",
              "      </script>\n",
              "    </div>\n",
              "  </div>\n",
              "  "
            ]
          },
          "metadata": {},
          "execution_count": 23
        }
      ]
    },
    {
      "cell_type": "markdown",
      "metadata": {
        "id": "mJMtxZ8eFfTW"
      },
      "source": [
        "**Visualisasi hasil**"
      ]
    },
    {
      "cell_type": "code",
      "metadata": {
        "id": "hTVBX7KtFfTW",
        "colab": {
          "base_uri": "https://localhost:8080/",
          "height": 686
        },
        "outputId": "0a5cb217-55d3-41c5-df36-817799749ab0"
      },
      "source": [
        "# Plotting Barplot\n",
        "plt.figure(figsize = (10,10))\n",
        "sns.barplot(x = words_data['Kata'],y = words_data['Banyak'])\n",
        "for i, v in enumerate(words_data['Banyak'].tolist()):\n",
        "    plt.text(i-len(str(v))/10-.05, v + 50, str(v),fontsize=10)\n",
        "plt.title('Kata Dengan Bobot Terbesar',fontsize=20)\n",
        "plt.xticks(rotation=90)\n",
        "plt.xlabel('Kata',fontsize=16)\n",
        "plt.ylabel('Frekuensi',fontsize=16)\n",
        "plt.show()"
      ],
      "execution_count": null,
      "outputs": [
        {
          "output_type": "display_data",
          "data": {
            "text/plain": [
              "<Figure size 720x720 with 1 Axes>"
            ],
            "image/png": "[encoded data removed]"
          },
          "metadata": {
            "needs_background": "light"
          }
        }
      ]
    },
    {
      "cell_type": "code",
      "source": [
        "df  = pd.DataFrame(data[['Date', 'Content']])\n",
        "\n",
        "from wordcloud import WordCloud, STOPWORDS , ImageColorGenerator\n",
        "# Start with one review:\n",
        "df_ADR = data[data['Content']==1]\n",
        "df_NADR = data[data['Content']==0]\n",
        "tweet_All = \" \".join(review for review in df.Content)\n",
        "tweet_ADR = \" \".join(review for review in df_ADR.Content)\n",
        "tweet_NADR = \" \".join(review for review in df_NADR.Content)\n",
        "\n",
        "fig, ax = plt.subplots(3, 1, figsize  = (30,30))\n",
        "# Create and generate a word cloud image:\n",
        "wordcloud_ALL = WordCloud(max_font_size=50, max_words=100, background_color=\"white\").generate(tweet_All)\n",
        "wordcloud_ADR = WordCloud(max_font_size=50, max_words=100, background_color=\"white\").generate(tweet_ADR)\n",
        "wordcloud_NADR = WordCloud(max_font_size=50, max_words=100, background_color=\"white\").generate(tweet_NADR)\n",
        "\n",
        "# Display the generated image:\n",
        "ax[0].imshow(wordcloud_ALL, interpolation='bilinear')\n",
        "ax[0].set_title('All Tweets', fontsize=30)\n",
        "ax[0].axis('off')\n",
        "ax[1].imshow(wordcloud_ADR, interpolation='bilinear')\n",
        "ax[1].set_title('Tweets under ADR Class',fontsize=30)\n",
        "ax[1].axis('off')\n",
        "ax[2].imshow(wordcloud_NADR, interpolation='bilinear')\n",
        "ax[2].set_title('Tweets under None - ADR Class',fontsize=30)\n",
        "ax[2].axis('off')\n",
        "\n",
        "#wordcloud.to_file(\"img/first_review.png\")"
      ],
      "metadata": {
        "colab": {
          "base_uri": "https://localhost:8080/",
          "height": 1000
        },
        "id": "YLjqGN3lgVts",
        "outputId": "fbf9e4f9-68f7-4ddc-df5b-dffaeae54a61"
      },
      "execution_count": null,
      "outputs": [
        {
          "output_type": "error",
          "ename": "ValueError",
          "evalue": "ignored",
          "traceback": [
            "\u001b[0;31m---------------------------------------------------------------------------\u001b[0m",
            "\u001b[0;31mValueError\u001b[0m                                Traceback (most recent call last)",
            "\u001b[0;32m<ipython-input-33-5875639359f8>\u001b[0m in \u001b[0;36m<module>\u001b[0;34m()\u001b[0m\n\u001b[1;32m     12\u001b[0m \u001b[0;31m# Create and generate a word cloud image:\u001b[0m\u001b[0;34m\u001b[0m\u001b[0;34m\u001b[0m\u001b[0;34m\u001b[0m\u001b[0m\n\u001b[1;32m     13\u001b[0m \u001b[0mwordcloud_ALL\u001b[0m \u001b[0;34m=\u001b[0m \u001b[0mWordCloud\u001b[0m\u001b[0;34m(\u001b[0m\u001b[0mmax_font_size\u001b[0m\u001b[0;34m=\u001b[0m\u001b[0;36m50\u001b[0m\u001b[0;34m,\u001b[0m \u001b[0mmax_words\u001b[0m\u001b[0;34m=\u001b[0m\u001b[0;36m100\u001b[0m\u001b[0;34m,\u001b[0m \u001b[0mbackground_color\u001b[0m\u001b[0;34m=\u001b[0m\u001b[0;34m\"white\"\u001b[0m\u001b[0;34m)\u001b[0m\u001b[0;34m.\u001b[0m\u001b[0mgenerate\u001b[0m\u001b[0;34m(\u001b[0m\u001b[0mtweet_All\u001b[0m\u001b[0;34m)\u001b[0m\u001b[0;34m\u001b[0m\u001b[0;34m\u001b[0m\u001b[0m\n\u001b[0;32m---> 14\u001b[0;31m \u001b[0mwordcloud_ADR\u001b[0m \u001b[0;34m=\u001b[0m \u001b[0mWordCloud\u001b[0m\u001b[0;34m(\u001b[0m\u001b[0mmax_font_size\u001b[0m\u001b[0;34m=\u001b[0m\u001b[0;36m50\u001b[0m\u001b[0;34m,\u001b[0m \u001b[0mmax_words\u001b[0m\u001b[0;34m=\u001b[0m\u001b[0;36m100\u001b[0m\u001b[0;34m,\u001b[0m \u001b[0mbackground_color\u001b[0m\u001b[0;34m=\u001b[0m\u001b[0;34m\"white\"\u001b[0m\u001b[0;34m)\u001b[0m\u001b[0;34m.\u001b[0m\u001b[0mgenerate\u001b[0m\u001b[0;34m(\u001b[0m\u001b[0mtweet_ADR\u001b[0m\u001b[0;34m)\u001b[0m\u001b[0;34m\u001b[0m\u001b[0;34m\u001b[0m\u001b[0m\n\u001b[0m\u001b[1;32m     15\u001b[0m \u001b[0mwordcloud_NADR\u001b[0m \u001b[0;34m=\u001b[0m \u001b[0mWordCloud\u001b[0m\u001b[0;34m(\u001b[0m\u001b[0mmax_font_size\u001b[0m\u001b[0;34m=\u001b[0m\u001b[0;36m50\u001b[0m\u001b[0;34m,\u001b[0m \u001b[0mmax_words\u001b[0m\u001b[0;34m=\u001b[0m\u001b[0;36m100\u001b[0m\u001b[0;34m,\u001b[0m \u001b[0mbackground_color\u001b[0m\u001b[0;34m=\u001b[0m\u001b[0;34m\"white\"\u001b[0m\u001b[0;34m)\u001b[0m\u001b[0;34m.\u001b[0m\u001b[0mgenerate\u001b[0m\u001b[0;34m(\u001b[0m\u001b[0mtweet_NADR\u001b[0m\u001b[0;34m)\u001b[0m\u001b[0;34m\u001b[0m\u001b[0;34m\u001b[0m\u001b[0m\n\u001b[1;32m     16\u001b[0m \u001b[0;34m\u001b[0m\u001b[0m\n",
            "\u001b[0;32m/usr/local/lib/python3.7/dist-packages/wordcloud/wordcloud.py\u001b[0m in \u001b[0;36mgenerate\u001b[0;34m(self, text)\u001b[0m\n\u001b[1;32m    603\u001b[0m         \u001b[0mself\u001b[0m\u001b[0;34m\u001b[0m\u001b[0;34m\u001b[0m\u001b[0m\n\u001b[1;32m    604\u001b[0m         \"\"\"\n\u001b[0;32m--> 605\u001b[0;31m         \u001b[0;32mreturn\u001b[0m \u001b[0mself\u001b[0m\u001b[0;34m.\u001b[0m\u001b[0mgenerate_from_text\u001b[0m\u001b[0;34m(\u001b[0m\u001b[0mtext\u001b[0m\u001b[0;34m)\u001b[0m\u001b[0;34m\u001b[0m\u001b[0;34m\u001b[0m\u001b[0m\n\u001b[0m\u001b[1;32m    606\u001b[0m \u001b[0;34m\u001b[0m\u001b[0m\n\u001b[1;32m    607\u001b[0m     \u001b[0;32mdef\u001b[0m \u001b[0m_check_generated\u001b[0m\u001b[0;34m(\u001b[0m\u001b[0mself\u001b[0m\u001b[0;34m)\u001b[0m\u001b[0;34m:\u001b[0m\u001b[0;34m\u001b[0m\u001b[0;34m\u001b[0m\u001b[0m\n",
            "\u001b[0;32m/usr/local/lib/python3.7/dist-packages/wordcloud/wordcloud.py\u001b[0m in \u001b[0;36mgenerate_from_text\u001b[0;34m(self, text)\u001b[0m\n\u001b[1;32m    585\u001b[0m         \"\"\"\n\u001b[1;32m    586\u001b[0m         \u001b[0mwords\u001b[0m \u001b[0;34m=\u001b[0m \u001b[0mself\u001b[0m\u001b[0;34m.\u001b[0m\u001b[0mprocess_text\u001b[0m\u001b[0;34m(\u001b[0m\u001b[0mtext\u001b[0m\u001b[0;34m)\u001b[0m\u001b[0;34m\u001b[0m\u001b[0;34m\u001b[0m\u001b[0m\n\u001b[0;32m--> 587\u001b[0;31m         \u001b[0mself\u001b[0m\u001b[0;34m.\u001b[0m\u001b[0mgenerate_from_frequencies\u001b[0m\u001b[0;34m(\u001b[0m\u001b[0mwords\u001b[0m\u001b[0;34m)\u001b[0m\u001b[0;34m\u001b[0m\u001b[0;34m\u001b[0m\u001b[0m\n\u001b[0m\u001b[1;32m    588\u001b[0m         \u001b[0;32mreturn\u001b[0m \u001b[0mself\u001b[0m\u001b[0;34m\u001b[0m\u001b[0;34m\u001b[0m\u001b[0m\n\u001b[1;32m    589\u001b[0m \u001b[0;34m\u001b[0m\u001b[0m\n",
            "\u001b[0;32m/usr/local/lib/python3.7/dist-packages/wordcloud/wordcloud.py\u001b[0m in \u001b[0;36mgenerate_from_frequencies\u001b[0;34m(self, frequencies, max_font_size)\u001b[0m\n\u001b[1;32m    381\u001b[0m         \u001b[0;32mif\u001b[0m \u001b[0mlen\u001b[0m\u001b[0;34m(\u001b[0m\u001b[0mfrequencies\u001b[0m\u001b[0;34m)\u001b[0m \u001b[0;34m<=\u001b[0m \u001b[0;36m0\u001b[0m\u001b[0;34m:\u001b[0m\u001b[0;34m\u001b[0m\u001b[0;34m\u001b[0m\u001b[0m\n\u001b[1;32m    382\u001b[0m             raise ValueError(\"We need at least 1 word to plot a word cloud, \"\n\u001b[0;32m--> 383\u001b[0;31m                              \"got %d.\" % len(frequencies))\n\u001b[0m\u001b[1;32m    384\u001b[0m         \u001b[0mfrequencies\u001b[0m \u001b[0;34m=\u001b[0m \u001b[0mfrequencies\u001b[0m\u001b[0;34m[\u001b[0m\u001b[0;34m:\u001b[0m\u001b[0mself\u001b[0m\u001b[0;34m.\u001b[0m\u001b[0mmax_words\u001b[0m\u001b[0;34m]\u001b[0m\u001b[0;34m\u001b[0m\u001b[0;34m\u001b[0m\u001b[0m\n\u001b[1;32m    385\u001b[0m \u001b[0;34m\u001b[0m\u001b[0m\n",
            "\u001b[0;31mValueError\u001b[0m: We need at least 1 word to plot a word cloud, got 0."
          ]
        },
        {
          "output_type": "display_data",
          "data": {
            "text/plain": [
              "<Figure size 2160x2160 with 3 Axes>"
            ],
            "image/png": "[encoded data removed]"
          },
          "metadata": {
            "needs_background": "light"
          }
        }
      ]
    },
    {
      "cell_type": "markdown",
      "metadata": {
        "id": "ObajbAvHFfTW"
      },
      "source": [
        "## 3. Pemodelan\n",
        "\n",
        "Akan dilakukan pemodelan menggunakan beberapa metode machine learning seperti:\n",
        "\n",
        "1. Decision Tree\n",
        "2. Logistic Regression\n",
        "3. Random Forest Classifier\n",
        "4. Support Vector Machine\n",
        "\n",
        "Lalu performa model - model tersebut akan dibandingkan dengan melihat metric `accuracy` untuk dipilih sebagai model terbaik."
      ]
    },
    {
      "cell_type": "markdown",
      "metadata": {
        "id": "2d1pmivWFfTW"
      },
      "source": [
        "## 3.1. Loading Sample Data\n",
        "\n",
        "Karena untuk melakukan pemodelan dengan motode - metode yang telah di jabarkan memerlukan label (`y`) sedangkan data hasil crawling tidak memiliki label (`y`). Maka perlu dilakukan labeling secara manual dengan ketentuan:\n",
        "\n",
        "* `0` adalah label untuk tweet yang bersentimen `negatif`\n",
        "* `1` adalah label untuk tweet yang bersentimen `netral`\n",
        "* `2` adalah label untuk tweet yang bersentimen `positif`\n",
        "\n",
        "Karena jika menggunakan seluruh data yang di crawl untuk dilakukan labelng secara manual membutuhkan waktu dan tenaga yang besar (karena jumlah datanya sangat banyak), maka perlu dilakukan sampling terhadap dataset untuk mengambil sebagian data. Pada notebook ini akan digunakan dataset hasil sampling data dan telah dilakukan labeling secara manual oleh penulis, untuk proses samplingnya dapat dilihat pada notebook `Sampling.ipynb`"
      ]
    },
    {
      "cell_type": "code",
      "metadata": {
        "id": "vV2_Gr_tFfTX",
        "colab": {
          "base_uri": "https://localhost:8080/",
          "height": 206
        },
        "outputId": "70b63192-9d0e-4fbe-eb93-c4e8d1b0e243"
      },
      "source": [
        "# Loading Sample tweet sentiment\n",
        "sample = pd.read_csv('/content/Indodax - Sample Tweet.csv')\n",
        "sample.head()"
      ],
      "execution_count": null,
      "outputs": [
        {
          "output_type": "execute_result",
          "data": {
            "text/html": [
              "<div>\n",
              "<style scoped>\n",
              "    .dataframe tbody tr th:only-of-type {\n",
              "        vertical-align: middle;\n",
              "    }\n",
              "\n",
              "    .dataframe tbody tr th {\n",
              "        vertical-align: top;\n",
              "    }\n",
              "\n",
              "    .dataframe thead th {\n",
              "        text-align: right;\n",
              "    }\n",
              "</style>\n",
              "<table border=\"1\" class=\"dataframe\">\n",
              "  <thead>\n",
              "    <tr style=\"text-align: right;\">\n",
              "      <th></th>\n",
              "      <th>Date</th>\n",
              "      <th>Index</th>\n",
              "      <th>Content</th>\n",
              "      <th>Sentiment</th>\n",
              "    </tr>\n",
              "  </thead>\n",
              "  <tbody>\n",
              "    <tr>\n",
              "      <th>0</th>\n",
              "      <td>2021-12-01 6:43:00</td>\n",
              "      <td>0</td>\n",
              "      <td>Pertama kali main disini dan pro disini lama\" ...</td>\n",
              "      <td>0</td>\n",
              "    </tr>\n",
              "    <tr>\n",
              "      <th>1</th>\n",
              "      <td>2021-11-30 13:31:30</td>\n",
              "      <td>1</td>\n",
              "      <td>YA ampun platform terbesar di indonesia masih ...</td>\n",
              "      <td>0</td>\n",
              "    </tr>\n",
              "    <tr>\n",
              "      <th>2</th>\n",
              "      <td>2021-12-01 5:58:21</td>\n",
              "      <td>2</td>\n",
              "      <td>Indodax sehat???,..... 4hari terakhir ini gx b...</td>\n",
              "      <td>0</td>\n",
              "    </tr>\n",
              "    <tr>\n",
              "      <th>3</th>\n",
              "      <td>2021-11-05 0:52:06</td>\n",
              "      <td>3</td>\n",
              "      <td>Setelah pembaruan malah ngaco indodax ini 1w i...</td>\n",
              "      <td>0</td>\n",
              "    </tr>\n",
              "    <tr>\n",
              "      <th>4</th>\n",
              "      <td>2021-11-23 12:02:41</td>\n",
              "      <td>4</td>\n",
              "      <td>Sangat mengewakan deposit saya dari tgl 28 okt...</td>\n",
              "      <td>0</td>\n",
              "    </tr>\n",
              "  </tbody>\n",
              "</table>\n",
              "</div>"
            ],
            "text/plain": [
              "                  Date  ...  Sentiment\n",
              "0   2021-12-01 6:43:00  ...          0\n",
              "1  2021-11-30 13:31:30  ...          0\n",
              "2   2021-12-01 5:58:21  ...          0\n",
              "3   2021-11-05 0:52:06  ...          0\n",
              "4  2021-11-23 12:02:41  ...          0\n",
              "\n",
              "[5 rows x 4 columns]"
            ]
          },
          "metadata": {},
          "execution_count": 40
        }
      ]
    },
    {
      "cell_type": "markdown",
      "metadata": {
        "id": "7feUlSnzFfTX"
      },
      "source": [
        "## 3.2. Preprocess Sampling dataset\n",
        "\n",
        "Encode kolom `Tweets` pada sampling dataset dengan menggunakan `TfidfVectorizer` yang sebelumnya. Lalu extract `x` dan `y` dari dataframe"
      ]
    },
    {
      "cell_type": "code",
      "metadata": {
        "id": "YkSgZ3J7FfTX",
        "colab": {
          "base_uri": "https://localhost:8080/"
        },
        "outputId": "84aa8873-4e62-4f01-b577-616721dbed2a"
      },
      "source": [
        "sample['Content'] = sample['Content'].apply(lambda x : cleaning(x))\n",
        "sample['Content'] = sample['Content'].apply(lambda x : preprocessor(x))\n",
        "sample['Content'] = sample['Content'].apply(lambda x : tokenizer(x))\n",
        "sample['Content'].values[:5]"
      ],
      "execution_count": null,
      "outputs": [
        {
          "output_type": "execute_result",
          "data": {
            "text/plain": [
              "array(['main ngerasa aneh kuat pindah platform parahh aslilahh kali harga error suka ngelist coin fungsi ujung delist suka ngelist coin kasihan awam gabung',\n",
              "       'ampun platform besar indonesia bisa tipu koin vidy vidyx aset hold delist trus uang dikemanain download koin hilang astaga kecewa dah bintang cocok aplikasi',\n",
              "       'indodax sehat suruh masuk kali donlot ulang aplikasi suport android mending depak playstore',\n",
              "       'baru ngaco indodax isi isi update gopay menu sambung gopay',\n",
              "       'ewa deposit suruh tunggu kerja lapor saya sungguh ribet layan email tunggu tunggu'],\n",
              "      dtype=object)"
            ]
          },
          "metadata": {},
          "execution_count": 41
        }
      ]
    },
    {
      "cell_type": "code",
      "metadata": {
        "id": "2vkEbvAPFfTY"
      },
      "source": [
        "x = vectorizer_tfidf.transform(sample['Content'].values)\n",
        "y = sample['Sentiment'].values"
      ],
      "execution_count": null,
      "outputs": []
    },
    {
      "cell_type": "markdown",
      "metadata": {
        "id": "yvbyz8asFfTY"
      },
      "source": [
        "**Splitting Data**\n",
        "\n",
        "Membagi data menjadi data `train` dan data `valid` dengan perbandingan `80:20`"
      ]
    },
    {
      "cell_type": "code",
      "metadata": {
        "id": "-AgBRwnVFfTY"
      },
      "source": [
        "from sklearn.model_selection import train_test_split\n",
        "\n",
        "x_train, x_valid, y_train, y_valid = train_test_split(x, y, test_size=0.2, random_state=2020)"
      ],
      "execution_count": null,
      "outputs": []
    },
    {
      "cell_type": "markdown",
      "metadata": {
        "id": "gaHcXXoyFfTZ"
      },
      "source": [
        "## 3.3. Fitting Model\n",
        "\n",
        "Akan dilakukan fitting model - model terhadap data `train` lalu model - model tersebut akan diukur keakuratannya dengan menghitung akurasinya pada data `valid`"
      ]
    },
    {
      "cell_type": "code",
      "metadata": {
        "id": "x9Hr0R3PFfTZ",
        "colab": {
          "base_uri": "https://localhost:8080/"
        },
        "outputId": "03dc736f-b1b4-4254-f23f-e89a601d5b98"
      },
      "source": [
        "# Modelling\n",
        "from sklearn.linear_model import LogisticRegression\n",
        "from sklearn.ensemble import RandomForestClassifier\n",
        "from sklearn.tree import DecisionTreeClassifier\n",
        "from sklearn.svm import SVC\n",
        "from sklearn import metrics\n",
        "\n",
        "classifiers = {\n",
        "    \"Decision Tree Classifier\": DecisionTreeClassifier(),\n",
        "    \"Logistic Regression\": LogisticRegression(),\n",
        "    \"Random Forest Classifier\": RandomForestClassifier(),\n",
        "    \"SVM\": SVC(probability=True)\n",
        "}\n",
        "\n",
        "for name in classifiers.keys():\n",
        "    classifiers[name].fit(x_train, y_train)\n",
        "    y_pred = classifiers[name].predict(x_valid)\n",
        "    print(f\"Akurasi dari {name} : \",metrics.accuracy_score(y_valid, y_pred))"
      ],
      "execution_count": null,
      "outputs": [
        {
          "output_type": "stream",
          "name": "stdout",
          "text": [
            "Akurasi dari Decision Tree Classifier :  0.5285714285714286\n",
            "Akurasi dari Logistic Regression :  0.5928571428571429\n",
            "Akurasi dari Random Forest Classifier :  0.6142857142857143\n",
            "Akurasi dari SVM :  0.5857142857142857\n"
          ]
        }
      ]
    },
    {
      "cell_type": "markdown",
      "metadata": {
        "id": "YmeQupFYFfTZ"
      },
      "source": [
        "**Insight**\n",
        "\n",
        "Dapat dilihat bahwa `Random Forest Classifier` memiliki performa yang jauh lebih baik dari model - model yang lain. Maka dari itu model `Random Forest Classifier` akan digunakan untuk memprediksi keseluruhan data"
      ]
    },
    {
      "cell_type": "markdown",
      "metadata": {
        "id": "dVo81mlgFfTa"
      },
      "source": [
        "## 4. Prediction (Peramalan)\n",
        "\n",
        "Akan dilakukan peramalan terhadap keseluruhan data menggunakan medel `SVM` yang telah di fit sebelumnya"
      ]
    },
    {
      "cell_type": "code",
      "metadata": {
        "id": "nbcZ10RJFfTa",
        "colab": {
          "base_uri": "https://localhost:8080/",
          "height": 206
        },
        "outputId": "ed062048-826d-46e3-f7a1-0e2de950d7bb"
      },
      "source": [
        "data['prediction'] = classifiers['Random Forest Classifier'].predict(word_tfidf)\n",
        "data.head()"
      ],
      "execution_count": null,
      "outputs": [
        {
          "output_type": "execute_result",
          "data": {
            "text/html": [
              "<div>\n",
              "<style scoped>\n",
              "    .dataframe tbody tr th:only-of-type {\n",
              "        vertical-align: middle;\n",
              "    }\n",
              "\n",
              "    .dataframe tbody tr th {\n",
              "        vertical-align: top;\n",
              "    }\n",
              "\n",
              "    .dataframe thead th {\n",
              "        text-align: right;\n",
              "    }\n",
              "</style>\n",
              "<table border=\"1\" class=\"dataframe\">\n",
              "  <thead>\n",
              "    <tr style=\"text-align: right;\">\n",
              "      <th></th>\n",
              "      <th>Date</th>\n",
              "      <th>Content</th>\n",
              "      <th>prediction</th>\n",
              "    </tr>\n",
              "  </thead>\n",
              "  <tbody>\n",
              "    <tr>\n",
              "      <th>0</th>\n",
              "      <td>2021-12-01 6:43:00</td>\n",
              "      <td>pertama kali main disini dan pro disini lama  ...</td>\n",
              "      <td>0</td>\n",
              "    </tr>\n",
              "    <tr>\n",
              "      <th>1</th>\n",
              "      <td>2021-11-30 13:31:30</td>\n",
              "      <td>ya ampun platform terbesar di indonesia masih ...</td>\n",
              "      <td>0</td>\n",
              "    </tr>\n",
              "    <tr>\n",
              "      <th>2</th>\n",
              "      <td>2021-12-01 5:58:21</td>\n",
              "      <td>indodax sehat          hari terakhir ini gx bi...</td>\n",
              "      <td>0</td>\n",
              "    </tr>\n",
              "    <tr>\n",
              "      <th>3</th>\n",
              "      <td>2021-11-05 0:52:06</td>\n",
              "      <td>setelah pembaruan malah ngaco indodax ini w is...</td>\n",
              "      <td>1</td>\n",
              "    </tr>\n",
              "    <tr>\n",
              "      <th>4</th>\n",
              "      <td>2021-11-23 12:02:41</td>\n",
              "      <td>sangat mengewakan deposit saya dari tgl  okt  ...</td>\n",
              "      <td>0</td>\n",
              "    </tr>\n",
              "  </tbody>\n",
              "</table>\n",
              "</div>"
            ],
            "text/plain": [
              "                  Date  ... prediction\n",
              "0   2021-12-01 6:43:00  ...          0\n",
              "1  2021-11-30 13:31:30  ...          0\n",
              "2   2021-12-01 5:58:21  ...          0\n",
              "3   2021-11-05 0:52:06  ...          1\n",
              "4  2021-11-23 12:02:41  ...          0\n",
              "\n",
              "[5 rows x 3 columns]"
            ]
          },
          "metadata": {},
          "execution_count": 45
        }
      ]
    },
    {
      "cell_type": "markdown",
      "metadata": {
        "id": "-u0SSkR6FfTa"
      },
      "source": [
        "## 5. Visualization\n",
        "\n",
        "Visualisasi sentimen hasil predisian model `SVM`"
      ]
    },
    {
      "cell_type": "markdown",
      "metadata": {
        "id": "gPTRJh0BFfTa"
      },
      "source": [
        "## 5.1. Perbandingan Sentimen\n",
        "\n",
        "Perbandingan jumlah antar sentimen yang ada"
      ]
    },
    {
      "cell_type": "code",
      "metadata": {
        "id": "QOZVntN3FfTb",
        "colab": {
          "base_uri": "https://localhost:8080/",
          "height": 486
        },
        "outputId": "91aeec0c-c156-444a-c964-8de80b0f599d"
      },
      "source": [
        "# Plotting Pie\n",
        "def pct_pie(pct, allvals):\n",
        "    absolute = int(pct/100.*np.sum(allvals))\n",
        "    return \"{:.1f}%\\n{:d}\".format(pct, absolute)\n",
        "\n",
        "sentimen = data['Content'].groupby(data['prediction']).count().values\n",
        "\n",
        "plt.figure(figsize = (8,8))\n",
        "plt.pie(sentimen, explode=(0,0,0.1), labels=['Negatif','Netral','Positif'], shadow=True,\n",
        "        autopct=lambda pct: pct_pie(pct, sentimen),startangle=90)\n",
        "plt.title('Perbandingan Sentiment',fontsize=18)\n",
        "plt.axis('equal')\n",
        "plt.legend(fontsize=11)\n",
        "plt.show()"
      ],
      "execution_count": null,
      "outputs": [
        {
          "output_type": "display_data",
          "data": {
            "image/png": "[encoded data removed]",
            "text/plain": [
              "<Figure size 576x576 with 1 Axes>"
            ]
          },
          "metadata": {}
        }
      ]
    },
    {
      "cell_type": "markdown",
      "metadata": {
        "id": "Pg4-M0PiFfTb"
      },
      "source": [
        "**Insight**\n",
        "\n",
        "Dapat dilihat dari pie chart di atas bahwa pada rentang 19 - 27 April 2020 jumlah tweet masyarakat DKI Jakarta dengan topik COVID-19 yang bermuatan positif jauh lebih banyak dari tweet yang bermuatan negatif sedangkan tweet yang bermuatan netral jauh melampaui keduanya."
      ]
    },
    {
      "cell_type": "markdown",
      "metadata": {
        "id": "8QaLtt-0FfTb"
      },
      "source": [
        "## 5.2. Tweet perhari Berdasarkan Sentimen\n",
        "\n",
        "Akan dilihat perbandingan tweet perharinya dari tanggal 19 - 27 April 2020 berdasarkan sentimennya"
      ]
    },
    {
      "cell_type": "code",
      "metadata": {
        "id": "w-wGlH3fFfTb"
      },
      "source": [
        "# Melihat banyak Tweet perhari berdasarkan sentiment\n",
        "data['Date'] = pd.to_datetime(data['Date'])\n",
        "tph = data['Content'].groupby([data['Date'].dt.date, data['prediction']]).count()\n",
        "frek = tph.values\n",
        "\n",
        "# To Data Frame\n",
        "tanggal = [ i for i, j in tph.index.tolist() ]\n",
        "senti = [ j for i, j in tph.index.tolist() ]\n",
        "sent = pd.DataFrame({'Date':tanggal,'Sentiment':senti, 'Frekuensi':frek})"
      ],
      "execution_count": null,
      "outputs": []
    },
    {
      "cell_type": "code",
      "metadata": {
        "id": "HaIs0rCiFfTc",
        "colab": {
          "base_uri": "https://localhost:8080/",
          "height": 658
        },
        "outputId": "93a871b9-30a7-4c4a-d13a-432c808ea50b"
      },
      "source": [
        "# Plotting line\n",
        "plt.figure(figsize = (10,10))\n",
        "sns.lineplot(x='Date',y='Frekuensi',hue='Sentiment',data=sent)\n",
        "plt.title('Banyak Tweet per Hari',fontsize=20)\n",
        "plt.xticks(rotation=45)\n",
        "plt.xlabel('Date',fontsize=16)\n",
        "plt.ylabel('Frekuensi',fontsize=16)\n",
        "plt.legend(['Negatif','Netral','Positif'])\n",
        "plt.show()"
      ],
      "execution_count": null,
      "outputs": [
        {
          "output_type": "display_data",
          "data": {
            "image/png": "[encoded data removed]",
            "text/plain": [
              "<Figure size 720x720 with 1 Axes>"
            ]
          },
          "metadata": {
            "needs_background": "light"
          }
        }
      ]
    },
    {
      "cell_type": "markdown",
      "metadata": {
        "id": "i5Rd9uY0FfTc"
      },
      "source": [
        "**Insight**\n",
        "\n",
        "Dapat dilihat dari diagram garis di atas bahwa pada rentang 19 - 27 April 2020 jumlah tweet masyarakat DKI Jakarta dengan topik COVID-19 yang bermuatan netral jauh lebih banyak dan di susul oleh tweet yang bermuatan positif lalu tweet yang bermuatan netagtif. Dapat dilihat juga bahwa pada tanggal 25 April 2020 tweet yang bermuatan negatif jauh lebih banyak dari tweet yang bermuatan positif."
      ]
    },
    {
      "cell_type": "markdown",
      "metadata": {
        "id": "gUY5XKGTFfTc"
      },
      "source": [
        "## 6. Penutup\n",
        "\n",
        "Telah dilakukan Analisis Sentimen dan juga pemodelan terhadapa data hasil crawling. Data dipreprocess dan dilakukan vectorization menggunakan TF-IDF lalu dilakukan pemodelan. Dari berbagai model yang di uji didapatkan `SVM` adalah model dengan performa terbaik.\n",
        "\n",
        "**Hal yang Dapat Dikembangkan**\n",
        "\n",
        "1. Memperbanyak jumlah data yang dilakukan labeling secara manual\n",
        "2. Melakukan hyperparameter tuning untuk mendapatkan hasil yang lebih maksimal\n",
        "3. Menggunakan Boosting dalam pemodelan seperti, XGBoost, CatBoost, LGBM, dst.\n",
        "4. Menggunakan metode Deep Learning"
      ]
    },
    {
      "cell_type": "code",
      "metadata": {
        "id": "C8JmQ1CZFfTd"
      },
      "source": [
        "####################\n",
        "## Saving Objects ##\n",
        "####################\n",
        "\n",
        "# if not os.path.isdir('output'):\n",
        "#     os.mkdir('output')\n",
        "\n",
        "if not os.path.isdir('model'):\n",
        "    os.mkdir('model')\n",
        "\n",
        "# Export data baru\n",
        "data.to_csv('/content/Hasil Sentimen.csv', index=False)\n",
        "\n",
        "# Saving Model\n",
        "for name, model in classifiers.items():\n",
        "    pickle.dump(model, open(f\"/content/model/[TRAINED] {name}_{datetime.today().strftime('%Y-%m-%d')}.pickle\", \"wb\"))\n",
        "    \n",
        "# Saving Vectorizer\n",
        "# pickle.dump(vectorizer_tfidf, open(\"../model/vectorizer/vectorizer_tfidf.pickle\", \"wb\"))\n",
        "# pickle.dump(word_tfidf, open(\"../model/vectorizer/word_tfidf.pickle\", \"wb\"))"
      ],
      "execution_count": null,
      "outputs": []
    }
  ]
}