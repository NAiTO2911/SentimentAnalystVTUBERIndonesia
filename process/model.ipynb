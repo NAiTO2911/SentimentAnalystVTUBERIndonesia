{
 "cells": [
  {
   "cell_type": "code",
   "execution_count": 187,
   "metadata": {},
   "outputs": [],
   "source": [
    "import pandas as pd\n",
    "import numpy as np\n",
    "import joblib"
   ]
  },
  {
   "cell_type": "code",
   "execution_count": 188,
   "metadata": {},
   "outputs": [],
   "source": [
    "data = pd.read_csv('datalabel.csv')"
   ]
  },
  {
   "cell_type": "code",
   "execution_count": 189,
   "metadata": {},
   "outputs": [
    {
     "data": {
      "text/plain": [
       "(1794, 3)"
      ]
     },
     "execution_count": 189,
     "metadata": {},
     "output_type": "execute_result"
    }
   ],
   "source": [
    "data.shape"
   ]
  },
  {
   "cell_type": "code",
   "execution_count": 190,
   "metadata": {},
   "outputs": [
    {
     "data": {
      "text/html": [
       "<div>\n",
       "<style scoped>\n",
       "    .dataframe tbody tr th:only-of-type {\n",
       "        vertical-align: middle;\n",
       "    }\n",
       "\n",
       "    .dataframe tbody tr th {\n",
       "        vertical-align: top;\n",
       "    }\n",
       "\n",
       "    .dataframe thead th {\n",
       "        text-align: right;\n",
       "    }\n",
       "</style>\n",
       "<table border=\"1\" class=\"dataframe\">\n",
       "  <thead>\n",
       "    <tr style=\"text-align: right;\">\n",
       "      <th></th>\n",
       "      <th>Date</th>\n",
       "      <th>Content</th>\n",
       "      <th>Sentiment</th>\n",
       "    </tr>\n",
       "  </thead>\n",
       "  <tbody>\n",
       "    <tr>\n",
       "      <th>0</th>\n",
       "      <td>2022-04-08 02:53:31+00:00</td>\n",
       "      <td>b'@MythiaVTuber gorengan wkwk bihun mit, dimsu...</td>\n",
       "      <td>Neutral</td>\n",
       "    </tr>\n",
       "    <tr>\n",
       "      <th>1</th>\n",
       "      <td>2022-04-08 02:47:43+00:00</td>\n",
       "      <td>b'@LeifaNerine @MythiaVTuber SeBuT n@m4 KU k@k...</td>\n",
       "      <td>Positive</td>\n",
       "    </tr>\n",
       "    <tr>\n",
       "      <th>2</th>\n",
       "      <td>2022-04-08 02:46:05+00:00</td>\n",
       "      <td>b'@LeifaNerine @MythiaVTuber Mantap sekali ipe...</td>\n",
       "      <td>Positive</td>\n",
       "    </tr>\n",
       "    <tr>\n",
       "      <th>3</th>\n",
       "      <td>2022-04-08 02:40:35+00:00</td>\n",
       "      <td>b'@simper_pro @MythiaVTuber tak gemplang kau yak'</td>\n",
       "      <td>Negative</td>\n",
       "    </tr>\n",
       "    <tr>\n",
       "      <th>4</th>\n",
       "      <td>2022-04-08 02:35:53+00:00</td>\n",
       "      <td>b'Malam ini mau ngobrolin etika berkunjung ke ...</td>\n",
       "      <td>Neutral</td>\n",
       "    </tr>\n",
       "  </tbody>\n",
       "</table>\n",
       "</div>"
      ],
      "text/plain": [
       "                        Date  \\\n",
       "0  2022-04-08 02:53:31+00:00   \n",
       "1  2022-04-08 02:47:43+00:00   \n",
       "2  2022-04-08 02:46:05+00:00   \n",
       "3  2022-04-08 02:40:35+00:00   \n",
       "4  2022-04-08 02:35:53+00:00   \n",
       "\n",
       "                                             Content Sentiment  \n",
       "0  b'@MythiaVTuber gorengan wkwk bihun mit, dimsu...   Neutral  \n",
       "1  b'@LeifaNerine @MythiaVTuber SeBuT n@m4 KU k@k...  Positive  \n",
       "2  b'@LeifaNerine @MythiaVTuber Mantap sekali ipe...  Positive  \n",
       "3  b'@simper_pro @MythiaVTuber tak gemplang kau yak'  Negative  \n",
       "4  b'Malam ini mau ngobrolin etika berkunjung ke ...   Neutral  "
      ]
     },
     "execution_count": 190,
     "metadata": {},
     "output_type": "execute_result"
    }
   ],
   "source": [
    "data.head(5)"
   ]
  },
  {
   "cell_type": "code",
   "execution_count": 191,
   "metadata": {},
   "outputs": [
    {
     "data": {
      "text/html": [
       "<div>\n",
       "<style scoped>\n",
       "    .dataframe tbody tr th:only-of-type {\n",
       "        vertical-align: middle;\n",
       "    }\n",
       "\n",
       "    .dataframe tbody tr th {\n",
       "        vertical-align: top;\n",
       "    }\n",
       "\n",
       "    .dataframe thead th {\n",
       "        text-align: right;\n",
       "    }\n",
       "</style>\n",
       "<table border=\"1\" class=\"dataframe\">\n",
       "  <thead>\n",
       "    <tr style=\"text-align: right;\">\n",
       "      <th></th>\n",
       "      <th>Date</th>\n",
       "      <th>Content</th>\n",
       "      <th>Sentiment</th>\n",
       "    </tr>\n",
       "  </thead>\n",
       "  <tbody>\n",
       "    <tr>\n",
       "      <th>1789</th>\n",
       "      <td>2022-04-03 07:14:14+00:00</td>\n",
       "      <td>b'@airaniiofifteen Pagi yopi senpai~'</td>\n",
       "      <td>Positive</td>\n",
       "    </tr>\n",
       "    <tr>\n",
       "      <th>1790</th>\n",
       "      <td>2022-04-03 06:34:32+00:00</td>\n",
       "      <td>b'@airaniiofifteen Itu tidur apa makan beb? sa...</td>\n",
       "      <td>Positive</td>\n",
       "    </tr>\n",
       "    <tr>\n",
       "      <th>1791</th>\n",
       "      <td>2022-04-03 06:31:01+00:00</td>\n",
       "      <td>b'@airaniiofifteen Pagi yopi ~'</td>\n",
       "      <td>Positive</td>\n",
       "    </tr>\n",
       "    <tr>\n",
       "      <th>1792</th>\n",
       "      <td>2022-04-03 06:12:06+00:00</td>\n",
       "      <td>b'@airaniiofifteen Pagi Airaniiii'</td>\n",
       "      <td>Positive</td>\n",
       "    </tr>\n",
       "    <tr>\n",
       "      <th>1793</th>\n",
       "      <td>2022-04-03 06:02:50+00:00</td>\n",
       "      <td>b'@airaniiofifteen Waduh obat flu apaan sampe ...</td>\n",
       "      <td>Positive</td>\n",
       "    </tr>\n",
       "  </tbody>\n",
       "</table>\n",
       "</div>"
      ],
      "text/plain": [
       "                           Date  \\\n",
       "1789  2022-04-03 07:14:14+00:00   \n",
       "1790  2022-04-03 06:34:32+00:00   \n",
       "1791  2022-04-03 06:31:01+00:00   \n",
       "1792  2022-04-03 06:12:06+00:00   \n",
       "1793  2022-04-03 06:02:50+00:00   \n",
       "\n",
       "                                                Content Sentiment  \n",
       "1789              b'@airaniiofifteen Pagi yopi senpai~'  Positive  \n",
       "1790  b'@airaniiofifteen Itu tidur apa makan beb? sa...  Positive  \n",
       "1791                    b'@airaniiofifteen Pagi yopi ~'  Positive  \n",
       "1792                 b'@airaniiofifteen Pagi Airaniiii'  Positive  \n",
       "1793  b'@airaniiofifteen Waduh obat flu apaan sampe ...  Positive  "
      ]
     },
     "execution_count": 191,
     "metadata": {},
     "output_type": "execute_result"
    }
   ],
   "source": [
    "data.tail(5)"
   ]
  },
  {
   "cell_type": "code",
   "execution_count": 192,
   "metadata": {},
   "outputs": [
    {
     "data": {
      "text/html": [
       "<div>\n",
       "<style scoped>\n",
       "    .dataframe tbody tr th:only-of-type {\n",
       "        vertical-align: middle;\n",
       "    }\n",
       "\n",
       "    .dataframe tbody tr th {\n",
       "        vertical-align: top;\n",
       "    }\n",
       "\n",
       "    .dataframe thead th {\n",
       "        text-align: right;\n",
       "    }\n",
       "</style>\n",
       "<table border=\"1\" class=\"dataframe\">\n",
       "  <thead>\n",
       "    <tr style=\"text-align: right;\">\n",
       "      <th></th>\n",
       "      <th>Date</th>\n",
       "      <th>Content</th>\n",
       "      <th>Sentiment</th>\n",
       "    </tr>\n",
       "  </thead>\n",
       "  <tbody>\n",
       "    <tr>\n",
       "      <th>1623</th>\n",
       "      <td>2022-04-04 02:41:22+00:00</td>\n",
       "      <td>b'@airaniiofifteen Pagi Yopi!'</td>\n",
       "      <td>Positive</td>\n",
       "    </tr>\n",
       "    <tr>\n",
       "      <th>237</th>\n",
       "      <td>2022-04-03 21:55:57+00:00</td>\n",
       "      <td>b'@MythiaVTuber remember, just having fun, don...</td>\n",
       "      <td>Positive</td>\n",
       "    </tr>\n",
       "    <tr>\n",
       "      <th>1636</th>\n",
       "      <td>2022-04-04 02:34:18+00:00</td>\n",
       "      <td>b'@airaniiofifteen pagi!!!!!!!!\\xf0\\x9f\\x8c\\x8...</td>\n",
       "      <td>Positive</td>\n",
       "    </tr>\n",
       "    <tr>\n",
       "      <th>1100</th>\n",
       "      <td>2022-04-06 03:00:13+00:00</td>\n",
       "      <td>b'@airaniiofifteen Pagi Iofi \\xf0\\x9f\\x92\\x9c\\...</td>\n",
       "      <td>Positive</td>\n",
       "    </tr>\n",
       "    <tr>\n",
       "      <th>1508</th>\n",
       "      <td>2022-04-04 16:20:38+00:00</td>\n",
       "      <td>b'@airaniiofifteen Kawaiiii https://t.co/rktyK...</td>\n",
       "      <td>Positive</td>\n",
       "    </tr>\n",
       "  </tbody>\n",
       "</table>\n",
       "</div>"
      ],
      "text/plain": [
       "                           Date  \\\n",
       "1623  2022-04-04 02:41:22+00:00   \n",
       "237   2022-04-03 21:55:57+00:00   \n",
       "1636  2022-04-04 02:34:18+00:00   \n",
       "1100  2022-04-06 03:00:13+00:00   \n",
       "1508  2022-04-04 16:20:38+00:00   \n",
       "\n",
       "                                                Content Sentiment  \n",
       "1623                     b'@airaniiofifteen Pagi Yopi!'  Positive  \n",
       "237   b'@MythiaVTuber remember, just having fun, don...  Positive  \n",
       "1636  b'@airaniiofifteen pagi!!!!!!!!\\xf0\\x9f\\x8c\\x8...  Positive  \n",
       "1100  b'@airaniiofifteen Pagi Iofi \\xf0\\x9f\\x92\\x9c\\...  Positive  \n",
       "1508  b'@airaniiofifteen Kawaiiii https://t.co/rktyK...  Positive  "
      ]
     },
     "execution_count": 192,
     "metadata": {},
     "output_type": "execute_result"
    }
   ],
   "source": [
    "data.sample(5)"
   ]
  },
  {
   "cell_type": "code",
   "execution_count": 193,
   "metadata": {},
   "outputs": [
    {
     "data": {
      "text/html": [
       "<div>\n",
       "<style scoped>\n",
       "    .dataframe tbody tr th:only-of-type {\n",
       "        vertical-align: middle;\n",
       "    }\n",
       "\n",
       "    .dataframe tbody tr th {\n",
       "        vertical-align: top;\n",
       "    }\n",
       "\n",
       "    .dataframe thead th {\n",
       "        text-align: right;\n",
       "    }\n",
       "</style>\n",
       "<table border=\"1\" class=\"dataframe\">\n",
       "  <thead>\n",
       "    <tr style=\"text-align: right;\">\n",
       "      <th></th>\n",
       "      <th>Date</th>\n",
       "      <th>Content</th>\n",
       "      <th>Sentiment</th>\n",
       "    </tr>\n",
       "  </thead>\n",
       "  <tbody>\n",
       "    <tr>\n",
       "      <th>count</th>\n",
       "      <td>1794</td>\n",
       "      <td>1794</td>\n",
       "      <td>1793</td>\n",
       "    </tr>\n",
       "    <tr>\n",
       "      <th>unique</th>\n",
       "      <td>1749</td>\n",
       "      <td>1564</td>\n",
       "      <td>5</td>\n",
       "    </tr>\n",
       "    <tr>\n",
       "      <th>top</th>\n",
       "      <td>2022-04-06 03:02:53+00:00</td>\n",
       "      <td>b'@airaniiofifteen Pagi!'</td>\n",
       "      <td>Positive</td>\n",
       "    </tr>\n",
       "    <tr>\n",
       "      <th>freq</th>\n",
       "      <td>3</td>\n",
       "      <td>31</td>\n",
       "      <td>1511</td>\n",
       "    </tr>\n",
       "  </tbody>\n",
       "</table>\n",
       "</div>"
      ],
      "text/plain": [
       "                             Date                    Content Sentiment\n",
       "count                        1794                       1794      1793\n",
       "unique                       1749                       1564         5\n",
       "top     2022-04-06 03:02:53+00:00  b'@airaniiofifteen Pagi!'  Positive\n",
       "freq                            3                         31      1511"
      ]
     },
     "execution_count": 193,
     "metadata": {},
     "output_type": "execute_result"
    }
   ],
   "source": [
    "data.describe()"
   ]
  },
  {
   "cell_type": "code",
   "execution_count": 194,
   "metadata": {},
   "outputs": [
    {
     "data": {
      "text/plain": [
       "Index(['Date', 'Content', 'Sentiment'], dtype='object')"
      ]
     },
     "execution_count": 194,
     "metadata": {},
     "output_type": "execute_result"
    }
   ],
   "source": [
    "data.columns"
   ]
  },
  {
   "cell_type": "code",
   "execution_count": 196,
   "metadata": {},
   "outputs": [
    {
     "data": {
      "text/plain": [
       "Positive    1511\n",
       "Neutral      195\n",
       "Negative      85\n",
       "P'P            1\n",
       "positive       1\n",
       "Name: Sentiment, dtype: int64"
      ]
     },
     "execution_count": 196,
     "metadata": {},
     "output_type": "execute_result"
    }
   ],
   "source": [
    "data['Sentiment'].value_counts()"
   ]
  },
  {
   "cell_type": "code",
   "execution_count": 197,
   "metadata": {},
   "outputs": [],
   "source": [
    "data['Sentiment'] = data['Sentiment'].map({'Neutral':'pass', 'Negative':'gak ok', 'Positive':'ok'})"
   ]
  },
  {
   "cell_type": "code",
   "execution_count": 199,
   "metadata": {},
   "outputs": [
    {
     "data": {
      "text/plain": [
       "ok        1511\n",
       "pass       195\n",
       "gak ok      85\n",
       "Name: Sentiment, dtype: int64"
      ]
     },
     "execution_count": 199,
     "metadata": {},
     "output_type": "execute_result"
    }
   ],
   "source": [
    "data['Sentiment'].value_counts()"
   ]
  },
  {
   "cell_type": "markdown",
   "metadata": {},
   "source": [
    "Train_Test"
   ]
  },
  {
   "cell_type": "code",
   "execution_count": 200,
   "metadata": {},
   "outputs": [],
   "source": [
    "from sklearn.model_selection import train_test_split"
   ]
  },
  {
   "cell_type": "code",
   "execution_count": 201,
   "metadata": {},
   "outputs": [],
   "source": [
    "X=data.Content\n",
    "y=data.Content"
   ]
  },
  {
   "cell_type": "code",
   "execution_count": 202,
   "metadata": {},
   "outputs": [],
   "source": [
    "x_train, x_test, y_train, y_test = train_test_split(X,y,test_size=0.1, random_state=225)"
   ]
  },
  {
   "cell_type": "code",
   "execution_count": 203,
   "metadata": {},
   "outputs": [
    {
     "name": "stdout",
     "output_type": "stream",
     "text": [
      "Banyak data x_train : 1614\n",
      "Banyak data x_test  : 180\n",
      "Banyak data y_train : 1614\n",
      "Banyak data y_test  : 180\n"
     ]
    }
   ],
   "source": [
    "print('Banyak data x_train :',len(x_train))\n",
    "print('Banyak data x_test  :',len(x_test))\n",
    "print('Banyak data y_train :',len(y_train))\n",
    "print('Banyak data y_test  :',len(y_test))"
   ]
  },
  {
   "cell_type": "markdown",
   "metadata": {},
   "source": [
    "Text Preprocessing"
   ]
  },
  {
   "cell_type": "code",
   "execution_count": 205,
   "metadata": {},
   "outputs": [],
   "source": [
    "import re\n",
    "\n",
    "from bs4 import BeautifulSoup\n",
    "from nltk.tokenize import WordPunctTokenizer\n",
    "\n",
    "\n",
    "tok = WordPunctTokenizer()\n",
    "pat1 = r'@[A-Za-z0-9_]+' #menghilangkat username jika twitter\n",
    "pat2 = r'https?://[^ ]+' #menghilangkan situs website\n",
    "combined_pat = r'|'.join((pat1, pat2)) #join pat1 dan pat 2\n",
    "www_pat = r'www.[^ ]+' #menhilangkan situs website\n",
    "\n",
    "#set_stopword yang di deskripsikan sendiri\n",
    "stopword_user = set(pd.read_fwf('stopwords.txt', sep='\\n', header=0))"
   ]
  },
  {
   "cell_type": "code",
   "execution_count": 206,
   "metadata": {},
   "outputs": [],
   "source": [
    "def proses_teks(teks):\n",
    "    soup = BeautifulSoup(teks, 'lxml')\n",
    "    souped = soup.get_text()\n",
    "    try:\n",
    "        teks = souped.decode(\"utf-8-sig\").replace(u\"\\ufffd\", \"?\")\n",
    "    except:\n",
    "        teks = souped\n",
    "    teks_bersih= re.sub(\"[^a-zA-Z0-9]\", \" \",(re.sub(www_pat, '', re.sub(combined_pat, '', teks)).lower()))\n",
    "    teks_bersih= ' '.join([word for word in teks_bersih.split() if word not in stopword_user])\n",
    "    return (\" \".join([x for x in tok.tokenize(teks_bersih) if len(x) > 1])).strip()"
   ]
  },
  {
   "cell_type": "code",
   "execution_count": 19,
   "metadata": {},
   "outputs": [],
   "source": [
    "teks = '''Pemerintah selalu konsisten dalam menjaga kelestarian lingkungan hidup. Jokowi Bangun Nusantara https://t.co/XwsCkHx8e3'''"
   ]
  },
  {
   "cell_type": "code",
   "execution_count": 20,
   "metadata": {},
   "outputs": [
    {
     "data": {
      "text/plain": [
       "'pemerintah selalu konsisten dalam menjaga kelestarian lingkungan hidup jokowi bangun nusantara'"
      ]
     },
     "execution_count": 20,
     "metadata": {},
     "output_type": "execute_result"
    }
   ],
   "source": [
    "proses_teks(teks)"
   ]
  },
  {
   "cell_type": "code",
   "execution_count": 208,
   "metadata": {},
   "outputs": [],
   "source": [
    "x=[]\n",
    "for teks in data.Content:\n",
    "    x.append(proses_teks(teks))"
   ]
  },
  {
   "cell_type": "code",
   "execution_count": 209,
   "metadata": {},
   "outputs": [],
   "source": [
    "clean_text=pd.DataFrame({'clean_text':x})"
   ]
  },
  {
   "cell_type": "code",
   "execution_count": 210,
   "metadata": {},
   "outputs": [],
   "source": [
    "data=pd.concat([data,clean_text],axis=1)"
   ]
  },
  {
   "cell_type": "code",
   "execution_count": 211,
   "metadata": {},
   "outputs": [
    {
     "data": {
      "text/html": [
       "<div>\n",
       "<style scoped>\n",
       "    .dataframe tbody tr th:only-of-type {\n",
       "        vertical-align: middle;\n",
       "    }\n",
       "\n",
       "    .dataframe tbody tr th {\n",
       "        vertical-align: top;\n",
       "    }\n",
       "\n",
       "    .dataframe thead th {\n",
       "        text-align: right;\n",
       "    }\n",
       "</style>\n",
       "<table border=\"1\" class=\"dataframe\">\n",
       "  <thead>\n",
       "    <tr style=\"text-align: right;\">\n",
       "      <th></th>\n",
       "      <th>Date</th>\n",
       "      <th>Content</th>\n",
       "      <th>Sentiment</th>\n",
       "      <th>clean_text</th>\n",
       "    </tr>\n",
       "  </thead>\n",
       "  <tbody>\n",
       "    <tr>\n",
       "      <th>0</th>\n",
       "      <td>2022-04-08 02:53:31+00:00</td>\n",
       "      <td>b'@MythiaVTuber gorengan wkwk bihun mit, dimsu...</td>\n",
       "      <td>pass</td>\n",
       "      <td>gorengan wkwk bihun mit dimsum cendol es buah ...</td>\n",
       "    </tr>\n",
       "    <tr>\n",
       "      <th>1</th>\n",
       "      <td>2022-04-08 02:47:43+00:00</td>\n",
       "      <td>b'@LeifaNerine @MythiaVTuber SeBuT n@m4 KU k@k...</td>\n",
       "      <td>ok</td>\n",
       "      <td>sebut ku b1ar m4m4hku</td>\n",
       "    </tr>\n",
       "    <tr>\n",
       "      <th>2</th>\n",
       "      <td>2022-04-08 02:46:05+00:00</td>\n",
       "      <td>b'@LeifaNerine @MythiaVTuber Mantap sekali ipe...</td>\n",
       "      <td>ok</td>\n",
       "      <td>mantap sekali ipeeehhhh</td>\n",
       "    </tr>\n",
       "    <tr>\n",
       "      <th>3</th>\n",
       "      <td>2022-04-08 02:40:35+00:00</td>\n",
       "      <td>b'@simper_pro @MythiaVTuber tak gemplang kau yak'</td>\n",
       "      <td>gak ok</td>\n",
       "      <td>tak gemplang kau yak</td>\n",
       "    </tr>\n",
       "    <tr>\n",
       "      <th>4</th>\n",
       "      <td>2022-04-08 02:35:53+00:00</td>\n",
       "      <td>b'Malam ini mau ngobrolin etika berkunjung ke ...</td>\n",
       "      <td>pass</td>\n",
       "      <td>malam ini mau ngobrolin etika berkunjung ke li...</td>\n",
       "    </tr>\n",
       "  </tbody>\n",
       "</table>\n",
       "</div>"
      ],
      "text/plain": [
       "                        Date  \\\n",
       "0  2022-04-08 02:53:31+00:00   \n",
       "1  2022-04-08 02:47:43+00:00   \n",
       "2  2022-04-08 02:46:05+00:00   \n",
       "3  2022-04-08 02:40:35+00:00   \n",
       "4  2022-04-08 02:35:53+00:00   \n",
       "\n",
       "                                             Content Sentiment  \\\n",
       "0  b'@MythiaVTuber gorengan wkwk bihun mit, dimsu...      pass   \n",
       "1  b'@LeifaNerine @MythiaVTuber SeBuT n@m4 KU k@k...        ok   \n",
       "2  b'@LeifaNerine @MythiaVTuber Mantap sekali ipe...        ok   \n",
       "3  b'@simper_pro @MythiaVTuber tak gemplang kau yak'    gak ok   \n",
       "4  b'Malam ini mau ngobrolin etika berkunjung ke ...      pass   \n",
       "\n",
       "                                          clean_text  \n",
       "0  gorengan wkwk bihun mit dimsum cendol es buah ...  \n",
       "1                              sebut ku b1ar m4m4hku  \n",
       "2                            mantap sekali ipeeehhhh  \n",
       "3                               tak gemplang kau yak  \n",
       "4  malam ini mau ngobrolin etika berkunjung ke li...  "
      ]
     },
     "execution_count": 211,
     "metadata": {},
     "output_type": "execute_result"
    }
   ],
   "source": [
    "data.head(5)"
   ]
  },
  {
   "cell_type": "markdown",
   "metadata": {},
   "source": [
    "Vectorizer"
   ]
  },
  {
   "cell_type": "code",
   "execution_count": 212,
   "metadata": {},
   "outputs": [],
   "source": [
    "from sklearn.feature_extraction.text import CountVectorizer,TfidfVectorizer, HashingVectorizer"
   ]
  },
  {
   "cell_type": "code",
   "execution_count": 213,
   "metadata": {},
   "outputs": [],
   "source": [
    "cvec=CountVectorizer()\n",
    "tvec=TfidfVectorizer()\n",
    "hvec=HashingVectorizer()"
   ]
  },
  {
   "cell_type": "markdown",
   "metadata": {},
   "source": [
    "Model Definition"
   ]
  },
  {
   "cell_type": "code",
   "execution_count": 214,
   "metadata": {},
   "outputs": [],
   "source": [
    "from sklearn.ensemble import RandomForestClassifier\n",
    "from sklearn.linear_model import LogisticRegression\n",
    "from sklearn.naive_bayes import BernoulliNB\n",
    "from sklearn.svm import SVC"
   ]
  },
  {
   "cell_type": "code",
   "execution_count": 215,
   "metadata": {},
   "outputs": [],
   "source": [
    "clf1 = RandomForestClassifier()\n",
    "clf2 = LogisticRegression()\n",
    "clf3 = BernoulliNB()\n",
    "clf4 = SVC()"
   ]
  },
  {
   "cell_type": "code",
   "execution_count": 216,
   "metadata": {},
   "outputs": [],
   "source": [
    "from sklearn.pipeline import Pipeline"
   ]
  },
  {
   "cell_type": "code",
   "execution_count": 240,
   "metadata": {},
   "outputs": [],
   "source": [
    "model= Pipeline([('vectorizer',tvec)\n",
    "                 ,('classifier',clf1)])"
   ]
  },
  {
   "cell_type": "code",
   "execution_count": 241,
   "metadata": {},
   "outputs": [
    {
     "data": {
      "text/plain": [
       "Pipeline(steps=[('vectorizer', TfidfVectorizer()),\n",
       "                ('classifier', RandomForestClassifier())])"
      ]
     },
     "execution_count": 241,
     "metadata": {},
     "output_type": "execute_result"
    }
   ],
   "source": [
    "model.fit(x_train,y_train)"
   ]
  },
  {
   "cell_type": "code",
   "execution_count": 236,
   "metadata": {},
   "outputs": [],
   "source": [
    "hasil=model.predict(x_test)"
   ]
  },
  {
   "cell_type": "markdown",
   "metadata": {},
   "source": [
    "Check"
   ]
  },
  {
   "cell_type": "code",
   "execution_count": 237,
   "metadata": {},
   "outputs": [],
   "source": [
    "from sklearn.metrics import accuracy_score,confusion_matrix"
   ]
  },
  {
   "cell_type": "code",
   "execution_count": 238,
   "metadata": {},
   "outputs": [
    {
     "data": {
      "text/plain": [
       "array([[0, 0, 0, ..., 0, 0, 0],\n",
       "       [0, 0, 0, ..., 0, 0, 0],\n",
       "       [0, 0, 0, ..., 0, 0, 0],\n",
       "       ...,\n",
       "       [0, 0, 0, ..., 0, 0, 0],\n",
       "       [0, 0, 0, ..., 0, 0, 0],\n",
       "       [0, 0, 0, ..., 0, 0, 0]], dtype=int64)"
      ]
     },
     "execution_count": 238,
     "metadata": {},
     "output_type": "execute_result"
    }
   ],
   "source": [
    "confusion_matrix(hasil,y_test)"
   ]
  },
  {
   "cell_type": "code",
   "execution_count": 239,
   "metadata": {},
   "outputs": [
    {
     "data": {
      "text/plain": [
       "0.011111111111111112"
      ]
     },
     "execution_count": 239,
     "metadata": {},
     "output_type": "execute_result"
    }
   ],
   "source": [
    "accuracy_score(hasil,y_test)"
   ]
  },
  {
   "cell_type": "markdown",
   "metadata": {},
   "source": [
    "Save Model"
   ]
  },
  {
   "cell_type": "code",
   "execution_count": 224,
   "metadata": {},
   "outputs": [],
   "source": [
    "# save the model to disk\n",
    "import pickle\n",
    "\n",
    "filename = 'finalized_model.sav'\n",
    "pickle.dump(model, open(filename, 'wb'))"
   ]
  },
  {
   "cell_type": "markdown",
   "metadata": {},
   "source": [
    "load model"
   ]
  },
  {
   "cell_type": "code",
   "execution_count": 225,
   "metadata": {},
   "outputs": [],
   "source": [
    "loaded_model = pickle.load(open(filename, 'rb'))\n",
    "result = loaded_model.score(x_test, y_test)"
   ]
  },
  {
   "cell_type": "code",
   "execution_count": null,
   "metadata": {},
   "outputs": [],
   "source": []
  }
 ],
 "metadata": {
  "interpreter": {
   "hash": "b89b5cfaba6639976dc87ff2fec6d58faec662063367e2c229c520fe71072417"
  },
  "kernelspec": {
   "display_name": "Python 3.10.1 64-bit",
   "language": "python",
   "name": "python3"
  },
  "language_info": {
   "codemirror_mode": {
    "name": "ipython",
    "version": 3
   },
   "file_extension": ".py",
   "mimetype": "text/x-python",
   "name": "python",
   "nbconvert_exporter": "python",
   "pygments_lexer": "ipython3",
   "version": "3.10.4"
  },
  "orig_nbformat": 4
 },
 "nbformat": 4,
 "nbformat_minor": 2
}
