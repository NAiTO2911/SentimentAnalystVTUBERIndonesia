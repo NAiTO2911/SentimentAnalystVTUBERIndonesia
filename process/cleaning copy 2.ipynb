{
 "cells": [
  {
   "cell_type": "code",
   "execution_count": 1,
   "metadata": {},
   "outputs": [
    {
     "name": "stderr",
     "output_type": "stream",
     "text": [
      "[nltk_data] Downloading package punkt to\n",
      "[nltk_data]     C:\\Users\\rbriz\\AppData\\Roaming\\nltk_data...\n",
      "[nltk_data]   Package punkt is already up-to-date!\n"
     ]
    },
    {
     "data": {
      "text/plain": [
       "True"
      ]
     },
     "execution_count": 1,
     "metadata": {},
     "output_type": "execute_result"
    }
   ],
   "source": [
    "import os, re, json, string, pickle\n",
    "\n",
    "import nltk\n",
    "import pandas as pd\n",
    "import numpy as np\n",
    "import matplotlib.pyplot as plt\n",
    "import seaborn as sns\n",
    "\n",
    "from datetime import datetime\n",
    "from nltk.tokenize import word_tokenize\n",
    "from sklearn.feature_extraction.text import TfidfVectorizer\n",
    "from sklearn.feature_extraction.text import CountVectorizer\n",
    "from sklearn.feature_extraction.text import TfidfTransformer\n",
    "from Sastrawi.Stemmer.StemmerFactory import StemmerFactory\n",
    "\n",
    "nltk.download('punkt')"
   ]
  },
  {
   "cell_type": "code",
   "execution_count": 2,
   "metadata": {},
   "outputs": [
    {
     "data": {
      "text/html": [
       "<div>\n",
       "<style scoped>\n",
       "    .dataframe tbody tr th:only-of-type {\n",
       "        vertical-align: middle;\n",
       "    }\n",
       "\n",
       "    .dataframe tbody tr th {\n",
       "        vertical-align: top;\n",
       "    }\n",
       "\n",
       "    .dataframe thead th {\n",
       "        text-align: right;\n",
       "    }\n",
       "</style>\n",
       "<table border=\"1\" class=\"dataframe\">\n",
       "  <thead>\n",
       "    <tr style=\"text-align: right;\">\n",
       "      <th></th>\n",
       "      <th>Date</th>\n",
       "      <th>Content</th>\n",
       "    </tr>\n",
       "  </thead>\n",
       "  <tbody>\n",
       "    <tr>\n",
       "      <th>0</th>\n",
       "      <td>2022-04-08 02:26:38+00:00</td>\n",
       "      <td>b'@MythiaVTuber canggung kenapa \\xf0\\x9f\\x98\\x...</td>\n",
       "    </tr>\n",
       "    <tr>\n",
       "      <th>1</th>\n",
       "      <td>2022-04-08 01:54:44+00:00</td>\n",
       "      <td>b'@MythiaVTuber Apa aja bebas yang penting enak'</td>\n",
       "    </tr>\n",
       "    <tr>\n",
       "      <th>2</th>\n",
       "      <td>2022-04-08 01:51:28+00:00</td>\n",
       "      <td>b'@MythiaVTuber Waduh, abang-abangan nih\\xf0\\x...</td>\n",
       "    </tr>\n",
       "    <tr>\n",
       "      <th>3</th>\n",
       "      <td>2022-04-08 01:40:46+00:00</td>\n",
       "      <td>b'@MythiaVTuber ini kak https://t.co/zwEAdqagXV'</td>\n",
       "    </tr>\n",
       "    <tr>\n",
       "      <th>4</th>\n",
       "      <td>2022-04-08 00:35:13+00:00</td>\n",
       "      <td>b'@MythiaVTuber Astaga kalian berdua aowkkwkw'</td>\n",
       "    </tr>\n",
       "    <tr>\n",
       "      <th>5</th>\n",
       "      <td>2022-04-07 20:19:22+00:00</td>\n",
       "      <td>b'@MythiaVTuber Gila! Jam 23:41 belum tidur. A...</td>\n",
       "    </tr>\n",
       "    <tr>\n",
       "      <th>6</th>\n",
       "      <td>2022-04-07 20:13:55+00:00</td>\n",
       "      <td>b'@MythiaVTuber Ya ampun \\xf0\\x9f\\x98\\xad\\xf0\\...</td>\n",
       "    </tr>\n",
       "    <tr>\n",
       "      <th>7</th>\n",
       "      <td>2022-04-07 19:49:32+00:00</td>\n",
       "      <td>b'@KeigoAria @MythiaVTuber Lautan asin , bisa\"...</td>\n",
       "    </tr>\n",
       "    <tr>\n",
       "      <th>8</th>\n",
       "      <td>2022-04-07 18:17:45+00:00</td>\n",
       "      <td>b'@MythiaVTuber Ga ngerti tolong di jelaskan'</td>\n",
       "    </tr>\n",
       "    <tr>\n",
       "      <th>9</th>\n",
       "      <td>2022-04-07 17:50:23+00:00</td>\n",
       "      <td>b'@MythiaVTuber Ari si anak tersesat\\xf0\\x9f\\x...</td>\n",
       "    </tr>\n",
       "  </tbody>\n",
       "</table>\n",
       "</div>"
      ],
      "text/plain": [
       "                        Date  \\\n",
       "0  2022-04-08 02:26:38+00:00   \n",
       "1  2022-04-08 01:54:44+00:00   \n",
       "2  2022-04-08 01:51:28+00:00   \n",
       "3  2022-04-08 01:40:46+00:00   \n",
       "4  2022-04-08 00:35:13+00:00   \n",
       "5  2022-04-07 20:19:22+00:00   \n",
       "6  2022-04-07 20:13:55+00:00   \n",
       "7  2022-04-07 19:49:32+00:00   \n",
       "8  2022-04-07 18:17:45+00:00   \n",
       "9  2022-04-07 17:50:23+00:00   \n",
       "\n",
       "                                             Content  \n",
       "0  b'@MythiaVTuber canggung kenapa \\xf0\\x9f\\x98\\x...  \n",
       "1   b'@MythiaVTuber Apa aja bebas yang penting enak'  \n",
       "2  b'@MythiaVTuber Waduh, abang-abangan nih\\xf0\\x...  \n",
       "3   b'@MythiaVTuber ini kak https://t.co/zwEAdqagXV'  \n",
       "4     b'@MythiaVTuber Astaga kalian berdua aowkkwkw'  \n",
       "5  b'@MythiaVTuber Gila! Jam 23:41 belum tidur. A...  \n",
       "6  b'@MythiaVTuber Ya ampun \\xf0\\x9f\\x98\\xad\\xf0\\...  \n",
       "7  b'@KeigoAria @MythiaVTuber Lautan asin , bisa\"...  \n",
       "8      b'@MythiaVTuber Ga ngerti tolong di jelaskan'  \n",
       "9  b'@MythiaVTuber Ari si anak tersesat\\xf0\\x9f\\x...  "
      ]
     },
     "execution_count": 2,
     "metadata": {},
     "output_type": "execute_result"
    }
   ],
   "source": [
    "data = pd.read_csv('bigdata.csv')\n",
    "data.head(10)"
   ]
  },
  {
   "cell_type": "code",
   "execution_count": 3,
   "metadata": {},
   "outputs": [],
   "source": [
    "# Cleanner \n",
    "def cleaning(text):\n",
    "  text = text[2:]  \n",
    "  return text"
   ]
  },
  {
   "cell_type": "code",
   "execution_count": 4,
   "metadata": {},
   "outputs": [
    {
     "data": {
      "text/plain": [
       "array([\"@MythiaVTuber canggung kenapa \\\\xf0\\\\x9f\\\\x98\\\\xb3\\\\xf0\\\\x9f\\\\x91\\\\x89\\\\xf0\\\\x9f\\\\x8f\\\\xbb\\\\xf0\\\\x9f\\\\x91\\\\x88\\\\xf0\\\\x9f\\\\x8f\\\\xbb, takut kakak tiba2 nyulik aku kah? \\\\xf0\\\\x9f\\\\x98\\\\xb3\\\\xf0\\\\x9f\\\\x91\\\\x89\\\\xf0\\\\x9f\\\\x8f\\\\xbb\\\\xf0\\\\x9f\\\\x91\\\\x88\\\\xf0\\\\x9f\\\\x8f\\\\xbb'\",\n",
       "       \"@MythiaVTuber Apa aja bebas yang penting enak'\",\n",
       "       \"@MythiaVTuber Waduh, abang-abangan nih\\\\xf0\\\\x9f\\\\xa4\\\\xad, btw andi adek nya banyak ya wkwkw'\",\n",
       "       ...,\n",
       "       \"@MentalMuHancur @kobokanaeru Selamat ulang tahun, jangan diulangin lagi'\",\n",
       "       \"celamatt babyy kobo ku @kobokanaeru \\\\xf0\\\\x9f\\\\x92\\\\x97 gbu'\",\n",
       "       \"@kobokanaeru yeayyy selamat ojou-sama \\\\xf0\\\\x9f\\\\xa5\\\\xb3\\\\xf0\\\\x9f\\\\xa5\\\\xb3\\\\xf0\\\\x9f\\\\xa5\\\\xb3'\"],\n",
       "      dtype=object)"
      ]
     },
     "execution_count": 4,
     "metadata": {},
     "output_type": "execute_result"
    }
   ],
   "source": [
    "data['Content'] =  data['Content'].apply(lambda x : cleaning(x))\n",
    "data['Content'].values"
   ]
  },
  {
   "cell_type": "code",
   "execution_count": 5,
   "metadata": {},
   "outputs": [
    {
     "data": {
      "text/html": [
       "<div>\n",
       "<style scoped>\n",
       "    .dataframe tbody tr th:only-of-type {\n",
       "        vertical-align: middle;\n",
       "    }\n",
       "\n",
       "    .dataframe tbody tr th {\n",
       "        vertical-align: top;\n",
       "    }\n",
       "\n",
       "    .dataframe thead th {\n",
       "        text-align: right;\n",
       "    }\n",
       "</style>\n",
       "<table border=\"1\" class=\"dataframe\">\n",
       "  <thead>\n",
       "    <tr style=\"text-align: right;\">\n",
       "      <th></th>\n",
       "      <th>Date</th>\n",
       "      <th>Content</th>\n",
       "    </tr>\n",
       "  </thead>\n",
       "  <tbody>\n",
       "    <tr>\n",
       "      <th>0</th>\n",
       "      <td>2022-04-08 02:26:38+00:00</td>\n",
       "      <td>@MythiaVTuber canggung kenapa \\xf0\\x9f\\x98\\xb3...</td>\n",
       "    </tr>\n",
       "    <tr>\n",
       "      <th>1</th>\n",
       "      <td>2022-04-08 01:54:44+00:00</td>\n",
       "      <td>@MythiaVTuber Apa aja bebas yang penting enak'</td>\n",
       "    </tr>\n",
       "    <tr>\n",
       "      <th>2</th>\n",
       "      <td>2022-04-08 01:51:28+00:00</td>\n",
       "      <td>@MythiaVTuber Waduh, abang-abangan nih\\xf0\\x9f...</td>\n",
       "    </tr>\n",
       "    <tr>\n",
       "      <th>3</th>\n",
       "      <td>2022-04-08 01:40:46+00:00</td>\n",
       "      <td>@MythiaVTuber ini kak https://t.co/zwEAdqagXV'</td>\n",
       "    </tr>\n",
       "    <tr>\n",
       "      <th>4</th>\n",
       "      <td>2022-04-08 00:35:13+00:00</td>\n",
       "      <td>@MythiaVTuber Astaga kalian berdua aowkkwkw'</td>\n",
       "    </tr>\n",
       "    <tr>\n",
       "      <th>5</th>\n",
       "      <td>2022-04-07 20:19:22+00:00</td>\n",
       "      <td>@MythiaVTuber Gila! Jam 23:41 belum tidur. And...</td>\n",
       "    </tr>\n",
       "    <tr>\n",
       "      <th>6</th>\n",
       "      <td>2022-04-07 20:13:55+00:00</td>\n",
       "      <td>@MythiaVTuber Ya ampun \\xf0\\x9f\\x98\\xad\\xf0\\x9...</td>\n",
       "    </tr>\n",
       "    <tr>\n",
       "      <th>7</th>\n",
       "      <td>2022-04-07 19:49:32+00:00</td>\n",
       "      <td>@KeigoAria @MythiaVTuber Lautan asin , bisa\" k...</td>\n",
       "    </tr>\n",
       "    <tr>\n",
       "      <th>8</th>\n",
       "      <td>2022-04-07 18:17:45+00:00</td>\n",
       "      <td>@MythiaVTuber Ga ngerti tolong di jelaskan'</td>\n",
       "    </tr>\n",
       "    <tr>\n",
       "      <th>9</th>\n",
       "      <td>2022-04-07 17:50:23+00:00</td>\n",
       "      <td>@MythiaVTuber Ari si anak tersesat\\xf0\\x9f\\xa4...</td>\n",
       "    </tr>\n",
       "  </tbody>\n",
       "</table>\n",
       "</div>"
      ],
      "text/plain": [
       "                        Date  \\\n",
       "0  2022-04-08 02:26:38+00:00   \n",
       "1  2022-04-08 01:54:44+00:00   \n",
       "2  2022-04-08 01:51:28+00:00   \n",
       "3  2022-04-08 01:40:46+00:00   \n",
       "4  2022-04-08 00:35:13+00:00   \n",
       "5  2022-04-07 20:19:22+00:00   \n",
       "6  2022-04-07 20:13:55+00:00   \n",
       "7  2022-04-07 19:49:32+00:00   \n",
       "8  2022-04-07 18:17:45+00:00   \n",
       "9  2022-04-07 17:50:23+00:00   \n",
       "\n",
       "                                             Content  \n",
       "0  @MythiaVTuber canggung kenapa \\xf0\\x9f\\x98\\xb3...  \n",
       "1     @MythiaVTuber Apa aja bebas yang penting enak'  \n",
       "2  @MythiaVTuber Waduh, abang-abangan nih\\xf0\\x9f...  \n",
       "3     @MythiaVTuber ini kak https://t.co/zwEAdqagXV'  \n",
       "4       @MythiaVTuber Astaga kalian berdua aowkkwkw'  \n",
       "5  @MythiaVTuber Gila! Jam 23:41 belum tidur. And...  \n",
       "6  @MythiaVTuber Ya ampun \\xf0\\x9f\\x98\\xad\\xf0\\x9...  \n",
       "7  @KeigoAria @MythiaVTuber Lautan asin , bisa\" k...  \n",
       "8        @MythiaVTuber Ga ngerti tolong di jelaskan'  \n",
       "9  @MythiaVTuber Ari si anak tersesat\\xf0\\x9f\\xa4...  "
      ]
     },
     "execution_count": 5,
     "metadata": {},
     "output_type": "execute_result"
    }
   ],
   "source": [
    "data.head(10)"
   ]
  },
  {
   "cell_type": "code",
   "execution_count": 6,
   "metadata": {},
   "outputs": [
    {
     "data": {
      "text/html": [
       "<div>\n",
       "<style scoped>\n",
       "    .dataframe tbody tr th:only-of-type {\n",
       "        vertical-align: middle;\n",
       "    }\n",
       "\n",
       "    .dataframe tbody tr th {\n",
       "        vertical-align: top;\n",
       "    }\n",
       "\n",
       "    .dataframe thead th {\n",
       "        text-align: right;\n",
       "    }\n",
       "</style>\n",
       "<table border=\"1\" class=\"dataframe\">\n",
       "  <thead>\n",
       "    <tr style=\"text-align: right;\">\n",
       "      <th></th>\n",
       "      <th>Date</th>\n",
       "      <th>Content</th>\n",
       "    </tr>\n",
       "  </thead>\n",
       "  <tbody>\n",
       "    <tr>\n",
       "      <th>0</th>\n",
       "      <td>2022-04-08 02:26:38+00:00</td>\n",
       "      <td>canggung kenapa takut kakak tiba nyulik aku kah</td>\n",
       "    </tr>\n",
       "    <tr>\n",
       "      <th>1</th>\n",
       "      <td>2022-04-08 01:54:44+00:00</td>\n",
       "      <td>apa aja bebas yang penting enak</td>\n",
       "    </tr>\n",
       "    <tr>\n",
       "      <th>2</th>\n",
       "      <td>2022-04-08 01:51:28+00:00</td>\n",
       "      <td>waduh abang abangan nih btw andi adek nya ban...</td>\n",
       "    </tr>\n",
       "    <tr>\n",
       "      <th>3</th>\n",
       "      <td>2022-04-08 01:40:46+00:00</td>\n",
       "      <td>ini kak</td>\n",
       "    </tr>\n",
       "    <tr>\n",
       "      <th>4</th>\n",
       "      <td>2022-04-08 00:35:13+00:00</td>\n",
       "      <td>astaga kalian berdua aowkkwkw</td>\n",
       "    </tr>\n",
       "    <tr>\n",
       "      <th>5</th>\n",
       "      <td>2022-04-07 20:19:22+00:00</td>\n",
       "      <td>gila jam belum tidur anda pekerja keras sekal...</td>\n",
       "    </tr>\n",
       "    <tr>\n",
       "      <th>6</th>\n",
       "      <td>2022-04-07 20:13:55+00:00</td>\n",
       "      <td>ya ampun</td>\n",
       "    </tr>\n",
       "    <tr>\n",
       "      <th>7</th>\n",
       "      <td>2022-04-07 19:49:32+00:00</td>\n",
       "      <td>lautan asin bisa kekurangan gula awokawok</td>\n",
       "    </tr>\n",
       "    <tr>\n",
       "      <th>8</th>\n",
       "      <td>2022-04-07 18:17:45+00:00</td>\n",
       "      <td>ga ngerti tolong di jelaskan</td>\n",
       "    </tr>\n",
       "    <tr>\n",
       "      <th>9</th>\n",
       "      <td>2022-04-07 17:50:23+00:00</td>\n",
       "      <td>ari si anak tersesat</td>\n",
       "    </tr>\n",
       "  </tbody>\n",
       "</table>\n",
       "</div>"
      ],
      "text/plain": [
       "                        Date  \\\n",
       "0  2022-04-08 02:26:38+00:00   \n",
       "1  2022-04-08 01:54:44+00:00   \n",
       "2  2022-04-08 01:51:28+00:00   \n",
       "3  2022-04-08 01:40:46+00:00   \n",
       "4  2022-04-08 00:35:13+00:00   \n",
       "5  2022-04-07 20:19:22+00:00   \n",
       "6  2022-04-07 20:13:55+00:00   \n",
       "7  2022-04-07 19:49:32+00:00   \n",
       "8  2022-04-07 18:17:45+00:00   \n",
       "9  2022-04-07 17:50:23+00:00   \n",
       "\n",
       "                                             Content  \n",
       "0   canggung kenapa takut kakak tiba nyulik aku kah   \n",
       "1                   apa aja bebas yang penting enak   \n",
       "2   waduh abang abangan nih btw andi adek nya ban...  \n",
       "3                                           ini kak   \n",
       "4                     astaga kalian berdua aowkkwkw   \n",
       "5   gila jam belum tidur anda pekerja keras sekal...  \n",
       "6                                          ya ampun   \n",
       "7         lautan asin bisa kekurangan gula awokawok   \n",
       "8                      ga ngerti tolong di jelaskan   \n",
       "9                              ari si anak tersesat   "
      ]
     },
     "execution_count": 6,
     "metadata": {},
     "output_type": "execute_result"
    }
   ],
   "source": [
    "# Preprocessor\n",
    "def preprocessor(text):\n",
    "    # Convert to lower case\n",
    "    text = text.lower()\n",
    "    # Convert www.* or https?://* to URL\n",
    "    text = re.sub('((www\\.[^\\s]+)|(https?://[^\\s]+))','',text)\n",
    "    # Convert @username to AT_USER\n",
    "    text = re.sub('@[^\\s]+','',text)\n",
    "    # Replace #word with word\n",
    "    text = re.sub(r'#([^\\s]+)', r'\\1',text)\n",
    "    # Menghapus angka dari teks\n",
    "    text = re.sub(r\"\\d+\", \"\", text)\n",
    "    # Menganti tanda baca dengan spasi\n",
    "    text = text.translate(str.maketrans(string.punctuation, ' ' * len(string.punctuation)))\n",
    "    # Remove additional code\n",
    "    text = text.replace('xa', '')\n",
    "    text = text.replace('xb', '')\n",
    "    text = text.replace('xc', '')\n",
    "    text = text.replace('xd', '')\n",
    "    text = text.replace('xe', '')\n",
    "    text = text.replace('xf', '')\n",
    "    text = text.replace('xh', '')\n",
    "    text = text.replace('xi', '')\n",
    "    text = text.replace('xj', '')\n",
    "    text = text.replace('xk', '')\n",
    "    text = text.replace('xl', '')\n",
    "    text = text.replace('xn', '')\n",
    "    text = text.replace('xo', '')\n",
    "    text = text.replace('xp', '')\n",
    "    text = text.replace('xq', '')\n",
    "    text = text.replace('xr', '')\n",
    "    text = text.replace('xs', '')\n",
    "    text = text.replace('xt', '')\n",
    "    text = text.replace('xu', '')\n",
    "    text = text.replace('xv', '')\n",
    "    text = text.replace('xw', '')\n",
    "    text = text.replace('xx', '')\n",
    "    text = text.replace('xy', '')\n",
    "    text = text.replace('xz', '')\n",
    "    text = text.replace('xaa', '')\n",
    "    text = text.replace('x', '')\n",
    "    text = text.replace(' b ', '')\n",
    "    text = text.replace(' e ', '')\n",
    "    text = text.replace(' c ', '')\n",
    "    text = text.replace(' d ', '')\n",
    "    text = text.replace(' f ', '')\n",
    "    text = text.replace(' a ', '')\n",
    "    text = text.replace(' n ', '')\n",
    "    # Remove additional white spaces\n",
    "    text = re.sub('[\\s]+', ' ', text)\n",
    "    return text\n",
    "data['Content'] = data['Content'].apply(lambda x : preprocessor(x))\n",
    "data['Content'].values\n",
    "\n",
    "data.head(10)"
   ]
  },
  {
   "cell_type": "code",
   "execution_count": 7,
   "metadata": {},
   "outputs": [],
   "source": [
    "# Create Stopword\n",
    "with open(\"stopwords.txt\", \"r\") as f:\n",
    "    stop_words = f.readline()\n",
    "    stop_words = stop_words.split()"
   ]
  },
  {
   "cell_type": "code",
   "execution_count": 8,
   "metadata": {},
   "outputs": [],
   "source": [
    "# Fungsi save hasil data yang sudah dibersihkan\n",
    "data.to_csv('cleaned.csv')"
   ]
  },
  {
   "cell_type": "code",
   "execution_count": 9,
   "metadata": {},
   "outputs": [],
   "source": [
    "# Tokenizer\n",
    "def tokenizer(text):\n",
    "    words = word_tokenize(text)\n",
    "    tokens=[]\n",
    "    for w in words:\n",
    "        # add tokens\n",
    "        if len(w) > 3 and w not in stop_words:\n",
    "            w = stemmer.stem(w)\n",
    "            tokens.append(w.lower())\n",
    "    return \" \".join(tokens)"
   ]
  },
  {
   "cell_type": "code",
   "execution_count": 10,
   "metadata": {},
   "outputs": [],
   "source": [
    "# Untuk menghemat waktu running dilakukan loading tweet yang sudah\n",
    "# dibersihkan sebelumnya\n",
    "# with open('/content/Cleaned Data.txt') as reader:\n",
    "#     data['Content'] = reader.read().split(\"\\n\")\n",
    "\n",
    "with open('cleaned.csv', 'rb') as f:\n",
    "  contents = f.read()\n",
    "# Uncomment dan run kode di bawah jika mengganti atau menambahkan\n",
    "# metode preprocess data text, proses running membutuhkan waktu\n",
    "# yang cukup lama (sekitar 1 jam)\n",
    "# data['Content'] = data['Content'].apply(lambda x : tokenizer(x))\n",
    "\n",
    "# data['Content'].values"
   ]
  },
  {
   "cell_type": "code",
   "execution_count": 11,
   "metadata": {},
   "outputs": [],
   "source": [
    "# Defining Vectorizer object\n",
    "vectorizer_tfidf = TfidfVectorizer(min_df=0.01, max_df=0.6)\n",
    "\n",
    "# Load saved vectorizer\n",
    "# vectorizer_tfidf = pickle.load(open('../model/vectorizer/vectorizer_tfidf.pickle', 'rb'))"
   ]
  },
  {
   "cell_type": "code",
   "execution_count": 12,
   "metadata": {},
   "outputs": [],
   "source": [
    "# fit and transform text data\n",
    "word_tfidf = vectorizer_tfidf.fit_transform(data['Content'].values)\n",
    "\n",
    "# Load saved transformed data\n",
    "# word_tfidf = pickle.load(open('../model/vectorizer/word_tfidf.pickle', 'rb'))"
   ]
  },
  {
   "cell_type": "code",
   "execution_count": 13,
   "metadata": {},
   "outputs": [
    {
     "name": "stdout",
     "output_type": "stream",
     "text": [
      "Jumlah artikel = 8346\n",
      "Jumlah fitur   = 82\n"
     ]
    },
    {
     "name": "stderr",
     "output_type": "stream",
     "text": [
      "c:\\Python\\lib\\site-packages\\sklearn\\utils\\deprecation.py:87: FutureWarning: Function get_feature_names is deprecated; get_feature_names is deprecated in 1.0 and will be removed in 1.2. Please use get_feature_names_out instead.\n",
      "  warnings.warn(msg, category=FutureWarning)\n"
     ]
    }
   ],
   "source": [
    "# Nama fitur\n",
    "nama_fitur = vectorizer_tfidf.get_feature_names()\n",
    "\n",
    "# Dimensi data\n",
    "dimensions = word_tfidf.get_shape()\n",
    "print(f\"Jumlah artikel = {dimensions[0]}\")\n",
    "print(f\"Jumlah fitur   = {dimensions[1]}\")"
   ]
  },
  {
   "cell_type": "code",
   "execution_count": 14,
   "metadata": {},
   "outputs": [
    {
     "data": {
      "text/html": [
       "<div>\n",
       "<style scoped>\n",
       "    .dataframe tbody tr th:only-of-type {\n",
       "        vertical-align: middle;\n",
       "    }\n",
       "\n",
       "    .dataframe tbody tr th {\n",
       "        vertical-align: top;\n",
       "    }\n",
       "\n",
       "    .dataframe thead th {\n",
       "        text-align: right;\n",
       "    }\n",
       "</style>\n",
       "<table border=\"1\" class=\"dataframe\">\n",
       "  <thead>\n",
       "    <tr style=\"text-align: right;\">\n",
       "      <th></th>\n",
       "      <th>Kata</th>\n",
       "      <th>Banyak</th>\n",
       "    </tr>\n",
       "  </thead>\n",
       "  <tbody>\n",
       "    <tr>\n",
       "      <th>81</th>\n",
       "      <td>yuk</td>\n",
       "      <td>1742</td>\n",
       "    </tr>\n",
       "    <tr>\n",
       "      <th>56</th>\n",
       "      <td>pagi</td>\n",
       "      <td>590</td>\n",
       "    </tr>\n",
       "    <tr>\n",
       "      <th>80</th>\n",
       "      <td>yopi</td>\n",
       "      <td>354</td>\n",
       "    </tr>\n",
       "    <tr>\n",
       "      <th>27</th>\n",
       "      <td>iofi</td>\n",
       "      <td>149</td>\n",
       "    </tr>\n",
       "    <tr>\n",
       "      <th>62</th>\n",
       "      <td>selamat</td>\n",
       "      <td>141</td>\n",
       "    </tr>\n",
       "    <tr>\n",
       "      <th>79</th>\n",
       "      <td>yop</td>\n",
       "      <td>121</td>\n",
       "    </tr>\n",
       "    <tr>\n",
       "      <th>40</th>\n",
       "      <td>kobo</td>\n",
       "      <td>110</td>\n",
       "    </tr>\n",
       "    <tr>\n",
       "      <th>66</th>\n",
       "      <td>skejul</td>\n",
       "      <td>106</td>\n",
       "    </tr>\n",
       "    <tr>\n",
       "      <th>72</th>\n",
       "      <td>vtuber</td>\n",
       "      <td>105</td>\n",
       "    </tr>\n",
       "    <tr>\n",
       "      <th>24</th>\n",
       "      <td>hololive</td>\n",
       "      <td>104</td>\n",
       "    </tr>\n",
       "    <tr>\n",
       "      <th>26</th>\n",
       "      <td>ini</td>\n",
       "      <td>97</td>\n",
       "    </tr>\n",
       "    <tr>\n",
       "      <th>21</th>\n",
       "      <td>gak</td>\n",
       "      <td>96</td>\n",
       "    </tr>\n",
       "    <tr>\n",
       "      <th>57</th>\n",
       "      <td>pituber</td>\n",
       "      <td>96</td>\n",
       "    </tr>\n",
       "    <tr>\n",
       "      <th>32</th>\n",
       "      <td>juga</td>\n",
       "      <td>91</td>\n",
       "    </tr>\n",
       "    <tr>\n",
       "      <th>22</th>\n",
       "      <td>gmt</td>\n",
       "      <td>89</td>\n",
       "    </tr>\n",
       "    <tr>\n",
       "      <th>7</th>\n",
       "      <td>banget</td>\n",
       "      <td>88</td>\n",
       "    </tr>\n",
       "    <tr>\n",
       "      <th>43</th>\n",
       "      <td>lort</td>\n",
       "      <td>87</td>\n",
       "    </tr>\n",
       "    <tr>\n",
       "      <th>55</th>\n",
       "      <td>ollie</td>\n",
       "      <td>83</td>\n",
       "    </tr>\n",
       "    <tr>\n",
       "      <th>20</th>\n",
       "      <td>ga</td>\n",
       "      <td>83</td>\n",
       "    </tr>\n",
       "    <tr>\n",
       "      <th>12</th>\n",
       "      <td>bo</td>\n",
       "      <td>82</td>\n",
       "    </tr>\n",
       "  </tbody>\n",
       "</table>\n",
       "</div>"
      ],
      "text/plain": [
       "        Kata  Banyak\n",
       "81       yuk    1742\n",
       "56      pagi     590\n",
       "80      yopi     354\n",
       "27      iofi     149\n",
       "62   selamat     141\n",
       "79       yop     121\n",
       "40      kobo     110\n",
       "66    skejul     106\n",
       "72    vtuber     105\n",
       "24  hololive     104\n",
       "26       ini      97\n",
       "21       gak      96\n",
       "57   pituber      96\n",
       "32      juga      91\n",
       "22       gmt      89\n",
       "7     banget      88\n",
       "43      lort      87\n",
       "55     ollie      83\n",
       "20        ga      83\n",
       "12        bo      82"
      ]
     },
     "execution_count": 14,
     "metadata": {},
     "output_type": "execute_result"
    }
   ],
   "source": [
    "content1, content2 = [], []\n",
    "\n",
    "for n in range(dimensions[0]):\n",
    "    # Convert sparse matrix row by row \n",
    "    row = word_tfidf.getrow(n).toarray()[0].ravel()\n",
    "    # Get top values and its indexes \n",
    "    top_ten_indices = row.argsort()[-1]\n",
    "    top_ten_values = row[row.argsort()[-1]]\n",
    "    # Identify the highest TFIDF value and word #\n",
    "    highestTFIDFword = nama_fitur[top_ten_indices]\n",
    "    highestTFIDFvalue = top_ten_values\n",
    "    top1word = {'nomor artikel': n+1, 'nilai TFIDF': highestTFIDFvalue,\n",
    "                'top word': highestTFIDFword}\n",
    "    content1.append(top1word)\n",
    "    content2.append(highestTFIDFword)\n",
    "\n",
    "# Hitung Frekuensi kata dengan bobot terbesar\n",
    "content2 = np.asarray(content2)\n",
    "words, n = np.unique(content2, return_counts=True)\n",
    "\n",
    "# Convert to DataFrame lalu urutkan secara descending\n",
    "# lalu pilih 20 kata dengan frekuensi terbesar \n",
    "words_data = pd.DataFrame({\n",
    "    'Kata': words,\n",
    "    'Banyak': n\n",
    "}).sort_values(by='Banyak', ascending=False).head(20)\n",
    "words_data "
   ]
  },
  {
   "cell_type": "code",
   "execution_count": 15,
   "metadata": {},
   "outputs": [
    {
     "data": {
      "image/png": "[encoded data removed]",
      "text/plain": [
       "<Figure size 1000x1000 with 1 Axes>"
      ]
     },
     "metadata": {},
     "output_type": "display_data"
    }
   ],
   "source": [
    "# Plotting Barplot\n",
    "plt.figure(figsize = (10,10))\n",
    "sns.barplot(x = words_data['Kata'],y = words_data['Banyak'])\n",
    "for i, v in enumerate(words_data['Banyak'].tolist()):\n",
    "    plt.text(i-len(str(v))/10-.05, v + 50, str(v),fontsize=10)\n",
    "plt.title('Kata Dengan Bobot Terbesar',fontsize=20)\n",
    "plt.xticks(rotation=90)\n",
    "plt.xlabel('Kata',fontsize=16)\n",
    "plt.ylabel('Frekuensi',fontsize=16)\n",
    "plt.show()"
   ]
  },
  {
   "cell_type": "markdown",
   "metadata": {},
   "source": [
    "Modelling"
   ]
  },
  {
   "cell_type": "code",
   "execution_count": 16,
   "metadata": {},
   "outputs": [
    {
     "data": {
      "text/html": [
       "<div>\n",
       "<style scoped>\n",
       "    .dataframe tbody tr th:only-of-type {\n",
       "        vertical-align: middle;\n",
       "    }\n",
       "\n",
       "    .dataframe tbody tr th {\n",
       "        vertical-align: top;\n",
       "    }\n",
       "\n",
       "    .dataframe thead th {\n",
       "        text-align: right;\n",
       "    }\n",
       "</style>\n",
       "<table border=\"1\" class=\"dataframe\">\n",
       "  <thead>\n",
       "    <tr style=\"text-align: right;\">\n",
       "      <th></th>\n",
       "      <th>Unnamed: 0</th>\n",
       "      <th>Date</th>\n",
       "      <th>Content</th>\n",
       "      <th>Label</th>\n",
       "    </tr>\n",
       "  </thead>\n",
       "  <tbody>\n",
       "    <tr>\n",
       "      <th>0</th>\n",
       "      <td>0</td>\n",
       "      <td>2022-04-08 02:26:38+00:00</td>\n",
       "      <td>canggung kenapa takut kakak tiba nyulik aku kah</td>\n",
       "      <td>0</td>\n",
       "    </tr>\n",
       "    <tr>\n",
       "      <th>1</th>\n",
       "      <td>1</td>\n",
       "      <td>2022-04-08 01:54:44+00:00</td>\n",
       "      <td>apa aja bebas yang penting enak</td>\n",
       "      <td>2</td>\n",
       "    </tr>\n",
       "    <tr>\n",
       "      <th>2</th>\n",
       "      <td>2</td>\n",
       "      <td>2022-04-08 01:51:28+00:00</td>\n",
       "      <td>waduh abang abangan nih btw andi adek nya ban...</td>\n",
       "      <td>2</td>\n",
       "    </tr>\n",
       "    <tr>\n",
       "      <th>3</th>\n",
       "      <td>3</td>\n",
       "      <td>2022-04-08 01:40:46+00:00</td>\n",
       "      <td>ini kak</td>\n",
       "      <td>1</td>\n",
       "    </tr>\n",
       "    <tr>\n",
       "      <th>4</th>\n",
       "      <td>4</td>\n",
       "      <td>2022-04-08 00:35:13+00:00</td>\n",
       "      <td>astaga kalian berdua aowkkwkw</td>\n",
       "      <td>0</td>\n",
       "    </tr>\n",
       "    <tr>\n",
       "      <th>5</th>\n",
       "      <td>5</td>\n",
       "      <td>2022-04-07 20:19:22+00:00</td>\n",
       "      <td>gila jam belum tidur anda pekerja keras sekal...</td>\n",
       "      <td>2</td>\n",
       "    </tr>\n",
       "    <tr>\n",
       "      <th>6</th>\n",
       "      <td>6</td>\n",
       "      <td>2022-04-07 20:13:55+00:00</td>\n",
       "      <td>ya ampun</td>\n",
       "      <td>0</td>\n",
       "    </tr>\n",
       "    <tr>\n",
       "      <th>7</th>\n",
       "      <td>7</td>\n",
       "      <td>2022-04-07 19:49:32+00:00</td>\n",
       "      <td>lautan asin bisa kekurangan gula awokawok</td>\n",
       "      <td>0</td>\n",
       "    </tr>\n",
       "    <tr>\n",
       "      <th>8</th>\n",
       "      <td>8</td>\n",
       "      <td>2022-04-07 18:17:45+00:00</td>\n",
       "      <td>ga ngerti tolong di jelaskan</td>\n",
       "      <td>0</td>\n",
       "    </tr>\n",
       "    <tr>\n",
       "      <th>9</th>\n",
       "      <td>9</td>\n",
       "      <td>2022-04-07 17:50:23+00:00</td>\n",
       "      <td>ari si anak tersesat</td>\n",
       "      <td>0</td>\n",
       "    </tr>\n",
       "  </tbody>\n",
       "</table>\n",
       "</div>"
      ],
      "text/plain": [
       "   Unnamed: 0                       Date  \\\n",
       "0           0  2022-04-08 02:26:38+00:00   \n",
       "1           1  2022-04-08 01:54:44+00:00   \n",
       "2           2  2022-04-08 01:51:28+00:00   \n",
       "3           3  2022-04-08 01:40:46+00:00   \n",
       "4           4  2022-04-08 00:35:13+00:00   \n",
       "5           5  2022-04-07 20:19:22+00:00   \n",
       "6           6  2022-04-07 20:13:55+00:00   \n",
       "7           7  2022-04-07 19:49:32+00:00   \n",
       "8           8  2022-04-07 18:17:45+00:00   \n",
       "9           9  2022-04-07 17:50:23+00:00   \n",
       "\n",
       "                                             Content  Label  \n",
       "0   canggung kenapa takut kakak tiba nyulik aku kah       0  \n",
       "1                   apa aja bebas yang penting enak       2  \n",
       "2   waduh abang abangan nih btw andi adek nya ban...      2  \n",
       "3                                           ini kak       1  \n",
       "4                     astaga kalian berdua aowkkwkw       0  \n",
       "5   gila jam belum tidur anda pekerja keras sekal...      2  \n",
       "6                                          ya ampun       0  \n",
       "7         lautan asin bisa kekurangan gula awokawok       0  \n",
       "8                      ga ngerti tolong di jelaskan       0  \n",
       "9                              ari si anak tersesat       0  "
      ]
     },
     "execution_count": 16,
     "metadata": {},
     "output_type": "execute_result"
    }
   ],
   "source": [
    "# Load data hasil dari proses labeling\n",
    "sample = pd.read_csv('label.csv')\n",
    "sample['Label'].astype('int64', errors='ignore')\n",
    "sample.head(10)"
   ]
  },
  {
   "cell_type": "code",
   "execution_count": 17,
   "metadata": {},
   "outputs": [],
   "source": [
    "# sample['Content'] = sample['Content'].apply(lambda x : cleaning(x))\n",
    "# sample['Content'] = sample['Content'].apply(lambda x : preprocessor(x))\n",
    "# sample['Content'] = sample['Content'].apply(lambda x : tokenizer(x))\n",
    "# sample['Content'].values[:5]"
   ]
  },
  {
   "cell_type": "code",
   "execution_count": 18,
   "metadata": {},
   "outputs": [
    {
     "name": "stdout",
     "output_type": "stream",
     "text": [
      "Counter({2: 2063, 1: 1501, 0: 437})\n"
     ]
    }
   ],
   "source": [
    "from collections import Counter\n",
    "from re import X\n",
    "x = vectorizer_tfidf.transform(sample['Content'].values)\n",
    "y = sample['Label'].values\n",
    "counter = Counter(y)\n",
    "print(counter)"
   ]
  },
  {
   "cell_type": "code",
   "execution_count": null,
   "metadata": {},
   "outputs": [],
   "source": []
  },
  {
   "cell_type": "code",
   "execution_count": 19,
   "metadata": {},
   "outputs": [
    {
     "name": "stdout",
     "output_type": "stream",
     "text": [
      "Counter({0: 2063, 2: 2063, 1: 1501})\n"
     ]
    }
   ],
   "source": [
    "# Oversample dataset yang imba dengan Random Over Sampler (ROS)\n",
    "from collections import Counter\n",
    "from imblearn.over_sampling import RandomOverSampler\n",
    "from numpy import where\n",
    "\n",
    "# mendefinisikan metode oversampling\n",
    "oversample = RandomOverSampler(sampling_strategy='minority')\n",
    "# merubah dataset\n",
    "x, y = oversample.fit_resample(x, y)\n",
    "# menghitung hasil dari oversampling\n",
    "counter = Counter(y)\n",
    "print(counter)"
   ]
  },
  {
   "cell_type": "markdown",
   "metadata": {},
   "source": [
    "dikarenakan data dengan nilai netral masih tidak seimbang, maka diperlukan sampling sekali lagi"
   ]
  },
  {
   "cell_type": "code",
   "execution_count": 20,
   "metadata": {},
   "outputs": [
    {
     "name": "stdout",
     "output_type": "stream",
     "text": [
      "Counter({0: 2063, 2: 2063, 1: 2063})\n"
     ]
    }
   ],
   "source": [
    "# Oversample dataset yang imba dengan Random Over Sampler (ROS)\n",
    "from collections import Counter\n",
    "from imblearn.over_sampling import RandomOverSampler\n",
    "from numpy import where\n",
    "\n",
    "# mendefinisikan metode oversampling\n",
    "oversample = RandomOverSampler(sampling_strategy='minority')\n",
    "# merubah dataset\n",
    "x, y = oversample.fit_resample(x, y)\n",
    "# menghitung hasil dari oversampling\n",
    "counter = Counter(y)\n",
    "print(counter)"
   ]
  },
  {
   "cell_type": "code",
   "execution_count": 23,
   "metadata": {},
   "outputs": [],
   "source": [
    "from sklearn.model_selection import train_test_split\n",
    "x_train, x_valid, y_train, y_valid = train_test_split(x, y, test_size=0.2, random_state=1500)\n",
    "x_train = x_train.toarray"
   ]
  },
  {
   "cell_type": "code",
   "execution_count": null,
   "metadata": {},
   "outputs": [],
   "source": [
    "# Modelling\n",
    "# from sklearn.linear_model import LogisticRegression\n",
    "# from sklearn.ensemble import RandomForestClassifier\n",
    "# from sklearn.tree import DecisionTreeClassifier\n",
    "# from sklearn.naive_bayes import BernoulliNB\n",
    "# from sklearn.naive_bayes import MultinomialNB\n",
    "# from sklearn.naive_bayes import ComplementNB\n",
    "# from sklearn.svm import SVC\n",
    "# from sklearn import metrics\n",
    "\n",
    "# classifiers = {\n",
    "#    \"Decision Tree Classifier\": DecisionTreeClassifier(),\n",
    "#    \"Logistic Regression\": LogisticRegression(),\n",
    "#    \"Random Forest Classifier\": RandomForestClassifier(),\n",
    "#    \"Bernoulli Naive Bayes\" : BernoulliNB(),\n",
    "#    \"Multinomial Naive Bayes\" : MultinomialNB(),\n",
    "#    \"Complement Naive Bayes\" : ComplementNB(),\n",
    "#    \"SVM\": SVC(probability=True)    \n",
    "# }\n",
    "\n",
    "# for name in classifiers.keys():\n",
    "#    classifiers[name].fit(x_train, y_train)\n",
    "#    y_pred = classifiers[name].predict(x_valid)\n",
    "#    print(f\"Akurasi dari {name} : \",metrics.accuracy_score(y_valid, y_pred))"
   ]
  },
  {
   "cell_type": "code",
   "execution_count": null,
   "metadata": {},
   "outputs": [],
   "source": []
  },
  {
   "cell_type": "code",
   "execution_count": 24,
   "metadata": {},
   "outputs": [
    {
     "ename": "TypeError",
     "evalue": "int() argument must be a string, a bytes-like object or a real number, not 'method'",
     "output_type": "error",
     "traceback": [
      "\u001b[1;31m---------------------------------------------------------------------------\u001b[0m",
      "\u001b[1;31mTypeError\u001b[0m                                 Traceback (most recent call last)",
      "\u001b[1;32mc:\\Users\\rbriz\\Documents\\skripsick\\cleaning copy 2.ipynb Cell 27\u001b[0m in \u001b[0;36m<cell line: 12>\u001b[1;34m()\u001b[0m\n\u001b[0;32m      <a href='vscode-notebook-cell:/c%3A/Users/rbriz/Documents/skripsick/cleaning%20copy%202.ipynb#X35sZmlsZQ%3D%3D?line=6'>7</a>\u001b[0m classifiers \u001b[39m=\u001b[39m {\n\u001b[0;32m      <a href='vscode-notebook-cell:/c%3A/Users/rbriz/Documents/skripsick/cleaning%20copy%202.ipynb#X35sZmlsZQ%3D%3D?line=7'>8</a>\u001b[0m \n\u001b[0;32m      <a href='vscode-notebook-cell:/c%3A/Users/rbriz/Documents/skripsick/cleaning%20copy%202.ipynb#X35sZmlsZQ%3D%3D?line=8'>9</a>\u001b[0m     \u001b[39m\"\u001b[39m\u001b[39mCategorical Naive Bayes\u001b[39m\u001b[39m\"\u001b[39m : CategoricalNB(min_categories\u001b[39m=\u001b[39msample\u001b[39m.\u001b[39mnunique())\n\u001b[0;32m     <a href='vscode-notebook-cell:/c%3A/Users/rbriz/Documents/skripsick/cleaning%20copy%202.ipynb#X35sZmlsZQ%3D%3D?line=9'>10</a>\u001b[0m }\n\u001b[0;32m     <a href='vscode-notebook-cell:/c%3A/Users/rbriz/Documents/skripsick/cleaning%20copy%202.ipynb#X35sZmlsZQ%3D%3D?line=11'>12</a>\u001b[0m \u001b[39mfor\u001b[39;00m name \u001b[39min\u001b[39;00m classifiers\u001b[39m.\u001b[39mkeys():\n\u001b[1;32m---> <a href='vscode-notebook-cell:/c%3A/Users/rbriz/Documents/skripsick/cleaning%20copy%202.ipynb#X35sZmlsZQ%3D%3D?line=13'>14</a>\u001b[0m     classifiers[name]\u001b[39m.\u001b[39;49mfit(x_train, y_train)\n\u001b[0;32m     <a href='vscode-notebook-cell:/c%3A/Users/rbriz/Documents/skripsick/cleaning%20copy%202.ipynb#X35sZmlsZQ%3D%3D?line=14'>15</a>\u001b[0m     y_pred \u001b[39m=\u001b[39m classifiers[name]\u001b[39m.\u001b[39mpredict(x_valid)\n\u001b[0;32m     <a href='vscode-notebook-cell:/c%3A/Users/rbriz/Documents/skripsick/cleaning%20copy%202.ipynb#X35sZmlsZQ%3D%3D?line=15'>16</a>\u001b[0m     \u001b[39mprint\u001b[39m(\u001b[39mf\u001b[39m\u001b[39m\"\u001b[39m\u001b[39mAkurasi dari \u001b[39m\u001b[39m{\u001b[39;00mname\u001b[39m}\u001b[39;00m\u001b[39m : \u001b[39m\u001b[39m\"\u001b[39m,metrics\u001b[39m.\u001b[39maccuracy_score(y_valid, y_pred))\n",
      "File \u001b[1;32mc:\\Python\\lib\\site-packages\\sklearn\\naive_bayes.py:1290\u001b[0m, in \u001b[0;36mCategoricalNB.fit\u001b[1;34m(self, X, y, sample_weight)\u001b[0m\n\u001b[0;32m   1265\u001b[0m \u001b[39mdef\u001b[39;00m \u001b[39mfit\u001b[39m(\u001b[39mself\u001b[39m, X, y, sample_weight\u001b[39m=\u001b[39m\u001b[39mNone\u001b[39;00m):\n\u001b[0;32m   1266\u001b[0m     \u001b[39m\"\"\"Fit Naive Bayes classifier according to X, y.\u001b[39;00m\n\u001b[0;32m   1267\u001b[0m \n\u001b[0;32m   1268\u001b[0m \u001b[39m    Parameters\u001b[39;00m\n\u001b[1;32m   (...)\u001b[0m\n\u001b[0;32m   1288\u001b[0m \u001b[39m        Returns the instance itself.\u001b[39;00m\n\u001b[0;32m   1289\u001b[0m \u001b[39m    \"\"\"\u001b[39;00m\n\u001b[1;32m-> 1290\u001b[0m     \u001b[39mreturn\u001b[39;00m \u001b[39msuper\u001b[39;49m()\u001b[39m.\u001b[39;49mfit(X, y, sample_weight\u001b[39m=\u001b[39;49msample_weight)\n",
      "File \u001b[1;32mc:\\Python\\lib\\site-packages\\sklearn\\naive_bayes.py:699\u001b[0m, in \u001b[0;36m_BaseDiscreteNB.fit\u001b[1;34m(self, X, y, sample_weight)\u001b[0m\n\u001b[0;32m    679\u001b[0m \u001b[39mdef\u001b[39;00m \u001b[39mfit\u001b[39m(\u001b[39mself\u001b[39m, X, y, sample_weight\u001b[39m=\u001b[39m\u001b[39mNone\u001b[39;00m):\n\u001b[0;32m    680\u001b[0m     \u001b[39m\"\"\"Fit Naive Bayes classifier according to X, y.\u001b[39;00m\n\u001b[0;32m    681\u001b[0m \n\u001b[0;32m    682\u001b[0m \u001b[39m    Parameters\u001b[39;00m\n\u001b[1;32m   (...)\u001b[0m\n\u001b[0;32m    697\u001b[0m \u001b[39m        Returns the instance itself.\u001b[39;00m\n\u001b[0;32m    698\u001b[0m \u001b[39m    \"\"\"\u001b[39;00m\n\u001b[1;32m--> 699\u001b[0m     X, y \u001b[39m=\u001b[39m \u001b[39mself\u001b[39;49m\u001b[39m.\u001b[39;49m_check_X_y(X, y)\n\u001b[0;32m    700\u001b[0m     _, n_features \u001b[39m=\u001b[39m X\u001b[39m.\u001b[39mshape\n\u001b[0;32m    702\u001b[0m     labelbin \u001b[39m=\u001b[39m LabelBinarizer()\n",
      "File \u001b[1;32mc:\\Python\\lib\\site-packages\\sklearn\\naive_bayes.py:1348\u001b[0m, in \u001b[0;36mCategoricalNB._check_X_y\u001b[1;34m(self, X, y, reset)\u001b[0m\n\u001b[0;32m   1347\u001b[0m \u001b[39mdef\u001b[39;00m \u001b[39m_check_X_y\u001b[39m(\u001b[39mself\u001b[39m, X, y, reset\u001b[39m=\u001b[39m\u001b[39mTrue\u001b[39;00m):\n\u001b[1;32m-> 1348\u001b[0m     X, y \u001b[39m=\u001b[39m \u001b[39mself\u001b[39;49m\u001b[39m.\u001b[39;49m_validate_data(\n\u001b[0;32m   1349\u001b[0m         X, y, dtype\u001b[39m=\u001b[39;49m\u001b[39m\"\u001b[39;49m\u001b[39mint\u001b[39;49m\u001b[39m\"\u001b[39;49m, accept_sparse\u001b[39m=\u001b[39;49m\u001b[39mFalse\u001b[39;49;00m, force_all_finite\u001b[39m=\u001b[39;49m\u001b[39mTrue\u001b[39;49;00m, reset\u001b[39m=\u001b[39;49mreset\n\u001b[0;32m   1350\u001b[0m     )\n\u001b[0;32m   1351\u001b[0m     check_non_negative(X, \u001b[39m\"\u001b[39m\u001b[39mCategoricalNB (input X)\u001b[39m\u001b[39m\"\u001b[39m)\n\u001b[0;32m   1352\u001b[0m     \u001b[39mreturn\u001b[39;00m X, y\n",
      "File \u001b[1;32mc:\\Python\\lib\\site-packages\\sklearn\\base.py:596\u001b[0m, in \u001b[0;36mBaseEstimator._validate_data\u001b[1;34m(self, X, y, reset, validate_separately, **check_params)\u001b[0m\n\u001b[0;32m    594\u001b[0m         y \u001b[39m=\u001b[39m check_array(y, input_name\u001b[39m=\u001b[39m\u001b[39m\"\u001b[39m\u001b[39my\u001b[39m\u001b[39m\"\u001b[39m, \u001b[39m*\u001b[39m\u001b[39m*\u001b[39mcheck_y_params)\n\u001b[0;32m    595\u001b[0m     \u001b[39melse\u001b[39;00m:\n\u001b[1;32m--> 596\u001b[0m         X, y \u001b[39m=\u001b[39m check_X_y(X, y, \u001b[39m*\u001b[39m\u001b[39m*\u001b[39mcheck_params)\n\u001b[0;32m    597\u001b[0m     out \u001b[39m=\u001b[39m X, y\n\u001b[0;32m    599\u001b[0m \u001b[39mif\u001b[39;00m \u001b[39mnot\u001b[39;00m no_val_X \u001b[39mand\u001b[39;00m check_params\u001b[39m.\u001b[39mget(\u001b[39m\"\u001b[39m\u001b[39mensure_2d\u001b[39m\u001b[39m\"\u001b[39m, \u001b[39mTrue\u001b[39;00m):\n",
      "File \u001b[1;32mc:\\Python\\lib\\site-packages\\sklearn\\utils\\validation.py:1074\u001b[0m, in \u001b[0;36mcheck_X_y\u001b[1;34m(X, y, accept_sparse, accept_large_sparse, dtype, order, copy, force_all_finite, ensure_2d, allow_nd, multi_output, ensure_min_samples, ensure_min_features, y_numeric, estimator)\u001b[0m\n\u001b[0;32m   1069\u001b[0m         estimator_name \u001b[39m=\u001b[39m _check_estimator_name(estimator)\n\u001b[0;32m   1070\u001b[0m     \u001b[39mraise\u001b[39;00m \u001b[39mValueError\u001b[39;00m(\n\u001b[0;32m   1071\u001b[0m         \u001b[39mf\u001b[39m\u001b[39m\"\u001b[39m\u001b[39m{\u001b[39;00mestimator_name\u001b[39m}\u001b[39;00m\u001b[39m requires y to be passed, but the target y is None\u001b[39m\u001b[39m\"\u001b[39m\n\u001b[0;32m   1072\u001b[0m     )\n\u001b[1;32m-> 1074\u001b[0m X \u001b[39m=\u001b[39m check_array(\n\u001b[0;32m   1075\u001b[0m     X,\n\u001b[0;32m   1076\u001b[0m     accept_sparse\u001b[39m=\u001b[39;49maccept_sparse,\n\u001b[0;32m   1077\u001b[0m     accept_large_sparse\u001b[39m=\u001b[39;49maccept_large_sparse,\n\u001b[0;32m   1078\u001b[0m     dtype\u001b[39m=\u001b[39;49mdtype,\n\u001b[0;32m   1079\u001b[0m     order\u001b[39m=\u001b[39;49morder,\n\u001b[0;32m   1080\u001b[0m     copy\u001b[39m=\u001b[39;49mcopy,\n\u001b[0;32m   1081\u001b[0m     force_all_finite\u001b[39m=\u001b[39;49mforce_all_finite,\n\u001b[0;32m   1082\u001b[0m     ensure_2d\u001b[39m=\u001b[39;49mensure_2d,\n\u001b[0;32m   1083\u001b[0m     allow_nd\u001b[39m=\u001b[39;49mallow_nd,\n\u001b[0;32m   1084\u001b[0m     ensure_min_samples\u001b[39m=\u001b[39;49mensure_min_samples,\n\u001b[0;32m   1085\u001b[0m     ensure_min_features\u001b[39m=\u001b[39;49mensure_min_features,\n\u001b[0;32m   1086\u001b[0m     estimator\u001b[39m=\u001b[39;49mestimator,\n\u001b[0;32m   1087\u001b[0m     input_name\u001b[39m=\u001b[39;49m\u001b[39m\"\u001b[39;49m\u001b[39mX\u001b[39;49m\u001b[39m\"\u001b[39;49m,\n\u001b[0;32m   1088\u001b[0m )\n\u001b[0;32m   1090\u001b[0m y \u001b[39m=\u001b[39m _check_y(y, multi_output\u001b[39m=\u001b[39mmulti_output, y_numeric\u001b[39m=\u001b[39my_numeric, estimator\u001b[39m=\u001b[39mestimator)\n\u001b[0;32m   1092\u001b[0m check_consistent_length(X, y)\n",
      "File \u001b[1;32mc:\\Python\\lib\\site-packages\\sklearn\\utils\\validation.py:854\u001b[0m, in \u001b[0;36mcheck_array\u001b[1;34m(array, accept_sparse, accept_large_sparse, dtype, order, copy, force_all_finite, ensure_2d, allow_nd, ensure_min_samples, ensure_min_features, estimator, input_name)\u001b[0m\n\u001b[0;32m    846\u001b[0m     \u001b[39mif\u001b[39;00m array\u001b[39m.\u001b[39mdtype\u001b[39m.\u001b[39mkind \u001b[39m==\u001b[39m \u001b[39m\"\u001b[39m\u001b[39mf\u001b[39m\u001b[39m\"\u001b[39m:\n\u001b[0;32m    847\u001b[0m         _assert_all_finite(\n\u001b[0;32m    848\u001b[0m             array,\n\u001b[0;32m    849\u001b[0m             allow_nan\u001b[39m=\u001b[39m\u001b[39mFalse\u001b[39;00m,\n\u001b[1;32m   (...)\u001b[0m\n\u001b[0;32m    852\u001b[0m             input_name\u001b[39m=\u001b[39minput_name,\n\u001b[0;32m    853\u001b[0m         )\n\u001b[1;32m--> 854\u001b[0m     array \u001b[39m=\u001b[39m array\u001b[39m.\u001b[39;49mastype(dtype, casting\u001b[39m=\u001b[39;49m\u001b[39m\"\u001b[39;49m\u001b[39munsafe\u001b[39;49m\u001b[39m\"\u001b[39;49m, copy\u001b[39m=\u001b[39;49m\u001b[39mFalse\u001b[39;49;00m)\n\u001b[0;32m    855\u001b[0m \u001b[39melse\u001b[39;00m:\n\u001b[0;32m    856\u001b[0m     array \u001b[39m=\u001b[39m np\u001b[39m.\u001b[39masarray(array, order\u001b[39m=\u001b[39morder, dtype\u001b[39m=\u001b[39mdtype)\n",
      "\u001b[1;31mTypeError\u001b[0m: int() argument must be a string, a bytes-like object or a real number, not 'method'"
     ]
    }
   ],
   "source": [
    "# Modelling\n",
    "# import library\n",
    "from sklearn.naive_bayes import CategoricalNB\n",
    "from sklearn import metrics\n",
    "\n",
    "# mendefinisikan classifiers yang digunakan\n",
    "classifiers = {\n",
    "\n",
    "    \"Categorical Naive Bayes\" : CategoricalNB(min_categories=sample.nunique())\n",
    "}\n",
    "\n",
    "for name in classifiers.keys():\n",
    "    \n",
    "    classifiers[name].fit(x_train, y_train)\n",
    "    y_pred = classifiers[name].predict(x_valid)\n",
    "    print(f\"Akurasi dari {name} : \",metrics.accuracy_score(y_valid, y_pred))"
   ]
  },
  {
   "cell_type": "code",
   "execution_count": null,
   "metadata": {},
   "outputs": [
    {
     "ename": "TypeError",
     "evalue": "A sparse matrix was passed, but dense data is required. Use X.toarray() to convert to a dense numpy array.",
     "output_type": "error",
     "traceback": [
      "\u001b[1;31m---------------------------------------------------------------------------\u001b[0m",
      "\u001b[1;31mTypeError\u001b[0m                                 Traceback (most recent call last)",
      "\u001b[1;32mc:\\Users\\rbriz\\Documents\\skripsick\\cleaning copy 2.ipynb Cell 28\u001b[0m in \u001b[0;36m<cell line: 2>\u001b[1;34m()\u001b[0m\n\u001b[0;32m      <a href='vscode-notebook-cell:/c%3A/Users/rbriz/Documents/skripsick/cleaning%20copy%202.ipynb#X43sZmlsZQ%3D%3D?line=0'>1</a>\u001b[0m \u001b[39m# menghitung nilai akurasi dari classifier\u001b[39;00m\n\u001b[0;32m      <a href='vscode-notebook-cell:/c%3A/Users/rbriz/Documents/skripsick/cleaning%20copy%202.ipynb#X43sZmlsZQ%3D%3D?line=1'>2</a>\u001b[0m \u001b[39mfor\u001b[39;00m name \u001b[39min\u001b[39;00m classifiers\u001b[39m.\u001b[39mkeys():\n\u001b[1;32m----> <a href='vscode-notebook-cell:/c%3A/Users/rbriz/Documents/skripsick/cleaning%20copy%202.ipynb#X43sZmlsZQ%3D%3D?line=2'>3</a>\u001b[0m     classifiers[name]\u001b[39m.\u001b[39;49mfit(x_train, y_train)\n\u001b[0;32m      <a href='vscode-notebook-cell:/c%3A/Users/rbriz/Documents/skripsick/cleaning%20copy%202.ipynb#X43sZmlsZQ%3D%3D?line=3'>4</a>\u001b[0m     y_pred \u001b[39m=\u001b[39m classifiers[name]\u001b[39m.\u001b[39mpredict(x_valid)\n\u001b[0;32m      <a href='vscode-notebook-cell:/c%3A/Users/rbriz/Documents/skripsick/cleaning%20copy%202.ipynb#X43sZmlsZQ%3D%3D?line=4'>5</a>\u001b[0m     \u001b[39mprint\u001b[39m(\u001b[39mf\u001b[39m\u001b[39m\"\u001b[39m\u001b[39mAkurasi dari \u001b[39m\u001b[39m{\u001b[39;00mname\u001b[39m}\u001b[39;00m\u001b[39m : \u001b[39m\u001b[39m\"\u001b[39m,metrics\u001b[39m.\u001b[39maccuracy_score(y_valid, y_pred))\n",
      "File \u001b[1;32mc:\\Python\\lib\\site-packages\\sklearn\\naive_bayes.py:1290\u001b[0m, in \u001b[0;36mCategoricalNB.fit\u001b[1;34m(self, X, y, sample_weight)\u001b[0m\n\u001b[0;32m   1265\u001b[0m \u001b[39mdef\u001b[39;00m \u001b[39mfit\u001b[39m(\u001b[39mself\u001b[39m, X, y, sample_weight\u001b[39m=\u001b[39m\u001b[39mNone\u001b[39;00m):\n\u001b[0;32m   1266\u001b[0m     \u001b[39m\"\"\"Fit Naive Bayes classifier according to X, y.\u001b[39;00m\n\u001b[0;32m   1267\u001b[0m \n\u001b[0;32m   1268\u001b[0m \u001b[39m    Parameters\u001b[39;00m\n\u001b[1;32m   (...)\u001b[0m\n\u001b[0;32m   1288\u001b[0m \u001b[39m        Returns the instance itself.\u001b[39;00m\n\u001b[0;32m   1289\u001b[0m \u001b[39m    \"\"\"\u001b[39;00m\n\u001b[1;32m-> 1290\u001b[0m     \u001b[39mreturn\u001b[39;00m \u001b[39msuper\u001b[39;49m()\u001b[39m.\u001b[39;49mfit(X, y, sample_weight\u001b[39m=\u001b[39;49msample_weight)\n",
      "File \u001b[1;32mc:\\Python\\lib\\site-packages\\sklearn\\naive_bayes.py:699\u001b[0m, in \u001b[0;36m_BaseDiscreteNB.fit\u001b[1;34m(self, X, y, sample_weight)\u001b[0m\n\u001b[0;32m    679\u001b[0m \u001b[39mdef\u001b[39;00m \u001b[39mfit\u001b[39m(\u001b[39mself\u001b[39m, X, y, sample_weight\u001b[39m=\u001b[39m\u001b[39mNone\u001b[39;00m):\n\u001b[0;32m    680\u001b[0m     \u001b[39m\"\"\"Fit Naive Bayes classifier according to X, y.\u001b[39;00m\n\u001b[0;32m    681\u001b[0m \n\u001b[0;32m    682\u001b[0m \u001b[39m    Parameters\u001b[39;00m\n\u001b[1;32m   (...)\u001b[0m\n\u001b[0;32m    697\u001b[0m \u001b[39m        Returns the instance itself.\u001b[39;00m\n\u001b[0;32m    698\u001b[0m \u001b[39m    \"\"\"\u001b[39;00m\n\u001b[1;32m--> 699\u001b[0m     X, y \u001b[39m=\u001b[39m \u001b[39mself\u001b[39;49m\u001b[39m.\u001b[39;49m_check_X_y(X, y)\n\u001b[0;32m    700\u001b[0m     _, n_features \u001b[39m=\u001b[39m X\u001b[39m.\u001b[39mshape\n\u001b[0;32m    702\u001b[0m     labelbin \u001b[39m=\u001b[39m LabelBinarizer()\n",
      "File \u001b[1;32mc:\\Python\\lib\\site-packages\\sklearn\\naive_bayes.py:1348\u001b[0m, in \u001b[0;36mCategoricalNB._check_X_y\u001b[1;34m(self, X, y, reset)\u001b[0m\n\u001b[0;32m   1347\u001b[0m \u001b[39mdef\u001b[39;00m \u001b[39m_check_X_y\u001b[39m(\u001b[39mself\u001b[39m, X, y, reset\u001b[39m=\u001b[39m\u001b[39mTrue\u001b[39;00m):\n\u001b[1;32m-> 1348\u001b[0m     X, y \u001b[39m=\u001b[39m \u001b[39mself\u001b[39;49m\u001b[39m.\u001b[39;49m_validate_data(\n\u001b[0;32m   1349\u001b[0m         X, y, dtype\u001b[39m=\u001b[39;49m\u001b[39m\"\u001b[39;49m\u001b[39mint\u001b[39;49m\u001b[39m\"\u001b[39;49m, accept_sparse\u001b[39m=\u001b[39;49m\u001b[39mFalse\u001b[39;49;00m, force_all_finite\u001b[39m=\u001b[39;49m\u001b[39mTrue\u001b[39;49;00m, reset\u001b[39m=\u001b[39;49mreset\n\u001b[0;32m   1350\u001b[0m     )\n\u001b[0;32m   1351\u001b[0m     check_non_negative(X, \u001b[39m\"\u001b[39m\u001b[39mCategoricalNB (input X)\u001b[39m\u001b[39m\"\u001b[39m)\n\u001b[0;32m   1352\u001b[0m     \u001b[39mreturn\u001b[39;00m X, y\n",
      "File \u001b[1;32mc:\\Python\\lib\\site-packages\\sklearn\\base.py:596\u001b[0m, in \u001b[0;36mBaseEstimator._validate_data\u001b[1;34m(self, X, y, reset, validate_separately, **check_params)\u001b[0m\n\u001b[0;32m    594\u001b[0m         y \u001b[39m=\u001b[39m check_array(y, input_name\u001b[39m=\u001b[39m\u001b[39m\"\u001b[39m\u001b[39my\u001b[39m\u001b[39m\"\u001b[39m, \u001b[39m*\u001b[39m\u001b[39m*\u001b[39mcheck_y_params)\n\u001b[0;32m    595\u001b[0m     \u001b[39melse\u001b[39;00m:\n\u001b[1;32m--> 596\u001b[0m         X, y \u001b[39m=\u001b[39m check_X_y(X, y, \u001b[39m*\u001b[39m\u001b[39m*\u001b[39mcheck_params)\n\u001b[0;32m    597\u001b[0m     out \u001b[39m=\u001b[39m X, y\n\u001b[0;32m    599\u001b[0m \u001b[39mif\u001b[39;00m \u001b[39mnot\u001b[39;00m no_val_X \u001b[39mand\u001b[39;00m check_params\u001b[39m.\u001b[39mget(\u001b[39m\"\u001b[39m\u001b[39mensure_2d\u001b[39m\u001b[39m\"\u001b[39m, \u001b[39mTrue\u001b[39;00m):\n",
      "File \u001b[1;32mc:\\Python\\lib\\site-packages\\sklearn\\utils\\validation.py:1074\u001b[0m, in \u001b[0;36mcheck_X_y\u001b[1;34m(X, y, accept_sparse, accept_large_sparse, dtype, order, copy, force_all_finite, ensure_2d, allow_nd, multi_output, ensure_min_samples, ensure_min_features, y_numeric, estimator)\u001b[0m\n\u001b[0;32m   1069\u001b[0m         estimator_name \u001b[39m=\u001b[39m _check_estimator_name(estimator)\n\u001b[0;32m   1070\u001b[0m     \u001b[39mraise\u001b[39;00m \u001b[39mValueError\u001b[39;00m(\n\u001b[0;32m   1071\u001b[0m         \u001b[39mf\u001b[39m\u001b[39m\"\u001b[39m\u001b[39m{\u001b[39;00mestimator_name\u001b[39m}\u001b[39;00m\u001b[39m requires y to be passed, but the target y is None\u001b[39m\u001b[39m\"\u001b[39m\n\u001b[0;32m   1072\u001b[0m     )\n\u001b[1;32m-> 1074\u001b[0m X \u001b[39m=\u001b[39m check_array(\n\u001b[0;32m   1075\u001b[0m     X,\n\u001b[0;32m   1076\u001b[0m     accept_sparse\u001b[39m=\u001b[39;49maccept_sparse,\n\u001b[0;32m   1077\u001b[0m     accept_large_sparse\u001b[39m=\u001b[39;49maccept_large_sparse,\n\u001b[0;32m   1078\u001b[0m     dtype\u001b[39m=\u001b[39;49mdtype,\n\u001b[0;32m   1079\u001b[0m     order\u001b[39m=\u001b[39;49morder,\n\u001b[0;32m   1080\u001b[0m     copy\u001b[39m=\u001b[39;49mcopy,\n\u001b[0;32m   1081\u001b[0m     force_all_finite\u001b[39m=\u001b[39;49mforce_all_finite,\n\u001b[0;32m   1082\u001b[0m     ensure_2d\u001b[39m=\u001b[39;49mensure_2d,\n\u001b[0;32m   1083\u001b[0m     allow_nd\u001b[39m=\u001b[39;49mallow_nd,\n\u001b[0;32m   1084\u001b[0m     ensure_min_samples\u001b[39m=\u001b[39;49mensure_min_samples,\n\u001b[0;32m   1085\u001b[0m     ensure_min_features\u001b[39m=\u001b[39;49mensure_min_features,\n\u001b[0;32m   1086\u001b[0m     estimator\u001b[39m=\u001b[39;49mestimator,\n\u001b[0;32m   1087\u001b[0m     input_name\u001b[39m=\u001b[39;49m\u001b[39m\"\u001b[39;49m\u001b[39mX\u001b[39;49m\u001b[39m\"\u001b[39;49m,\n\u001b[0;32m   1088\u001b[0m )\n\u001b[0;32m   1090\u001b[0m y \u001b[39m=\u001b[39m _check_y(y, multi_output\u001b[39m=\u001b[39mmulti_output, y_numeric\u001b[39m=\u001b[39my_numeric, estimator\u001b[39m=\u001b[39mestimator)\n\u001b[0;32m   1092\u001b[0m check_consistent_length(X, y)\n",
      "File \u001b[1;32mc:\\Python\\lib\\site-packages\\sklearn\\utils\\validation.py:822\u001b[0m, in \u001b[0;36mcheck_array\u001b[1;34m(array, accept_sparse, accept_large_sparse, dtype, order, copy, force_all_finite, ensure_2d, allow_nd, ensure_min_samples, ensure_min_features, estimator, input_name)\u001b[0m\n\u001b[0;32m    820\u001b[0m \u001b[39mif\u001b[39;00m sp\u001b[39m.\u001b[39missparse(array):\n\u001b[0;32m    821\u001b[0m     _ensure_no_complex_data(array)\n\u001b[1;32m--> 822\u001b[0m     array \u001b[39m=\u001b[39m _ensure_sparse_format(\n\u001b[0;32m    823\u001b[0m         array,\n\u001b[0;32m    824\u001b[0m         accept_sparse\u001b[39m=\u001b[39;49maccept_sparse,\n\u001b[0;32m    825\u001b[0m         dtype\u001b[39m=\u001b[39;49mdtype,\n\u001b[0;32m    826\u001b[0m         copy\u001b[39m=\u001b[39;49mcopy,\n\u001b[0;32m    827\u001b[0m         force_all_finite\u001b[39m=\u001b[39;49mforce_all_finite,\n\u001b[0;32m    828\u001b[0m         accept_large_sparse\u001b[39m=\u001b[39;49maccept_large_sparse,\n\u001b[0;32m    829\u001b[0m         estimator_name\u001b[39m=\u001b[39;49mestimator_name,\n\u001b[0;32m    830\u001b[0m         input_name\u001b[39m=\u001b[39;49minput_name,\n\u001b[0;32m    831\u001b[0m     )\n\u001b[0;32m    832\u001b[0m \u001b[39melse\u001b[39;00m:\n\u001b[0;32m    833\u001b[0m     \u001b[39m# If np.array(..) gives ComplexWarning, then we convert the warning\u001b[39;00m\n\u001b[0;32m    834\u001b[0m     \u001b[39m# to an error. This is needed because specifying a non complex\u001b[39;00m\n\u001b[0;32m    835\u001b[0m     \u001b[39m# dtype to the function converts complex to real dtype,\u001b[39;00m\n\u001b[0;32m    836\u001b[0m     \u001b[39m# thereby passing the test made in the lines following the scope\u001b[39;00m\n\u001b[0;32m    837\u001b[0m     \u001b[39m# of warnings context manager.\u001b[39;00m\n\u001b[0;32m    838\u001b[0m     \u001b[39mwith\u001b[39;00m warnings\u001b[39m.\u001b[39mcatch_warnings():\n",
      "File \u001b[1;32mc:\\Python\\lib\\site-packages\\sklearn\\utils\\validation.py:512\u001b[0m, in \u001b[0;36m_ensure_sparse_format\u001b[1;34m(spmatrix, accept_sparse, dtype, copy, force_all_finite, accept_large_sparse, estimator_name, input_name)\u001b[0m\n\u001b[0;32m    509\u001b[0m _check_large_sparse(spmatrix, accept_large_sparse)\n\u001b[0;32m    511\u001b[0m \u001b[39mif\u001b[39;00m accept_sparse \u001b[39mis\u001b[39;00m \u001b[39mFalse\u001b[39;00m:\n\u001b[1;32m--> 512\u001b[0m     \u001b[39mraise\u001b[39;00m \u001b[39mTypeError\u001b[39;00m(\n\u001b[0;32m    513\u001b[0m         \u001b[39m\"\u001b[39m\u001b[39mA sparse matrix was passed, but dense \u001b[39m\u001b[39m\"\u001b[39m\n\u001b[0;32m    514\u001b[0m         \u001b[39m\"\u001b[39m\u001b[39mdata is required. Use X.toarray() to \u001b[39m\u001b[39m\"\u001b[39m\n\u001b[0;32m    515\u001b[0m         \u001b[39m\"\u001b[39m\u001b[39mconvert to a dense numpy array.\u001b[39m\u001b[39m\"\u001b[39m\n\u001b[0;32m    516\u001b[0m     )\n\u001b[0;32m    517\u001b[0m \u001b[39melif\u001b[39;00m \u001b[39misinstance\u001b[39m(accept_sparse, (\u001b[39mlist\u001b[39m, \u001b[39mtuple\u001b[39m)):\n\u001b[0;32m    518\u001b[0m     \u001b[39mif\u001b[39;00m \u001b[39mlen\u001b[39m(accept_sparse) \u001b[39m==\u001b[39m \u001b[39m0\u001b[39m:\n",
      "\u001b[1;31mTypeError\u001b[0m: A sparse matrix was passed, but dense data is required. Use X.toarray() to convert to a dense numpy array."
     ]
    }
   ],
   "source": [
    "# menghitung nilai akurasi dari classifier\n",
    "for name in classifiers.keys():\n",
    "    classifiers[name].fit(x_train, y_train)\n",
    "    y_pred = classifiers[name].predict(x_valid)\n",
    "    print(f\"Akurasi dari {name} : \",metrics.accuracy_score(y_valid, y_pred))"
   ]
  },
  {
   "cell_type": "code",
   "execution_count": null,
   "metadata": {},
   "outputs": [],
   "source": [
    "#menghitung nilai recall dari classifier\n",
    "for name in classifiers.keys():\n",
    "    classifiers[name].fit(x_train, y_train)\n",
    "    y_pred = classifiers[name].predict(x_valid)\n",
    "    print(f\"Recall dari {name} : \",metrics.recall_score(y_valid, y_pred, average='weighted'))"
   ]
  },
  {
   "cell_type": "code",
   "execution_count": null,
   "metadata": {},
   "outputs": [],
   "source": [
    "#menghitung nilai precission dari classifier\n",
    "for name in classifiers.keys():\n",
    "    classifiers[name].fit(x_train, y_train)\n",
    "    y_pred = classifiers[name].predict(x_valid)\n",
    "    print(f\"Precission dari {name} : \",metrics.precision_score(y_valid, y_pred, average='weighted'))"
   ]
  },
  {
   "cell_type": "code",
   "execution_count": null,
   "metadata": {},
   "outputs": [],
   "source": [
    "# menghitung nilai f1 score dari classifier\n",
    "for name in classifiers.keys():\n",
    "    classifiers[name].fit(x_train, y_train)\n",
    "    y_pred = classifiers[name].predict(x_valid)\n",
    "    print(f\"F1 Score dari {name} : \",metrics.f1_score(y_valid, y_pred, average='weighted'))"
   ]
  },
  {
   "cell_type": "markdown",
   "metadata": {},
   "source": [
    "Deployment data"
   ]
  },
  {
   "cell_type": "code",
   "execution_count": null,
   "metadata": {},
   "outputs": [],
   "source": [
    "data['prediction'] = classifiers['Multinomial Naive Bayes'].predict(word_tfidf)\n",
    "data.head(10)"
   ]
  },
  {
   "cell_type": "code",
   "execution_count": null,
   "metadata": {},
   "outputs": [],
   "source": [
    "# Plotting Pie\n",
    "def pct_pie(pct, allvals):\n",
    "    absolute = int(pct/100.*np.sum(allvals))\n",
    "    return \"{:.1f}%\\n{:d}\".format(pct, absolute)\n",
    "\n",
    "sentimen = data['Content'].groupby(data['prediction']).count().values\n",
    "\n",
    "plt.figure(figsize = (8,8))\n",
    "plt.pie(sentimen, explode=(0,0,0.1), labels=['Negatif','Netral','Positif'], shadow=True,\n",
    "        autopct=lambda pct: pct_pie(pct, sentimen),startangle=90)\n",
    "plt.title('Perbandingan Sentiment',fontsize=18)\n",
    "plt.axis('equal')\n",
    "plt.legend(fontsize=11)\n",
    "plt.show()"
   ]
  },
  {
   "cell_type": "code",
   "execution_count": null,
   "metadata": {},
   "outputs": [],
   "source": [
    "# Melihat banyak Tweet perhari berdasarkan sentiment\n",
    "data['Date'] = pd.to_datetime(data['Date'])\n",
    "tph = data['Content'].groupby([data['Date'].dt.date, data['prediction']]).count()\n",
    "frek = tph.values\n",
    "\n",
    "# To Data Frame\n",
    "tanggal = [ i for i, j in tph.index.tolist() ]\n",
    "senti = [ j for i, j in tph.index.tolist() ]\n",
    "sent = pd.DataFrame({'Date':tanggal,'Sentiment':senti, 'Frekuensi':frek})"
   ]
  },
  {
   "cell_type": "code",
   "execution_count": null,
   "metadata": {},
   "outputs": [],
   "source": [
    "# Plotting line\n",
    "plt.figure(figsize = (10,10))\n",
    "sns.lineplot(x='Date',y='Frekuensi',hue='Sentiment',data=sent)\n",
    "plt.title('Banyak Tweet per Hari',fontsize=20)\n",
    "plt.xticks(rotation=45)\n",
    "plt.xlabel('Date',fontsize=16)\n",
    "plt.ylabel('Frekuensi',fontsize=16)\n",
    "plt.legend(['Negatif','Netral','Positif'])\n",
    "plt.show()"
   ]
  },
  {
   "cell_type": "code",
   "execution_count": null,
   "metadata": {},
   "outputs": [],
   "source": [
    "####################\n",
    "## Saving Objects ##\n",
    "####################\n",
    "\n",
    "# if not os.path.isdir('output'):\n",
    "#     os.mkdir('output')\n",
    "\n",
    "if not os.path.isdir('model'):\n",
    "    os.mkdir('model')\n",
    "\n",
    "# Export data baru\n",
    "# Saving Model\n",
    "for name, model in classifiers.items():\n",
    "    pickle.dump(model, open(f\"hasil visualisasi\\[TRAINED] {name}_{datetime.today().strftime('%Y-%m-%d')}.pickle\", \"wb\"))\n",
    "    \n",
    "# Saving Vectorizer\n",
    "# pickle.dump(vectorizer_tfidf, open(\"../model/vectorizer/vectorizer_tfidf.pickle\", \"wb\"))\n",
    "# pickle.dump(word_tfidf, open(\"../model/vectorizer/word_tfidf.pickle\", \"wb\"))"
   ]
  }
 ],
 "metadata": {
  "kernelspec": {
   "display_name": "Python 3.10.4 64-bit",
   "language": "python",
   "name": "python3"
  },
  "language_info": {
   "codemirror_mode": {
    "name": "ipython",
    "version": 3
   },
   "file_extension": ".py",
   "mimetype": "text/x-python",
   "name": "python",
   "nbconvert_exporter": "python",
   "pygments_lexer": "ipython3",
   "version": "3.10.4"
  },
  "orig_nbformat": 4,
  "vscode": {
   "interpreter": {
    "hash": "52634da84371cba311ea128a5ea7cdc41ff074b781779e754b270ff9f8153cee"
   }
  }
 },
 "nbformat": 4,
 "nbformat_minor": 2
}
