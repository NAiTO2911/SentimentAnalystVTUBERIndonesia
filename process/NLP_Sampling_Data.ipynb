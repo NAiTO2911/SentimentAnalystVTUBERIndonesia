{
  "cells": [
    {
      "cell_type": "markdown",
      "metadata": {
        "id": "b6WSqJIiguRC"
      },
      "source": [
        "# Sampling Notebook\n",
        "\n",
        "Pada notebook ini akan dilakukan sampling terhadap data sebelum dilakukan labeling secara manual."
      ]
    },
    {
      "cell_type": "markdown",
      "metadata": {
        "id": "Q_uLGZpIguRF"
      },
      "source": [
        "## 1. Import Libraries\n",
        "\n",
        "Import library yang akan digunakan"
      ]
    },
    {
      "cell_type": "code",
      "execution_count": 1,
      "metadata": {
        "id": "pTSEGel3guRF"
      },
      "outputs": [],
      "source": [
        "import numpy as np\n",
        "import pandas as pd\n",
        "\n",
        "from datetime import datetime"
      ]
    },
    {
      "cell_type": "markdown",
      "metadata": {
        "id": "u-6Das-7guRG"
      },
      "source": [
        "## 2. Load Dataset\n",
        "\n",
        "Load data ke memmory menggunakan library pandas."
      ]
    },
    {
      "cell_type": "code",
      "execution_count": 3,
      "metadata": {
        "colab": {
          "base_uri": "https://localhost:8080/"
        },
        "id": "KH0dzFC4guRH",
        "outputId": "1851aaf1-3980-47c5-f2cd-efe1363c4cdc"
      },
      "outputs": [
        {
          "name": "stdout",
          "output_type": "stream",
          "text": [
            "<class 'pandas.core.frame.DataFrame'>\n",
            "RangeIndex: 8778 entries, 0 to 8777\n",
            "Data columns (total 2 columns):\n",
            " #   Column   Non-Null Count  Dtype \n",
            "---  ------   --------------  ----- \n",
            " 0   Date     8778 non-null   object\n",
            " 1   Content  8778 non-null   object\n",
            "dtypes: object(2)\n",
            "memory usage: 137.3+ KB\n"
          ]
        }
      ],
      "source": [
        "## Import data\n",
        "data = pd.read_csv('../output/cleaned_data.csv')\n",
        "data.pop('Index')\n",
        "data.info()"
      ]
    },
    {
      "cell_type": "markdown",
      "metadata": {
        "id": "kEMerKOQguRI"
      },
      "source": [
        "## 2. Drop Duplicate\n",
        "\n",
        "Menghapus data yang berduplikasi"
      ]
    },
    {
      "cell_type": "code",
      "execution_count": 4,
      "metadata": {
        "colab": {
          "base_uri": "https://localhost:8080/"
        },
        "id": "JmprnRL2guRI",
        "outputId": "7a859360-d0fa-48ba-a56c-5fcd92acb057"
      },
      "outputs": [
        {
          "name": "stdout",
          "output_type": "stream",
          "text": [
            "<class 'pandas.core.frame.DataFrame'>\n",
            "Int64Index: 8138 entries, 0 to 8777\n",
            "Data columns (total 2 columns):\n",
            " #   Column   Non-Null Count  Dtype \n",
            "---  ------   --------------  ----- \n",
            " 0   Date     8138 non-null   object\n",
            " 1   Content  8138 non-null   object\n",
            "dtypes: object(2)\n",
            "memory usage: 190.7+ KB\n"
          ]
        }
      ],
      "source": [
        "data = data.drop_duplicates('Content')\n",
        "data.info()"
      ]
    },
    {
      "cell_type": "markdown",
      "metadata": {
        "id": "sPFq76dxguRJ"
      },
      "source": [
        "## 3. Sampling\n",
        "\n",
        "Dilakukan sampling menggunakan method `sample` dari library `pandas` sebanyak 700 data.\n",
        "\n",
        "**Note** : Naikan banyak sample agar model yang dibuat lebih baik dan relevant terhadap banyak kasus"
      ]
    },
    {
      "cell_type": "code",
      "execution_count": 13,
      "metadata": {
        "colab": {
          "base_uri": "https://localhost:8080/"
        },
        "id": "QsOLXWIvguRJ",
        "outputId": "0a83d7af-7e1e-40e7-a24e-b7246e0d737b"
      },
      "outputs": [
        {
          "name": "stdout",
          "output_type": "stream",
          "text": [
            "<class 'pandas.core.frame.DataFrame'>\n",
            "Int64Index: 8000 entries, 5116 to 3475\n",
            "Data columns (total 2 columns):\n",
            " #   Column   Non-Null Count  Dtype \n",
            "---  ------   --------------  ----- \n",
            " 0   Date     8000 non-null   object\n",
            " 1   Content  8000 non-null   object\n",
            "dtypes: object(2)\n",
            "memory usage: 187.5+ KB\n"
          ]
        }
      ],
      "source": [
        "BANYAK_SAMPLE_DATA = 8000\n",
        "sample = data.sample(n=BANYAK_SAMPLE_DATA, random_state=2020)\n",
        "sample.info()"
      ]
    },
    {
      "cell_type": "markdown",
      "metadata": {
        "id": "Aq44P2Z1guRK"
      },
      "source": [
        "## 4. Export Sample Dataset\n",
        "\n",
        "Export sample dataset"
      ]
    },
    {
      "cell_type": "code",
      "execution_count": 14,
      "metadata": {
        "id": "Kv2aAxYHguRK"
      },
      "outputs": [],
      "source": [
        "sample.to_csv(f'../output/{datetime.today().strftime(\"%Y-%m-%d\")}_Sample Review.csv')"
      ]
    }
  ],
  "metadata": {
    "colab": {
      "collapsed_sections": [],
      "name": "NLP - Sampling Data",
      "provenance": []
    },
    "interpreter": {
      "hash": "2af99e9abd19458c3688e958890ae8e14b6765a630e276980337c00f525d2285"
    },
    "kernelspec": {
      "display_name": "Python 3.9.7 ('base')",
      "language": "python",
      "name": "python3"
    },
    "language_info": {
      "codemirror_mode": {
        "name": "ipython",
        "version": 3
      },
      "file_extension": ".py",
      "mimetype": "text/x-python",
      "name": "python",
      "nbconvert_exporter": "python",
      "pygments_lexer": "ipython3",
      "version": "3.9.7"
    },
    "orig_nbformat": 2
  },
  "nbformat": 4,
  "nbformat_minor": 0
}
