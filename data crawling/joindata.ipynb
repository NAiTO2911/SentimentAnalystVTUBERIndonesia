{
 "cells": [
  {
   "cell_type": "code",
   "execution_count": 9,
   "metadata": {},
   "outputs": [],
   "source": [
    "import pandas as pd\n"
   ]
  },
  {
   "cell_type": "code",
   "execution_count": 10,
   "metadata": {},
   "outputs": [
    {
     "name": "stdout",
     "output_type": "stream",
     "text": [
      "Merging multiple CSV files...\n",
      "                           Date  \\\n",
      "0     2022-04-08 02:26:38+00:00   \n",
      "1     2022-04-08 01:54:44+00:00   \n",
      "2     2022-04-08 01:51:28+00:00   \n",
      "3     2022-04-08 01:40:46+00:00   \n",
      "4     2022-04-08 00:35:13+00:00   \n",
      "...                         ...   \n",
      "8341  2022-07-10 16:11:29+00:00   \n",
      "8342  2022-07-10 16:10:34+00:00   \n",
      "8343  2022-07-10 16:08:52+00:00   \n",
      "8344  2022-07-10 16:08:28+00:00   \n",
      "8345  2022-07-10 16:07:41+00:00   \n",
      "\n",
      "                                                Content  \n",
      "0     b'@MythiaVTuber canggung kenapa \\xf0\\x9f\\x98\\x...  \n",
      "1      b'@MythiaVTuber Apa aja bebas yang penting enak'  \n",
      "2     b'@MythiaVTuber Waduh, abang-abangan nih\\xf0\\x...  \n",
      "3      b'@MythiaVTuber ini kak https://t.co/zwEAdqagXV'  \n",
      "4        b'@MythiaVTuber Astaga kalian berdua aowkkwkw'  \n",
      "...                                                 ...  \n",
      "8341  b'@MirzaPandiangan @royal_amv @kobokanaeru @mo...  \n",
      "8342     b'@kobokanaeru @Maad_R bilang aja mau dipake.'  \n",
      "8343  b'@MentalMuHancur @kobokanaeru Selamat ulang t...  \n",
      "8344  b'celamatt babyy kobo ku @kobokanaeru \\xf0\\x9f...  \n",
      "8345  b'@kobokanaeru yeayyy selamat ojou-sama \\xf0\\x...  \n",
      "\n",
      "[8346 rows x 2 columns]\n"
     ]
    }
   ],
   "source": [
    "import pandas as pd\n",
    "\n",
    "file1 = \"datacrawling1.csv\"\n",
    "file2 = \"datacrawling2.csv\"\n",
    "\n",
    "print(\"Merging multiple CSV files...\")\n",
    "\n",
    "# merge\n",
    "dataFrame = pd.concat(\n",
    "   map(pd.read_csv, [file1, file2]), ignore_index=True)\n",
    "print(dataFrame)"
   ]
  },
  {
   "cell_type": "code",
   "execution_count": 8,
   "metadata": {},
   "outputs": [],
   "source": [
    "# Fungsi save hasil data yang sudah digabungkan\n",
    "dataFrame.to_csv('bigdata.csv')"
   ]
  }
 ],
 "metadata": {
  "kernelspec": {
   "display_name": "Python 3.10.4 64-bit",
   "language": "python",
   "name": "python3"
  },
  "language_info": {
   "codemirror_mode": {
    "name": "ipython",
    "version": 3
   },
   "file_extension": ".py",
   "mimetype": "text/x-python",
   "name": "python",
   "nbconvert_exporter": "python",
   "pygments_lexer": "ipython3",
   "version": "3.10.4"
  },
  "orig_nbformat": 4,
  "vscode": {
   "interpreter": {
    "hash": "52634da84371cba311ea128a5ea7cdc41ff074b781779e754b270ff9f8153cee"
   }
  }
 },
 "nbformat": 4,
 "nbformat_minor": 2
}
